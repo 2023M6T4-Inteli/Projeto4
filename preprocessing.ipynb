{
 "cells": [
  {
   "cell_type": "code",
   "execution_count": 1,
   "id": "978d92ca",
   "metadata": {},
   "outputs": [
    {
     "name": "stderr",
     "output_type": "stream",
     "text": [
      "[nltk_data] Downloading package punkt to\n",
      "[nltk_data]     C:\\Users\\Inteli\\AppData\\Roaming\\nltk_data...\n",
      "[nltk_data]   Package punkt is already up-to-date!\n",
      "[nltk_data] Downloading package stopwords to\n",
      "[nltk_data]     C:\\Users\\Inteli\\AppData\\Roaming\\nltk_data...\n",
      "[nltk_data]   Package stopwords is already up-to-date!\n"
     ]
    }
   ],
   "source": [
    "import nltk \n",
    "import pandas as pd\n",
    "import numpy as np\n",
    "from nltk.corpus import stopwords\n",
    "from nltk.tokenize import word_tokenize\n",
    "nltk.download('punkt') \n",
    "nltk.download('stopwords') \n",
    "stop_words = set(stopwords.words('portuguese'))"
   ]
  },
  {
   "cell_type": "code",
   "execution_count": 5,
   "id": "8ec6e320",
   "metadata": {},
   "outputs": [],
   "source": [
    "df = pd.read_csv(\"output/df_final.csv\")"
   ]
  },
  {
   "cell_type": "code",
   "execution_count": 11,
   "id": "63671624",
   "metadata": {},
   "outputs": [],
   "source": [
    "def preprocessing_coments(frase):\n",
    "    palavras = frase.split() #divide as frases em palavras\n",
    "    filtered_words = [word for word in palavras if word.lower() not in stop_words and not word.startswith('@')] #coloca todas as letras em minúsculas (lower) e remove as stop words\n",
    "    tokens = word_tokenize(\" \".join(filtered_words)) #tokeniza as palavras e organiza cada comentário em uma lista de palavras\n",
    "    return tokens"
   ]
  },
  {
   "cell_type": "code",
   "execution_count": 12,
   "id": "9b05e947",
   "metadata": {},
   "outputs": [
    {
     "name": "stdout",
     "output_type": "stream",
     "text": [
      "              dataPublicada                     autor   \n",
      "0     \"2022-03-04 08:36:00\"                lmviapiana  \\\n",
      "1     \"2022-03-03 21:10:00\"              vanilson_dos   \n",
      "2     \"2022-03-03 20:54:00\"               ricktolledo   \n",
      "3     \"2022-03-03 18:56:00\"          claudiofalavinha   \n",
      "4     \"2022-03-03 16:11:00\"     paularodrigues.invest   \n",
      "...                     ...                       ...   \n",
      "6351  \"2022-11-30 07:48:00\"  perspectiveinvestimentos   \n",
      "6352  \"2022-11-30 08:42:00\"              marlenenelso   \n",
      "6353  \"2022-11-30 11:27:00\"            eduardocolares   \n",
      "6354  \"2022-11-30 12:18:00\"             jayipacderota   \n",
      "6355  \"2022-11-30 14:27:00\"                 bfmarilia   \n",
      "\n",
      "                                                  texto sentimento   \n",
      "0                                  Minuto touro de ouro   POSITIVE  \\\n",
      "1                                      @ricktolledo Sim    NEUTRAL   \n",
      "2     Queria saber se a Btg banking é a própria btg ...   POSITIVE   \n",
      "3                                        @thaotinhasbfc    NEUTRAL   \n",
      "4                                                  👏👏👏👏    NEUTRAL   \n",
      "...                                                 ...        ...   \n",
      "6351                               Excelente explicação   POSITIVE   \n",
      "6352  Porque  o brg tá  diminuído  o limite  do cart...   NEGATIVE   \n",
      "6353               Atendam o telefone pelo amor de Deus   POSITIVE   \n",
      "6354  Estou muito grato por todo o esforço que você ...   POSITIVE   \n",
      "6355  @btgpactual pq o morning call não está mais ap...   NEGATIVE   \n",
      "\n",
      "     tipoInteracao  anomalia  probabilidadeAnomalia   \n",
      "0       comentário         0                     38  \\\n",
      "1         resposta         0                     17   \n",
      "2       comentário         0                     20   \n",
      "3       comentário         0                     41   \n",
      "4       comentário         0                     15   \n",
      "...            ...       ...                    ...   \n",
      "6351    comentário         0                     15   \n",
      "6352    comentário         1                     53   \n",
      "6353    comentário         0                     28   \n",
      "6354    comentário         1                     52   \n",
      "6355    comentário         0                     28   \n",
      "\n",
      "                                               linkPost  processado   \n",
      "0     https://www.instagram.com/p/CapXhB5Lvas/#17977...           0  \\\n",
      "1     https://www.instagram.com/p/CapXhB5Lvas/#17842...           0   \n",
      "2     https://www.instagram.com/p/CapXhB5Lvas/#17935...           0   \n",
      "3     https://www.instagram.com/p/CapXhB5Lvas/#17942...           0   \n",
      "4     https://www.instagram.com/p/CaptWrtOT8U/#17943...           0   \n",
      "...                                                 ...         ...   \n",
      "6351  https://www.instagram.com/p/ClgWR-Ov2H1/#18001...           0   \n",
      "6352  https://www.instagram.com/p/ClgWR-Ov2H1/#17878...           0   \n",
      "6353  https://www.instagram.com/p/CllkSBOuKlJ/#17960...           0   \n",
      "6354  https://www.instagram.com/p/CllkSBOuKlJ/#17960...           0   \n",
      "6355  https://www.instagram.com/p/CllkSBOuKlJ/#17975...           0   \n",
      "\n",
      "      contemHyperlink                              Frases_sem_stop_words  \n",
      "0                   0                              [Minuto, touro, ouro]  \n",
      "1                   0                                              [Sim]  \n",
      "2                   0  [Queria, saber, Btg, banking, própria, btg, ad...  \n",
      "3                   0                                                 []  \n",
      "4                   0                                             [👏👏👏👏]  \n",
      "...               ...                                                ...  \n",
      "6351                0                            [Excelente, explicação]  \n",
      "6352                0  [Porque, brg, tá, diminuído, limite, cartão, s...  \n",
      "6353                0                    [Atendam, telefone, amor, Deus]  \n",
      "6354                0  [grato, todo, esforço, rendeu, investimento, R...  \n",
      "6355                0  [pq, morning, call, aparecendo, Spotify, atual...  \n",
      "\n",
      "[6356 rows x 11 columns]\n"
     ]
    }
   ],
   "source": [
    "df['Frases_sem_stop_words'] = df['texto'].apply(preprocessing_coments) \n",
    "print(df)"
   ]
  },
  {
   "cell_type": "code",
   "execution_count": 13,
   "id": "a633d094",
   "metadata": {},
   "outputs": [],
   "source": [
    "df.to_csv('output\\df_semstopwords.csv',encoding='utf-8', index=False, header=True, )"
   ]
  },
  {
   "cell_type": "code",
   "execution_count": null,
   "id": "e83f198a",
   "metadata": {},
   "outputs": [],
   "source": []
  }
 ],
 "metadata": {
  "kernelspec": {
   "display_name": "Python 3 (ipykernel)",
   "language": "python",
   "name": "python3"
  },
  "language_info": {
   "codemirror_mode": {
    "name": "ipython",
    "version": 3
   },
   "file_extension": ".py",
   "mimetype": "text/x-python",
   "name": "python",
   "nbconvert_exporter": "python",
   "pygments_lexer": "ipython3",
   "version": "3.11.3"
  }
 },
 "nbformat": 4,
 "nbformat_minor": 5
}
