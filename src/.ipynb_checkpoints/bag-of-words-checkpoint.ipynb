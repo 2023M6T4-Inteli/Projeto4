{
 "cells": [
  {
   "cell_type": "markdown",
   "id": "648393a5",
   "metadata": {},
   "source": [
    "# Pipeline e Bag of Words"
   ]
  },
  {
   "cell_type": "markdown",
   "id": "e30df797",
   "metadata": {},
   "source": [
    "Neste notebook serão feitas as transformações básicas no dataset. O objetivo com este notebook é gerar um csv que já contém todo o texto tokenizado e sem stop words. Além disso, sera gerado o resultado do modelo Bag of Words.\n",
    "Na imagem abaixo, contém um diagrama de como essas etapas funcionam e no decorrer do notebook será entrado em mais detalhes sobre cada etapa específica."
   ]
  },
  {
   "cell_type": "markdown",
   "id": "18578362",
   "metadata": {},
   "source": [
    "## Importando as bibliotecas "
   ]
  },
  {
   "cell_type": "markdown",
   "id": "8ca54d5f",
   "metadata": {},
   "source": [
    "Nesta etapa são importadas e baixadas as bibliotecas e pacotes das mesmas, necessárias para as análises, gráficos, funções e para gerar o modelo Bag of Words."
   ]
  },
  {
   "cell_type": "code",
   "execution_count": 10,
   "id": "073d92eb",
   "metadata": {
    "scrolled": true
   },
   "outputs": [
    {
     "name": "stdout",
     "output_type": "stream",
     "text": [
      "Requirement already satisfied: openpyxl in c:\\users\\eduar\\appdata\\local\\programs\\python\\python311\\lib\\site-packages (3.1.2)Note: you may need to restart the kernel to use updated packages.\n"
     ]
    },
    {
     "name": "stderr",
     "output_type": "stream",
     "text": [
      "\n",
      "[notice] A new release of pip is available: 23.1.1 -> 23.1.2\n",
      "[notice] To update, run: python.exe -m pip install --upgrade pip\n"
     ]
    },
    {
     "name": "stdout",
     "output_type": "stream",
     "text": [
      "\n",
      "Requirement already satisfied: et-xmlfile in c:\\users\\eduar\\appdata\\local\\programs\\python\\python311\\lib\\site-packages (from openpyxl) (1.1.0)\n"
     ]
    }
   ],
   "source": [
    "pip install openpyxl\n"
   ]
  },
  {
   "cell_type": "code",
   "execution_count": 11,
   "id": "90884182",
   "metadata": {},
   "outputs": [
    {
     "name": "stdout",
     "output_type": "stream",
     "text": [
      "Requirement already satisfied: scikit-learn in c:\\users\\eduar\\appdata\\local\\programs\\python\\python311\\lib\\site-packages (1.2.2)\n",
      "Requirement already satisfied: numpy>=1.17.3 in c:\\users\\eduar\\appdata\\local\\programs\\python\\python311\\lib\\site-packages (from scikit-learn) (1.23.5)\n",
      "Requirement already satisfied: scipy>=1.3.2 in c:\\users\\eduar\\appdata\\local\\programs\\python\\python311\\lib\\site-packages (from scikit-learn) (1.10.1)\n",
      "Requirement already satisfied: joblib>=1.1.1 in c:\\users\\eduar\\appdata\\local\\programs\\python\\python311\\lib\\site-packages (from scikit-learn) (1.2.0)\n",
      "Requirement already satisfied: threadpoolctl>=2.0.0 in c:\\users\\eduar\\appdata\\local\\programs\\python\\python311\\lib\\site-packages (from scikit-learn) (3.1.0)\n",
      "Note: you may need to restart the kernel to use updated packages.\n"
     ]
    },
    {
     "name": "stderr",
     "output_type": "stream",
     "text": [
      "\n",
      "[notice] A new release of pip is available: 23.1.1 -> 23.1.2\n",
      "[notice] To update, run: python.exe -m pip install --upgrade pip\n"
     ]
    }
   ],
   "source": [
    "pip install scikit-learn"
   ]
  },
  {
   "cell_type": "code",
   "execution_count": 12,
   "id": "792b6425",
   "metadata": {
    "scrolled": true
   },
   "outputs": [
    {
     "name": "stdout",
     "output_type": "stream",
     "text": [
      "Note: you may need to restart the kernel to use updated packages.\n"
     ]
    },
    {
     "name": "stderr",
     "output_type": "stream",
     "text": [
      "\n",
      "[notice] A new release of pip is available: 23.1.1 -> 23.1.2\n",
      "[notice] To update, run: python.exe -m pip install --upgrade pip\n"
     ]
    },
    {
     "name": "stdout",
     "output_type": "stream",
     "text": [
      "Requirement already satisfied: keras in c:\\users\\eduar\\appdata\\local\\programs\\python\\python311\\lib\\site-packages (2.12.0)\n"
     ]
    }
   ],
   "source": [
    "pip install keras"
   ]
  },
  {
   "cell_type": "code",
   "execution_count": 13,
   "id": "6471d723",
   "metadata": {},
   "outputs": [
    {
     "name": "stdout",
     "output_type": "stream",
     "text": [
      "Requirement already satisfied: tensorflow in c:\\users\\eduar\\appdata\\local\\programs\\python\\python311\\lib\\site-packages (2.12.0)\n",
      "Requirement already satisfied: tensorflow-intel==2.12.0 in c:\\users\\eduar\\appdata\\local\\programs\\python\\python311\\lib\\site-packages (from tensorflow) (2.12.0)\n",
      "Requirement already satisfied: absl-py>=1.0.0 in c:\\users\\eduar\\appdata\\local\\programs\\python\\python311\\lib\\site-packages (from tensorflow-intel==2.12.0->tensorflow) (1.4.0)\n",
      "Requirement already satisfied: astunparse>=1.6.0 in c:\\users\\eduar\\appdata\\local\\programs\\python\\python311\\lib\\site-packages (from tensorflow-intel==2.12.0->tensorflow) (1.6.3)\n",
      "Requirement already satisfied: flatbuffers>=2.0 in c:\\users\\eduar\\appdata\\local\\programs\\python\\python311\\lib\\site-packages (from tensorflow-intel==2.12.0->tensorflow) (23.3.3)\n",
      "Requirement already satisfied: gast<=0.4.0,>=0.2.1 in c:\\users\\eduar\\appdata\\local\\programs\\python\\python311\\lib\\site-packages (from tensorflow-intel==2.12.0->tensorflow) (0.4.0)\n",
      "Requirement already satisfied: google-pasta>=0.1.1 in c:\\users\\eduar\\appdata\\local\\programs\\python\\python311\\lib\\site-packages (from tensorflow-intel==2.12.0->tensorflow) (0.2.0)\n",
      "Requirement already satisfied: h5py>=2.9.0 in c:\\users\\eduar\\appdata\\local\\programs\\python\\python311\\lib\\site-packages (from tensorflow-intel==2.12.0->tensorflow) (3.8.0)\n",
      "Requirement already satisfied: jax>=0.3.15 in c:\\users\\eduar\\appdata\\local\\programs\\python\\python311\\lib\\site-packages (from tensorflow-intel==2.12.0->tensorflow) (0.4.8)\n",
      "Requirement already satisfied: libclang>=13.0.0 in c:\\users\\eduar\\appdata\\local\\programs\\python\\python311\\lib\\site-packages (from tensorflow-intel==2.12.0->tensorflow) (16.0.0)\n",
      "Requirement already satisfied: numpy<1.24,>=1.22 in c:\\users\\eduar\\appdata\\local\\programs\\python\\python311\\lib\\site-packages (from tensorflow-intel==2.12.0->tensorflow) (1.23.5)\n",
      "Requirement already satisfied: opt-einsum>=2.3.2 in c:\\users\\eduar\\appdata\\local\\programs\\python\\python311\\lib\\site-packages (from tensorflow-intel==2.12.0->tensorflow) (3.3.0)\n",
      "Requirement already satisfied: packaging in c:\\users\\eduar\\appdata\\roaming\\python\\python311\\site-packages (from tensorflow-intel==2.12.0->tensorflow) (23.1)\n",
      "Requirement already satisfied: protobuf!=4.21.0,!=4.21.1,!=4.21.2,!=4.21.3,!=4.21.4,!=4.21.5,<5.0.0dev,>=3.20.3 in c:\\users\\eduar\\appdata\\local\\programs\\python\\python311\\lib\\site-packages (from tensorflow-intel==2.12.0->tensorflow) (4.22.4)\n",
      "Requirement already satisfied: setuptools in c:\\users\\eduar\\appdata\\local\\programs\\python\\python311\\lib\\site-packages (from tensorflow-intel==2.12.0->tensorflow) (65.5.0)\n",
      "Requirement already satisfied: six>=1.12.0 in c:\\users\\eduar\\appdata\\roaming\\python\\python311\\site-packages (from tensorflow-intel==2.12.0->tensorflow) (1.16.0)\n",
      "Requirement already satisfied: termcolor>=1.1.0 in c:\\users\\eduar\\appdata\\local\\programs\\python\\python311\\lib\\site-packages (from tensorflow-intel==2.12.0->tensorflow) (2.3.0)\n",
      "Requirement already satisfied: typing-extensions>=3.6.6 in c:\\users\\eduar\\appdata\\local\\programs\\python\\python311\\lib\\site-packages (from tensorflow-intel==2.12.0->tensorflow) (4.5.0)\n",
      "Requirement already satisfied: wrapt<1.15,>=1.11.0 in c:\\users\\eduar\\appdata\\local\\programs\\python\\python311\\lib\\site-packages (from tensorflow-intel==2.12.0->tensorflow) (1.14.1)\n",
      "Requirement already satisfied: grpcio<2.0,>=1.24.3 in c:\\users\\eduar\\appdata\\local\\programs\\python\\python311\\lib\\site-packages (from tensorflow-intel==2.12.0->tensorflow) (1.54.0)\n",
      "Requirement already satisfied: tensorboard<2.13,>=2.12 in c:\\users\\eduar\\appdata\\local\\programs\\python\\python311\\lib\\site-packages (from tensorflow-intel==2.12.0->tensorflow) (2.12.3)\n",
      "Requirement already satisfied: tensorflow-estimator<2.13,>=2.12.0 in c:\\users\\eduar\\appdata\\local\\programs\\python\\python311\\lib\\site-packages (from tensorflow-intel==2.12.0->tensorflow) (2.12.0)\n",
      "Requirement already satisfied: keras<2.13,>=2.12.0 in c:\\users\\eduar\\appdata\\local\\programs\\python\\python311\\lib\\site-packages (from tensorflow-intel==2.12.0->tensorflow) (2.12.0)\n",
      "Requirement already satisfied: tensorflow-io-gcs-filesystem>=0.23.1 in c:\\users\\eduar\\appdata\\local\\programs\\python\\python311\\lib\\site-packages (from tensorflow-intel==2.12.0->tensorflow) (0.31.0)\n",
      "Requirement already satisfied: wheel<1.0,>=0.23.0 in c:\\users\\eduar\\appdata\\local\\programs\\python\\python311\\lib\\site-packages (from astunparse>=1.6.0->tensorflow-intel==2.12.0->tensorflow) (0.40.0)\n",
      "Requirement already satisfied: ml-dtypes>=0.0.3 in c:\\users\\eduar\\appdata\\local\\programs\\python\\python311\\lib\\site-packages (from jax>=0.3.15->tensorflow-intel==2.12.0->tensorflow) (0.1.0)\n",
      "Requirement already satisfied: scipy>=1.7 in c:\\users\\eduar\\appdata\\local\\programs\\python\\python311\\lib\\site-packages (from jax>=0.3.15->tensorflow-intel==2.12.0->tensorflow) (1.10.1)\n",
      "Requirement already satisfied: google-auth<3,>=1.6.3 in c:\\users\\eduar\\appdata\\local\\programs\\python\\python311\\lib\\site-packages (from tensorboard<2.13,>=2.12->tensorflow-intel==2.12.0->tensorflow) (2.17.3)\n",
      "Requirement already satisfied: google-auth-oauthlib<1.1,>=0.5 in c:\\users\\eduar\\appdata\\local\\programs\\python\\python311\\lib\\site-packages (from tensorboard<2.13,>=2.12->tensorflow-intel==2.12.0->tensorflow) (1.0.0)\n",
      "Requirement already satisfied: markdown>=2.6.8 in c:\\users\\eduar\\appdata\\local\\programs\\python\\python311\\lib\\site-packages (from tensorboard<2.13,>=2.12->tensorflow-intel==2.12.0->tensorflow) (3.4.3)\n",
      "Requirement already satisfied: requests<3,>=2.21.0 in c:\\users\\eduar\\appdata\\local\\programs\\python\\python311\\lib\\site-packages (from tensorboard<2.13,>=2.12->tensorflow-intel==2.12.0->tensorflow) (2.28.2)\n",
      "Requirement already satisfied: tensorboard-data-server<0.8.0,>=0.7.0 in c:\\users\\eduar\\appdata\\local\\programs\\python\\python311\\lib\\site-packages (from tensorboard<2.13,>=2.12->tensorflow-intel==2.12.0->tensorflow) (0.7.0)\n",
      "Requirement already satisfied: werkzeug>=1.0.1 in c:\\users\\eduar\\appdata\\local\\programs\\python\\python311\\lib\\site-packages (from tensorboard<2.13,>=2.12->tensorflow-intel==2.12.0->tensorflow) (2.3.3)\n",
      "Requirement already satisfied: cachetools<6.0,>=2.0.0 in c:\\users\\eduar\\appdata\\local\\programs\\python\\python311\\lib\\site-packages (from google-auth<3,>=1.6.3->tensorboard<2.13,>=2.12->tensorflow-intel==2.12.0->tensorflow) (5.3.0)\n",
      "Requirement already satisfied: pyasn1-modules>=0.2.1 in c:\\users\\eduar\\appdata\\local\\programs\\python\\python311\\lib\\site-packages (from google-auth<3,>=1.6.3->tensorboard<2.13,>=2.12->tensorflow-intel==2.12.0->tensorflow) (0.3.0)\n",
      "Requirement already satisfied: rsa<5,>=3.1.4 in c:\\users\\eduar\\appdata\\local\\programs\\python\\python311\\lib\\site-packages (from google-auth<3,>=1.6.3->tensorboard<2.13,>=2.12->tensorflow-intel==2.12.0->tensorflow) (4.9)\n",
      "Requirement already satisfied: requests-oauthlib>=0.7.0 in c:\\users\\eduar\\appdata\\local\\programs\\python\\python311\\lib\\site-packages (from google-auth-oauthlib<1.1,>=0.5->tensorboard<2.13,>=2.12->tensorflow-intel==2.12.0->tensorflow) (1.3.1)\n",
      "Requirement already satisfied: charset-normalizer<4,>=2 in c:\\users\\eduar\\appdata\\local\\programs\\python\\python311\\lib\\site-packages (from requests<3,>=2.21.0->tensorboard<2.13,>=2.12->tensorflow-intel==2.12.0->tensorflow) (3.1.0)\n",
      "Requirement already satisfied: idna<4,>=2.5 in c:\\users\\eduar\\appdata\\local\\programs\\python\\python311\\lib\\site-packages (from requests<3,>=2.21.0->tensorboard<2.13,>=2.12->tensorflow-intel==2.12.0->tensorflow) (3.4)\n",
      "Requirement already satisfied: urllib3<1.27,>=1.21.1 in c:\\users\\eduar\\appdata\\local\\programs\\python\\python311\\lib\\site-packages (from requests<3,>=2.21.0->tensorboard<2.13,>=2.12->tensorflow-intel==2.12.0->tensorflow) (1.26.15)\n",
      "Requirement already satisfied: certifi>=2017.4.17 in c:\\users\\eduar\\appdata\\local\\programs\\python\\python311\\lib\\site-packages (from requests<3,>=2.21.0->tensorboard<2.13,>=2.12->tensorflow-intel==2.12.0->tensorflow) (2022.12.7)\n",
      "Requirement already satisfied: MarkupSafe>=2.1.1 in c:\\users\\eduar\\appdata\\local\\programs\\python\\python311\\lib\\site-packages (from werkzeug>=1.0.1->tensorboard<2.13,>=2.12->tensorflow-intel==2.12.0->tensorflow) (2.1.2)\n",
      "Requirement already satisfied: pyasn1<0.6.0,>=0.4.6 in c:\\users\\eduar\\appdata\\local\\programs\\python\\python311\\lib\\site-packages (from pyasn1-modules>=0.2.1->google-auth<3,>=1.6.3->tensorboard<2.13,>=2.12->tensorflow-intel==2.12.0->tensorflow) (0.5.0)\n",
      "Requirement already satisfied: oauthlib>=3.0.0 in c:\\users\\eduar\\appdata\\local\\programs\\python\\python311\\lib\\site-packages (from requests-oauthlib>=0.7.0->google-auth-oauthlib<1.1,>=0.5->tensorboard<2.13,>=2.12->tensorflow-intel==2.12.0->tensorflow) (3.2.2)\n",
      "Note: you may need to restart the kernel to use updated packages.\n"
     ]
    },
    {
     "name": "stderr",
     "output_type": "stream",
     "text": [
      "\n",
      "[notice] A new release of pip is available: 23.1.1 -> 23.1.2\n",
      "[notice] To update, run: python.exe -m pip install --upgrade pip\n"
     ]
    }
   ],
   "source": [
    " pip install tensorflow"
   ]
  },
  {
   "cell_type": "code",
   "execution_count": 14,
   "id": "fdfac20a",
   "metadata": {},
   "outputs": [
    {
     "name": "stderr",
     "output_type": "stream",
     "text": [
      "[nltk_data] Downloading package punkt to\n",
      "[nltk_data]     C:\\Users\\eduar\\AppData\\Roaming\\nltk_data...\n",
      "[nltk_data]   Package punkt is already up-to-date!\n",
      "[nltk_data] Downloading package stopwords to\n",
      "[nltk_data]     C:\\Users\\eduar\\AppData\\Roaming\\nltk_data...\n",
      "[nltk_data]   Package stopwords is already up-to-date!\n"
     ]
    }
   ],
   "source": [
    "import nltk \n",
    "import numpy as np\n",
    "from nltk.corpus import stopwords\n",
    "from nltk.tokenize import word_tokenize\n",
    "import pandas as pd\n",
    "from sklearn.feature_extraction.text import CountVectorizer\n",
    "from keras.preprocessing.text import Tokenizer\n",
    "nltk.download('punkt') \n",
    "nltk.download('stopwords') \n",
    "stop_words = set(stopwords.words('portuguese'))"
   ]
  },
  {
   "cell_type": "markdown",
   "id": "89a0bd89",
   "metadata": {},
   "source": [
    "### Processamento dos dados "
   ]
  },
  {
   "cell_type": "markdown",
   "id": "4dc16b97",
   "metadata": {},
   "source": [
    "### Importando a planilha "
   ]
  },
  {
   "cell_type": "markdown",
   "id": "2c1b954f",
   "metadata": {},
   "source": [
    "Nesta váriavel é feito a importação da planilha que sera utilizada para gerar o bag of words"
   ]
  },
  {
   "cell_type": "code",
   "execution_count": 61,
   "id": "9dc835f9",
   "metadata": {},
   "outputs": [],
   "source": [
    "# Abrindo a base de dados \n",
    "df = pd.read_excel('../base/base.xlsx', index_col=0)"
   ]
  },
  {
   "cell_type": "markdown",
   "id": "df1d7025",
   "metadata": {},
   "source": [
    "### Pré processamento dos dados "
   ]
  },
  {
   "cell_type": "markdown",
   "id": "c1a40699",
   "metadata": {},
   "source": [
    "Nesta etapa o foco é limpar da base de dados os dados que não serão utilizados.\n",
    "Portanto, com essa função são removidos todos os comentários que tenham autoria do BTG Pactual e fotos de terceiros que marcavam a companhia.\n"
   ]
  },
  {
   "cell_type": "code",
   "execution_count": 62,
   "id": "8a842756",
   "metadata": {},
   "outputs": [],
   "source": [
    "# Esta função remove os dados que não serão utilizados para a análise\n",
    "def clean_data(df):\n",
    "    # Remove as aspas dos nomes das colunas\n",
    "    df = df.rename(columns=lambda x: x.replace('\\\"', ''))\n",
    "    # Remove comentários feito pelo btg\n",
    "    dfWithoutAutor = df[df[\"autor\"] != \"btgpactual\"]\n",
    "    # Remove comentários nulos\n",
    "    dfWithoutNull = dfWithoutAutor[dfWithoutAutor[\"autor\"].notnull()]\n",
    "    # Deixando apenas as interações do tipo comentário e resposta\n",
    "    dfFinal = dfWithoutNull.loc[(dfWithoutNull['tipoInteracao'] == 'comentário') | (dfWithoutNull['tipoInteracao'] == 'resposta')]\n",
    "    return dfFinal"
   ]
  },
  {
   "cell_type": "markdown",
   "id": "cefe258d",
   "metadata": {},
   "source": [
    "#### Caso de teste"
   ]
  },
  {
   "cell_type": "code",
   "execution_count": 63,
   "id": "78028d11",
   "metadata": {
    "scrolled": true
   },
   "outputs": [],
   "source": [
    "# Criando um data frame de teste para validar o pré processamento\n",
    "data_test = {'id': [1, 2, 3, 4, 5],\n",
    "             'dataPublicada': ['03/01/2022', '03/04/2022', '03/07/2022', '03/10/2022', '31/12/2022'],\n",
    "             'autor': ['btgpactual', 'robert87', 'grace46', 'william25', 'john23'],\n",
    "             'texto': [\"Obrigado, 🚀🚀💙\", \"Bom dia, gostaria de saber como faço pra conseguir falar com um atendente humanizado no chat do btg banking?\", \n",
    "                       \"Bom dia, preciso urgente do meu informe de rendimentos do BTLG11, para declaração do meu IR. Já enviei vários e-mails e até o momento sem resposta. Telefone ninguém atende. Como faço?\", \"Pessoal, sempre muito bom mas se eu puder solicitar uma coisa seria legendas 😅\", \"Sempre é aproveitoso parar o q tá fazendo para ouvi-lo\"],\n",
    "             'sentimento': ['NEUTRAL', 'NEUTRAL', 'NEGATIVE', 'POSITIVE', 'POSITIVE'],\n",
    "             'tipoInteracao': [\"comentário\", \"comentário\", \"comentário\", \"marcação\", \"comentário\"],\n",
    "             'anomalia': [1, 0, 0, 1, 1],\n",
    "             'probabilidadeAnomalia': [100, 20, 30, 100, 100],\n",
    "             'linkPost': ['https://www.instagram.com/p/CapXhB5Lvas/#17935401550894179', 'https://www.instagram.com/p/CaqBiRpsYLm/', 'https://www.instagram.com/p/CaqBiRpsYLm/', 'https://www.instagram.com/p/CapXhB5Lvas/#17926096268158628', 'https://www.instagram.com/p/CaR1j2TuPpD/#17914683365221503'],\n",
    "             'processado': [0,0,0,1,1],\n",
    "             'contemHyperlink': [0,0,0,1,1]}\n",
    "               \n",
    "df_testing = pd.DataFrame(data_test)\n"
   ]
  },
  {
   "cell_type": "code",
   "execution_count": 64,
   "id": "c6a8e562",
   "metadata": {},
   "outputs": [],
   "source": [
    "# Testando a função\n",
    "clean_data_test = df_testing\n",
    "cleaning_test = clean_data(clean_data_test)"
   ]
  },
  {
   "cell_type": "markdown",
   "id": "ec48f448",
   "metadata": {},
   "source": [
    "Os resultados foram colocados em células separadas para facilitar a visualização."
   ]
  },
  {
   "cell_type": "code",
   "execution_count": 65,
   "id": "2fdde803",
   "metadata": {
    "scrolled": true
   },
   "outputs": [
    {
     "data": {
      "text/html": [
       "<div>\n",
       "<style scoped>\n",
       "    .dataframe tbody tr th:only-of-type {\n",
       "        vertical-align: middle;\n",
       "    }\n",
       "\n",
       "    .dataframe tbody tr th {\n",
       "        vertical-align: top;\n",
       "    }\n",
       "\n",
       "    .dataframe thead th {\n",
       "        text-align: right;\n",
       "    }\n",
       "</style>\n",
       "<table border=\"1\" class=\"dataframe\">\n",
       "  <thead>\n",
       "    <tr style=\"text-align: right;\">\n",
       "      <th></th>\n",
       "      <th>id</th>\n",
       "      <th>dataPublicada</th>\n",
       "      <th>autor</th>\n",
       "      <th>texto</th>\n",
       "      <th>sentimento</th>\n",
       "      <th>tipoInteracao</th>\n",
       "      <th>anomalia</th>\n",
       "      <th>probabilidadeAnomalia</th>\n",
       "      <th>linkPost</th>\n",
       "      <th>processado</th>\n",
       "      <th>contemHyperlink</th>\n",
       "    </tr>\n",
       "  </thead>\n",
       "  <tbody>\n",
       "    <tr>\n",
       "      <th>0</th>\n",
       "      <td>1</td>\n",
       "      <td>03/01/2022</td>\n",
       "      <td>btgpactual</td>\n",
       "      <td>Obrigado, 🚀🚀💙</td>\n",
       "      <td>NEUTRAL</td>\n",
       "      <td>comentário</td>\n",
       "      <td>1</td>\n",
       "      <td>100</td>\n",
       "      <td>https://www.instagram.com/p/CapXhB5Lvas/#17935...</td>\n",
       "      <td>0</td>\n",
       "      <td>0</td>\n",
       "    </tr>\n",
       "    <tr>\n",
       "      <th>1</th>\n",
       "      <td>2</td>\n",
       "      <td>03/04/2022</td>\n",
       "      <td>robert87</td>\n",
       "      <td>Bom dia, gostaria de saber como faço pra conse...</td>\n",
       "      <td>NEUTRAL</td>\n",
       "      <td>comentário</td>\n",
       "      <td>0</td>\n",
       "      <td>20</td>\n",
       "      <td>https://www.instagram.com/p/CaqBiRpsYLm/</td>\n",
       "      <td>0</td>\n",
       "      <td>0</td>\n",
       "    </tr>\n",
       "    <tr>\n",
       "      <th>2</th>\n",
       "      <td>3</td>\n",
       "      <td>03/07/2022</td>\n",
       "      <td>grace46</td>\n",
       "      <td>Bom dia, preciso urgente do meu informe de ren...</td>\n",
       "      <td>NEGATIVE</td>\n",
       "      <td>comentário</td>\n",
       "      <td>0</td>\n",
       "      <td>30</td>\n",
       "      <td>https://www.instagram.com/p/CaqBiRpsYLm/</td>\n",
       "      <td>0</td>\n",
       "      <td>0</td>\n",
       "    </tr>\n",
       "    <tr>\n",
       "      <th>3</th>\n",
       "      <td>4</td>\n",
       "      <td>03/10/2022</td>\n",
       "      <td>william25</td>\n",
       "      <td>Pessoal, sempre muito bom mas se eu puder soli...</td>\n",
       "      <td>POSITIVE</td>\n",
       "      <td>marcação</td>\n",
       "      <td>1</td>\n",
       "      <td>100</td>\n",
       "      <td>https://www.instagram.com/p/CapXhB5Lvas/#17926...</td>\n",
       "      <td>1</td>\n",
       "      <td>1</td>\n",
       "    </tr>\n",
       "    <tr>\n",
       "      <th>4</th>\n",
       "      <td>5</td>\n",
       "      <td>31/12/2022</td>\n",
       "      <td>john23</td>\n",
       "      <td>Sempre é aproveitoso parar o q tá fazendo para...</td>\n",
       "      <td>POSITIVE</td>\n",
       "      <td>comentário</td>\n",
       "      <td>1</td>\n",
       "      <td>100</td>\n",
       "      <td>https://www.instagram.com/p/CaR1j2TuPpD/#17914...</td>\n",
       "      <td>1</td>\n",
       "      <td>1</td>\n",
       "    </tr>\n",
       "  </tbody>\n",
       "</table>\n",
       "</div>"
      ],
      "text/plain": [
       "   id dataPublicada       autor   \n",
       "0   1    03/01/2022  btgpactual  \\\n",
       "1   2    03/04/2022    robert87   \n",
       "2   3    03/07/2022     grace46   \n",
       "3   4    03/10/2022   william25   \n",
       "4   5    31/12/2022      john23   \n",
       "\n",
       "                                               texto sentimento tipoInteracao   \n",
       "0                                      Obrigado, 🚀🚀💙    NEUTRAL    comentário  \\\n",
       "1  Bom dia, gostaria de saber como faço pra conse...    NEUTRAL    comentário   \n",
       "2  Bom dia, preciso urgente do meu informe de ren...   NEGATIVE    comentário   \n",
       "3  Pessoal, sempre muito bom mas se eu puder soli...   POSITIVE      marcação   \n",
       "4  Sempre é aproveitoso parar o q tá fazendo para...   POSITIVE    comentário   \n",
       "\n",
       "   anomalia  probabilidadeAnomalia   \n",
       "0         1                    100  \\\n",
       "1         0                     20   \n",
       "2         0                     30   \n",
       "3         1                    100   \n",
       "4         1                    100   \n",
       "\n",
       "                                            linkPost  processado   \n",
       "0  https://www.instagram.com/p/CapXhB5Lvas/#17935...           0  \\\n",
       "1           https://www.instagram.com/p/CaqBiRpsYLm/           0   \n",
       "2           https://www.instagram.com/p/CaqBiRpsYLm/           0   \n",
       "3  https://www.instagram.com/p/CapXhB5Lvas/#17926...           1   \n",
       "4  https://www.instagram.com/p/CaR1j2TuPpD/#17914...           1   \n",
       "\n",
       "   contemHyperlink  \n",
       "0                0  \n",
       "1                0  \n",
       "2                0  \n",
       "3                1  \n",
       "4                1  "
      ]
     },
     "execution_count": 65,
     "metadata": {},
     "output_type": "execute_result"
    }
   ],
   "source": [
    "# Entrada do caso de teste\n",
    "clean_data_test"
   ]
  },
  {
   "cell_type": "code",
   "execution_count": 66,
   "id": "7d549bca",
   "metadata": {},
   "outputs": [
    {
     "data": {
      "text/html": [
       "<div>\n",
       "<style scoped>\n",
       "    .dataframe tbody tr th:only-of-type {\n",
       "        vertical-align: middle;\n",
       "    }\n",
       "\n",
       "    .dataframe tbody tr th {\n",
       "        vertical-align: top;\n",
       "    }\n",
       "\n",
       "    .dataframe thead th {\n",
       "        text-align: right;\n",
       "    }\n",
       "</style>\n",
       "<table border=\"1\" class=\"dataframe\">\n",
       "  <thead>\n",
       "    <tr style=\"text-align: right;\">\n",
       "      <th></th>\n",
       "      <th>id</th>\n",
       "      <th>dataPublicada</th>\n",
       "      <th>autor</th>\n",
       "      <th>texto</th>\n",
       "      <th>sentimento</th>\n",
       "      <th>tipoInteracao</th>\n",
       "      <th>anomalia</th>\n",
       "      <th>probabilidadeAnomalia</th>\n",
       "      <th>linkPost</th>\n",
       "      <th>processado</th>\n",
       "      <th>contemHyperlink</th>\n",
       "    </tr>\n",
       "  </thead>\n",
       "  <tbody>\n",
       "    <tr>\n",
       "      <th>1</th>\n",
       "      <td>2</td>\n",
       "      <td>03/04/2022</td>\n",
       "      <td>robert87</td>\n",
       "      <td>Bom dia, gostaria de saber como faço pra conse...</td>\n",
       "      <td>NEUTRAL</td>\n",
       "      <td>comentário</td>\n",
       "      <td>0</td>\n",
       "      <td>20</td>\n",
       "      <td>https://www.instagram.com/p/CaqBiRpsYLm/</td>\n",
       "      <td>0</td>\n",
       "      <td>0</td>\n",
       "    </tr>\n",
       "    <tr>\n",
       "      <th>2</th>\n",
       "      <td>3</td>\n",
       "      <td>03/07/2022</td>\n",
       "      <td>grace46</td>\n",
       "      <td>Bom dia, preciso urgente do meu informe de ren...</td>\n",
       "      <td>NEGATIVE</td>\n",
       "      <td>comentário</td>\n",
       "      <td>0</td>\n",
       "      <td>30</td>\n",
       "      <td>https://www.instagram.com/p/CaqBiRpsYLm/</td>\n",
       "      <td>0</td>\n",
       "      <td>0</td>\n",
       "    </tr>\n",
       "    <tr>\n",
       "      <th>4</th>\n",
       "      <td>5</td>\n",
       "      <td>31/12/2022</td>\n",
       "      <td>john23</td>\n",
       "      <td>Sempre é aproveitoso parar o q tá fazendo para...</td>\n",
       "      <td>POSITIVE</td>\n",
       "      <td>comentário</td>\n",
       "      <td>1</td>\n",
       "      <td>100</td>\n",
       "      <td>https://www.instagram.com/p/CaR1j2TuPpD/#17914...</td>\n",
       "      <td>1</td>\n",
       "      <td>1</td>\n",
       "    </tr>\n",
       "  </tbody>\n",
       "</table>\n",
       "</div>"
      ],
      "text/plain": [
       "   id dataPublicada     autor   \n",
       "1   2    03/04/2022  robert87  \\\n",
       "2   3    03/07/2022   grace46   \n",
       "4   5    31/12/2022    john23   \n",
       "\n",
       "                                               texto sentimento tipoInteracao   \n",
       "1  Bom dia, gostaria de saber como faço pra conse...    NEUTRAL    comentário  \\\n",
       "2  Bom dia, preciso urgente do meu informe de ren...   NEGATIVE    comentário   \n",
       "4  Sempre é aproveitoso parar o q tá fazendo para...   POSITIVE    comentário   \n",
       "\n",
       "   anomalia  probabilidadeAnomalia   \n",
       "1         0                     20  \\\n",
       "2         0                     30   \n",
       "4         1                    100   \n",
       "\n",
       "                                            linkPost  processado   \n",
       "1           https://www.instagram.com/p/CaqBiRpsYLm/           0  \\\n",
       "2           https://www.instagram.com/p/CaqBiRpsYLm/           0   \n",
       "4  https://www.instagram.com/p/CaR1j2TuPpD/#17914...           1   \n",
       "\n",
       "   contemHyperlink  \n",
       "1                0  \n",
       "2                0  \n",
       "4                1  "
      ]
     },
     "execution_count": 66,
     "metadata": {},
     "output_type": "execute_result"
    }
   ],
   "source": [
    "# Resultado do caso de teste\n",
    "cleaning_test"
   ]
  },
  {
   "cell_type": "markdown",
   "id": "e41a93a6",
   "metadata": {},
   "source": [
    "##### Demonstração da função "
   ]
  },
  {
   "cell_type": "markdown",
   "id": "a0feed08",
   "metadata": {},
   "source": [
    "Nesta etapa será demonstrado o funcionamento da função na base de dados real "
   ]
  },
  {
   "cell_type": "code",
   "execution_count": 68,
   "id": "7f74efd4",
   "metadata": {},
   "outputs": [
    {
     "data": {
      "text/html": [
       "<div>\n",
       "<style scoped>\n",
       "    .dataframe tbody tr th:only-of-type {\n",
       "        vertical-align: middle;\n",
       "    }\n",
       "\n",
       "    .dataframe tbody tr th {\n",
       "        vertical-align: top;\n",
       "    }\n",
       "\n",
       "    .dataframe thead th {\n",
       "        text-align: right;\n",
       "    }\n",
       "</style>\n",
       "<table border=\"1\" class=\"dataframe\">\n",
       "  <thead>\n",
       "    <tr style=\"text-align: right;\">\n",
       "      <th></th>\n",
       "      <th>dataPublicada</th>\n",
       "      <th>autor</th>\n",
       "      <th>texto</th>\n",
       "      <th>sentimento</th>\n",
       "      <th>tipoInteracao</th>\n",
       "      <th>anomalia</th>\n",
       "      <th>probabilidadeAnomalia</th>\n",
       "      <th>linkPost</th>\n",
       "      <th>processado</th>\n",
       "      <th>contemHyperlink</th>\n",
       "    </tr>\n",
       "    <tr>\n",
       "      <th>id</th>\n",
       "      <th></th>\n",
       "      <th></th>\n",
       "      <th></th>\n",
       "      <th></th>\n",
       "      <th></th>\n",
       "      <th></th>\n",
       "      <th></th>\n",
       "      <th></th>\n",
       "      <th></th>\n",
       "      <th></th>\n",
       "    </tr>\n",
       "  </thead>\n",
       "  <tbody>\n",
       "    <tr>\n",
       "      <th>4</th>\n",
       "      <td>\"2022-03-04 08:36:00\"</td>\n",
       "      <td>lmviapiana</td>\n",
       "      <td>Minuto touro de ouro</td>\n",
       "      <td>POSITIVE</td>\n",
       "      <td>comentário</td>\n",
       "      <td>0</td>\n",
       "      <td>38</td>\n",
       "      <td>https://www.instagram.com/p/CapXhB5Lvas/#17977...</td>\n",
       "      <td>0</td>\n",
       "      <td>0</td>\n",
       "    </tr>\n",
       "    <tr>\n",
       "      <th>5</th>\n",
       "      <td>\"2022-03-03 21:10:00\"</td>\n",
       "      <td>vanilson_dos</td>\n",
       "      <td>@ricktolledo Sim</td>\n",
       "      <td>NEUTRAL</td>\n",
       "      <td>resposta</td>\n",
       "      <td>0</td>\n",
       "      <td>17</td>\n",
       "      <td>https://www.instagram.com/p/CapXhB5Lvas/#17842...</td>\n",
       "      <td>0</td>\n",
       "      <td>0</td>\n",
       "    </tr>\n",
       "    <tr>\n",
       "      <th>6</th>\n",
       "      <td>\"2022-03-03 20:54:00\"</td>\n",
       "      <td>ricktolledo</td>\n",
       "      <td>Queria saber se a Btg banking é a própria btg ...</td>\n",
       "      <td>POSITIVE</td>\n",
       "      <td>comentário</td>\n",
       "      <td>0</td>\n",
       "      <td>20</td>\n",
       "      <td>https://www.instagram.com/p/CapXhB5Lvas/#17935...</td>\n",
       "      <td>0</td>\n",
       "      <td>0</td>\n",
       "    </tr>\n",
       "    <tr>\n",
       "      <th>11</th>\n",
       "      <td>\"2022-03-03 18:56:00\"</td>\n",
       "      <td>claudiofalavinha</td>\n",
       "      <td>@thaotinhasbfc</td>\n",
       "      <td>NEUTRAL</td>\n",
       "      <td>comentário</td>\n",
       "      <td>0</td>\n",
       "      <td>41</td>\n",
       "      <td>https://www.instagram.com/p/CapXhB5Lvas/#17942...</td>\n",
       "      <td>0</td>\n",
       "      <td>0</td>\n",
       "    </tr>\n",
       "    <tr>\n",
       "      <th>18</th>\n",
       "      <td>\"2022-03-03 16:11:00\"</td>\n",
       "      <td>paularodrigues.invest</td>\n",
       "      <td>👏👏👏👏</td>\n",
       "      <td>NEUTRAL</td>\n",
       "      <td>comentário</td>\n",
       "      <td>0</td>\n",
       "      <td>15</td>\n",
       "      <td>https://www.instagram.com/p/CaptWrtOT8U/#17943...</td>\n",
       "      <td>0</td>\n",
       "      <td>0</td>\n",
       "    </tr>\n",
       "    <tr>\n",
       "      <th>...</th>\n",
       "      <td>...</td>\n",
       "      <td>...</td>\n",
       "      <td>...</td>\n",
       "      <td>...</td>\n",
       "      <td>...</td>\n",
       "      <td>...</td>\n",
       "      <td>...</td>\n",
       "      <td>...</td>\n",
       "      <td>...</td>\n",
       "      <td>...</td>\n",
       "    </tr>\n",
       "    <tr>\n",
       "      <th>3042413</th>\n",
       "      <td>\"2022-11-30 07:48:00\"</td>\n",
       "      <td>perspectiveinvestimentos</td>\n",
       "      <td>Excelente explicação</td>\n",
       "      <td>POSITIVE</td>\n",
       "      <td>comentário</td>\n",
       "      <td>0</td>\n",
       "      <td>15</td>\n",
       "      <td>https://www.instagram.com/p/ClgWR-Ov2H1/#18001...</td>\n",
       "      <td>0</td>\n",
       "      <td>0</td>\n",
       "    </tr>\n",
       "    <tr>\n",
       "      <th>3042713</th>\n",
       "      <td>\"2022-11-30 08:42:00\"</td>\n",
       "      <td>marlenenelso</td>\n",
       "      <td>Porque  o brg tá  diminuído  o limite  do cart...</td>\n",
       "      <td>NEGATIVE</td>\n",
       "      <td>comentário</td>\n",
       "      <td>1</td>\n",
       "      <td>53</td>\n",
       "      <td>https://www.instagram.com/p/ClgWR-Ov2H1/#17878...</td>\n",
       "      <td>0</td>\n",
       "      <td>0</td>\n",
       "    </tr>\n",
       "    <tr>\n",
       "      <th>3043812</th>\n",
       "      <td>\"2022-11-30 11:27:00\"</td>\n",
       "      <td>eduardocolares</td>\n",
       "      <td>Atendam o telefone pelo amor de Deus</td>\n",
       "      <td>POSITIVE</td>\n",
       "      <td>comentário</td>\n",
       "      <td>0</td>\n",
       "      <td>28</td>\n",
       "      <td>https://www.instagram.com/p/CllkSBOuKlJ/#17960...</td>\n",
       "      <td>0</td>\n",
       "      <td>0</td>\n",
       "    </tr>\n",
       "    <tr>\n",
       "      <th>3044213</th>\n",
       "      <td>\"2022-11-30 12:18:00\"</td>\n",
       "      <td>jayipacderota</td>\n",
       "      <td>Estou muito grato por todo o esforço que você ...</td>\n",
       "      <td>POSITIVE</td>\n",
       "      <td>comentário</td>\n",
       "      <td>1</td>\n",
       "      <td>52</td>\n",
       "      <td>https://www.instagram.com/p/CllkSBOuKlJ/#17960...</td>\n",
       "      <td>0</td>\n",
       "      <td>0</td>\n",
       "    </tr>\n",
       "    <tr>\n",
       "      <th>3045012</th>\n",
       "      <td>\"2022-11-30 14:27:00\"</td>\n",
       "      <td>bfmarilia</td>\n",
       "      <td>@btgpactual pq o morning call não está mais ap...</td>\n",
       "      <td>NEGATIVE</td>\n",
       "      <td>comentário</td>\n",
       "      <td>0</td>\n",
       "      <td>28</td>\n",
       "      <td>https://www.instagram.com/p/CllkSBOuKlJ/#17975...</td>\n",
       "      <td>0</td>\n",
       "      <td>0</td>\n",
       "    </tr>\n",
       "  </tbody>\n",
       "</table>\n",
       "<p>6356 rows × 10 columns</p>\n",
       "</div>"
      ],
      "text/plain": [
       "                 dataPublicada                     autor   \n",
       "id                                                         \n",
       "4        \"2022-03-04 08:36:00\"                lmviapiana  \\\n",
       "5        \"2022-03-03 21:10:00\"              vanilson_dos   \n",
       "6        \"2022-03-03 20:54:00\"               ricktolledo   \n",
       "11       \"2022-03-03 18:56:00\"          claudiofalavinha   \n",
       "18       \"2022-03-03 16:11:00\"     paularodrigues.invest   \n",
       "...                        ...                       ...   \n",
       "3042413  \"2022-11-30 07:48:00\"  perspectiveinvestimentos   \n",
       "3042713  \"2022-11-30 08:42:00\"              marlenenelso   \n",
       "3043812  \"2022-11-30 11:27:00\"            eduardocolares   \n",
       "3044213  \"2022-11-30 12:18:00\"             jayipacderota   \n",
       "3045012  \"2022-11-30 14:27:00\"                 bfmarilia   \n",
       "\n",
       "                                                     texto sentimento   \n",
       "id                                                                      \n",
       "4                                     Minuto touro de ouro   POSITIVE  \\\n",
       "5                                         @ricktolledo Sim    NEUTRAL   \n",
       "6        Queria saber se a Btg banking é a própria btg ...   POSITIVE   \n",
       "11                                          @thaotinhasbfc    NEUTRAL   \n",
       "18                                                    👏👏👏👏    NEUTRAL   \n",
       "...                                                    ...        ...   \n",
       "3042413                               Excelente explicação   POSITIVE   \n",
       "3042713  Porque  o brg tá  diminuído  o limite  do cart...   NEGATIVE   \n",
       "3043812               Atendam o telefone pelo amor de Deus   POSITIVE   \n",
       "3044213  Estou muito grato por todo o esforço que você ...   POSITIVE   \n",
       "3045012  @btgpactual pq o morning call não está mais ap...   NEGATIVE   \n",
       "\n",
       "        tipoInteracao  anomalia  probabilidadeAnomalia   \n",
       "id                                                       \n",
       "4          comentário         0                     38  \\\n",
       "5            resposta         0                     17   \n",
       "6          comentário         0                     20   \n",
       "11         comentário         0                     41   \n",
       "18         comentário         0                     15   \n",
       "...               ...       ...                    ...   \n",
       "3042413    comentário         0                     15   \n",
       "3042713    comentário         1                     53   \n",
       "3043812    comentário         0                     28   \n",
       "3044213    comentário         1                     52   \n",
       "3045012    comentário         0                     28   \n",
       "\n",
       "                                                  linkPost  processado   \n",
       "id                                                                       \n",
       "4        https://www.instagram.com/p/CapXhB5Lvas/#17977...           0  \\\n",
       "5        https://www.instagram.com/p/CapXhB5Lvas/#17842...           0   \n",
       "6        https://www.instagram.com/p/CapXhB5Lvas/#17935...           0   \n",
       "11       https://www.instagram.com/p/CapXhB5Lvas/#17942...           0   \n",
       "18       https://www.instagram.com/p/CaptWrtOT8U/#17943...           0   \n",
       "...                                                    ...         ...   \n",
       "3042413  https://www.instagram.com/p/ClgWR-Ov2H1/#18001...           0   \n",
       "3042713  https://www.instagram.com/p/ClgWR-Ov2H1/#17878...           0   \n",
       "3043812  https://www.instagram.com/p/CllkSBOuKlJ/#17960...           0   \n",
       "3044213  https://www.instagram.com/p/CllkSBOuKlJ/#17960...           0   \n",
       "3045012  https://www.instagram.com/p/CllkSBOuKlJ/#17975...           0   \n",
       "\n",
       "         contemHyperlink  \n",
       "id                        \n",
       "4                      0  \n",
       "5                      0  \n",
       "6                      0  \n",
       "11                     0  \n",
       "18                     0  \n",
       "...                  ...  \n",
       "3042413                0  \n",
       "3042713                0  \n",
       "3043812                0  \n",
       "3044213                0  \n",
       "3045012                0  \n",
       "\n",
       "[6356 rows x 10 columns]"
      ]
     },
     "execution_count": 68,
     "metadata": {},
     "output_type": "execute_result"
    }
   ],
   "source": [
    "cleaning_output = clean_data(df)\n",
    "cleaning_output"
   ]
  },
  {
   "cell_type": "markdown",
   "id": "fc42a085",
   "metadata": {},
   "source": [
    "### Processamento dos dados"
   ]
  },
  {
   "cell_type": "markdown",
   "id": "18e3f8cd",
   "metadata": {},
   "source": [
    "Nesta etapa as frases são tokenizadas (cada palavra da frase é dividida, sendo 1 palavra = 1 token) e removidas as stop words, palavras que não acrescentam significado semântico relevante (e.g: de, para, ou). Além disso, é gerado um arquivo .csv com uma nova coluna que contém os tratamento citados acima aplicado aos comentários (coluna 'texto'). \n"
   ]
  },
  {
   "cell_type": "code",
   "execution_count": 69,
   "id": "b110e75e",
   "metadata": {},
   "outputs": [],
   "source": [
    "def processing_comments(frase):\n",
    "    #divide as frases em palavras\n",
    "    palavras = frase.split() \n",
    "    #coloca todas as letras em minúsculas (lower) e remove as stop words\n",
    "    filtered_words = [word for word in palavras if word.lower() not in stop_words\n",
    "                        and not word.startswith('@') and word.isalpha()] \n",
    "    #tokeniza as palavras e organiza cada comentário em uma lista de palavras\n",
    "    tokens = word_tokenize(\" \".join(filtered_words)) \n",
    "    return tokens"
   ]
  },
  {
   "cell_type": "markdown",
   "id": "7e3141a2",
   "metadata": {},
   "source": [
    "#### Caso de teste"
   ]
  },
  {
   "cell_type": "code",
   "execution_count": 70,
   "id": "c806996d",
   "metadata": {},
   "outputs": [],
   "source": [
    "# Testando a função \n",
    "processing_test = cleaning_test['texto']\n",
    "tokenize_test = processing_test.apply(processing_comments)"
   ]
  },
  {
   "cell_type": "code",
   "execution_count": 71,
   "id": "6850fc82",
   "metadata": {},
   "outputs": [
    {
     "data": {
      "text/plain": [
       "1    Bom dia, gostaria de saber como faço pra conse...\n",
       "2    Bom dia, preciso urgente do meu informe de ren...\n",
       "4    Sempre é aproveitoso parar o q tá fazendo para...\n",
       "Name: texto, dtype: object"
      ]
     },
     "execution_count": 71,
     "metadata": {},
     "output_type": "execute_result"
    }
   ],
   "source": [
    "# Input da função\n",
    "processing_test"
   ]
  },
  {
   "cell_type": "code",
   "execution_count": 72,
   "id": "d91a94d0",
   "metadata": {},
   "outputs": [
    {
     "data": {
      "text/plain": [
       "1    [Bom, gostaria, saber, faço, pra, conseguir, f...\n",
       "2    [Bom, preciso, urgente, informe, rendimentos, ...\n",
       "4         [Sempre, aproveitoso, parar, q, tá, fazendo]\n",
       "Name: texto, dtype: object"
      ]
     },
     "execution_count": 72,
     "metadata": {},
     "output_type": "execute_result"
    }
   ],
   "source": [
    "# Resultado da função\n",
    "tokenize_test"
   ]
  },
  {
   "cell_type": "markdown",
   "id": "55258417",
   "metadata": {},
   "source": [
    "##### Demonstração da função "
   ]
  },
  {
   "cell_type": "markdown",
   "id": "e30aab89",
   "metadata": {},
   "source": [
    "Nesta etapa será demonstrado o funcionamento da função na base de dados real "
   ]
  },
  {
   "cell_type": "code",
   "execution_count": 73,
   "id": "5f12fe3f",
   "metadata": {},
   "outputs": [
    {
     "data": {
      "text/plain": [
       "id\n",
       "4                                      [Minuto, touro, ouro]\n",
       "5                                                      [Sim]\n",
       "6                [Queria, saber, Btg, banking, própria, btg]\n",
       "11                                                        []\n",
       "18                                                        []\n",
       "                                 ...                        \n",
       "3042413                              [Excelente, explicação]\n",
       "3042713    [Porque, brg, tá, diminuído, limite, cartão, s...\n",
       "3043812                      [Atendam, telefone, amor, Deus]\n",
       "3044213    [grato, todo, esforço, rendeu, investimento, a...\n",
       "3045012    [pq, morning, call, aparecendo, Spotify, dias,...\n",
       "Name: texto, Length: 6356, dtype: object"
      ]
     },
     "execution_count": 73,
     "metadata": {},
     "output_type": "execute_result"
    }
   ],
   "source": [
    "processing_output = cleaning_output['texto'].apply(processing_comments)\n",
    "processing_output"
   ]
  },
  {
   "cell_type": "markdown",
   "id": "ef5ae8fb",
   "metadata": {},
   "source": [
    "### Aplicação do modelo "
   ]
  },
  {
   "cell_type": "markdown",
   "id": "91974dc7",
   "metadata": {},
   "source": [
    "Durante esta etapa é feita a implementação do modelo Bag of Words, que vetoriza as palavras e faz a contagem de vezes que cada uma aparece na coluna a ser utilizada. Assim, tendo como resultado um dataframe com as palavras que mais aparecem no texto e sua respectiva frequência."
   ]
  },
  {
   "cell_type": "code",
   "execution_count": 75,
   "id": "b30c6f82",
   "metadata": {},
   "outputs": [],
   "source": [
    "def bow_dataframe(inputUser):\n",
    "    tokenizer = Tokenizer()\n",
    "    tokenizer.fit_on_texts(inputUser)\n",
    "    # Com essa variavel é possível ver as palavras e contar sua frequência\n",
    "    wordCount = tokenizer.word_counts    \n",
    "    dfCountBoW = pd.DataFrame(list(wordCount.items()))\n",
    "    dfCountBoW.rename(columns={0: \"Palavra\", 1:\"Frequência\"}, inplace=True)\n",
    "    final_df = dfCountBoW.sort_values(by=['Frequência'], ascending=False)\n",
    "    return final_df"
   ]
  },
  {
   "cell_type": "markdown",
   "id": "c15dabcd",
   "metadata": {},
   "source": [
    "#### Caso de teste"
   ]
  },
  {
   "cell_type": "code",
   "execution_count": 76,
   "id": "d2fcc5d9",
   "metadata": {},
   "outputs": [],
   "source": [
    "# Testando a função \n",
    "bow_test = tokenize_test\n",
    "bow_test_result = bow_dataframe(tokenize_test)"
   ]
  },
  {
   "cell_type": "code",
   "execution_count": 77,
   "id": "dfae2453",
   "metadata": {},
   "outputs": [
    {
     "data": {
      "text/plain": [
       "1    [Bom, gostaria, saber, faço, pra, conseguir, f...\n",
       "2    [Bom, preciso, urgente, informe, rendimentos, ...\n",
       "4         [Sempre, aproveitoso, parar, q, tá, fazendo]\n",
       "Name: texto, dtype: object"
      ]
     },
     "execution_count": 77,
     "metadata": {},
     "output_type": "execute_result"
    }
   ],
   "source": [
    "# Input da função\n",
    "tokenize_test"
   ]
  },
  {
   "cell_type": "code",
   "execution_count": 78,
   "id": "2d17a47b",
   "metadata": {},
   "outputs": [
    {
     "data": {
      "text/html": [
       "<div>\n",
       "<style scoped>\n",
       "    .dataframe tbody tr th:only-of-type {\n",
       "        vertical-align: middle;\n",
       "    }\n",
       "\n",
       "    .dataframe tbody tr th {\n",
       "        vertical-align: top;\n",
       "    }\n",
       "\n",
       "    .dataframe thead th {\n",
       "        text-align: right;\n",
       "    }\n",
       "</style>\n",
       "<table border=\"1\" class=\"dataframe\">\n",
       "  <thead>\n",
       "    <tr style=\"text-align: right;\">\n",
       "      <th></th>\n",
       "      <th>Palavra</th>\n",
       "      <th>Frequência</th>\n",
       "    </tr>\n",
       "  </thead>\n",
       "  <tbody>\n",
       "    <tr>\n",
       "      <th>0</th>\n",
       "      <td>bom</td>\n",
       "      <td>2</td>\n",
       "    </tr>\n",
       "    <tr>\n",
       "      <th>14</th>\n",
       "      <td>rendimentos</td>\n",
       "      <td>1</td>\n",
       "    </tr>\n",
       "    <tr>\n",
       "      <th>25</th>\n",
       "      <td>tá</td>\n",
       "      <td>1</td>\n",
       "    </tr>\n",
       "    <tr>\n",
       "      <th>24</th>\n",
       "      <td>q</td>\n",
       "      <td>1</td>\n",
       "    </tr>\n",
       "    <tr>\n",
       "      <th>23</th>\n",
       "      <td>parar</td>\n",
       "      <td>1</td>\n",
       "    </tr>\n",
       "  </tbody>\n",
       "</table>\n",
       "</div>"
      ],
      "text/plain": [
       "        Palavra  Frequência\n",
       "0           bom           2\n",
       "14  rendimentos           1\n",
       "25           tá           1\n",
       "24            q           1\n",
       "23        parar           1"
      ]
     },
     "execution_count": 78,
     "metadata": {},
     "output_type": "execute_result"
    }
   ],
   "source": [
    "# Output da função\n",
    "bow_test_result.head(5)"
   ]
  },
  {
   "cell_type": "markdown",
   "id": "8aeaeae8",
   "metadata": {},
   "source": [
    "##### Demonstração da função "
   ]
  },
  {
   "cell_type": "markdown",
   "id": "2b8005d7",
   "metadata": {},
   "source": [
    "Nesta etapa será demonstrado o funcionamento da função na base de dados real "
   ]
  },
  {
   "cell_type": "code",
   "execution_count": 79,
   "id": "1ac02f21",
   "metadata": {
    "scrolled": true
   },
   "outputs": [
    {
     "data": {
      "text/html": [
       "<div>\n",
       "<style scoped>\n",
       "    .dataframe tbody tr th:only-of-type {\n",
       "        vertical-align: middle;\n",
       "    }\n",
       "\n",
       "    .dataframe tbody tr th {\n",
       "        vertical-align: top;\n",
       "    }\n",
       "\n",
       "    .dataframe thead th {\n",
       "        text-align: right;\n",
       "    }\n",
       "</style>\n",
       "<table border=\"1\" class=\"dataframe\">\n",
       "  <thead>\n",
       "    <tr style=\"text-align: right;\">\n",
       "      <th></th>\n",
       "      <th>Palavra</th>\n",
       "      <th>Frequência</th>\n",
       "    </tr>\n",
       "  </thead>\n",
       "  <tbody>\n",
       "    <tr>\n",
       "      <th>97</th>\n",
       "      <td>banco</td>\n",
       "      <td>475</td>\n",
       "    </tr>\n",
       "    <tr>\n",
       "      <th>6</th>\n",
       "      <td>btg</td>\n",
       "      <td>408</td>\n",
       "    </tr>\n",
       "    <tr>\n",
       "      <th>66</th>\n",
       "      <td>pra</td>\n",
       "      <td>386</td>\n",
       "    </tr>\n",
       "    <tr>\n",
       "      <th>590</th>\n",
       "      <td>limite</td>\n",
       "      <td>363</td>\n",
       "    </tr>\n",
       "    <tr>\n",
       "      <th>16</th>\n",
       "      <td>conta</td>\n",
       "      <td>319</td>\n",
       "    </tr>\n",
       "    <tr>\n",
       "      <th>299</th>\n",
       "      <td>cartão</td>\n",
       "      <td>310</td>\n",
       "    </tr>\n",
       "    <tr>\n",
       "      <th>188</th>\n",
       "      <td>melhor</td>\n",
       "      <td>228</td>\n",
       "    </tr>\n",
       "    <tr>\n",
       "      <th>149</th>\n",
       "      <td>agora</td>\n",
       "      <td>218</td>\n",
       "    </tr>\n",
       "    <tr>\n",
       "      <th>32</th>\n",
       "      <td>sempre</td>\n",
       "      <td>181</td>\n",
       "    </tr>\n",
       "    <tr>\n",
       "      <th>235</th>\n",
       "      <td>fazer</td>\n",
       "      <td>172</td>\n",
       "    </tr>\n",
       "  </tbody>\n",
       "</table>\n",
       "</div>"
      ],
      "text/plain": [
       "    Palavra  Frequência\n",
       "97    banco         475\n",
       "6       btg         408\n",
       "66      pra         386\n",
       "590  limite         363\n",
       "16    conta         319\n",
       "299  cartão         310\n",
       "188  melhor         228\n",
       "149   agora         218\n",
       "32   sempre         181\n",
       "235   fazer         172"
      ]
     },
     "execution_count": 79,
     "metadata": {},
     "output_type": "execute_result"
    }
   ],
   "source": [
    "result_output = bow_dataframe(processing_output)\n",
    "result_output.head(10)"
   ]
  },
  {
   "cell_type": "markdown",
   "id": "66222bd1",
   "metadata": {},
   "source": [
    "### Pipeline de processamento completo"
   ]
  },
  {
   "cell_type": "markdown",
   "id": "11232927",
   "metadata": {},
   "source": [
    "Nesta etapa há todo o processamento da planilha em apenas uma função que retorna um csv completo das palavras já tokenizadas."
   ]
  },
  {
   "cell_type": "code",
   "execution_count": 83,
   "id": "9fcdeb85",
   "metadata": {},
   "outputs": [],
   "source": [
    "#Função para rodar nosso modelo de bag of words, essa função recebe um dataframe\n",
    "def pipeline(base):\n",
    "    #limpeza da base de dados\n",
    "    base1 = clean_data(base)\n",
    "    #tokenização da coluna de textos\n",
    "    base1['Frases_sem_stop_words'] = base1['texto'].apply(processing_comments)\n",
    "    return base1\n",
    "    "
   ]
  },
  {
   "cell_type": "markdown",
   "id": "1a490028",
   "metadata": {},
   "source": [
    "#### Caso de teste"
   ]
  },
  {
   "cell_type": "code",
   "execution_count": 84,
   "id": "fb7ee7db",
   "metadata": {},
   "outputs": [
    {
     "data": {
      "text/html": [
       "<div>\n",
       "<style scoped>\n",
       "    .dataframe tbody tr th:only-of-type {\n",
       "        vertical-align: middle;\n",
       "    }\n",
       "\n",
       "    .dataframe tbody tr th {\n",
       "        vertical-align: top;\n",
       "    }\n",
       "\n",
       "    .dataframe thead th {\n",
       "        text-align: right;\n",
       "    }\n",
       "</style>\n",
       "<table border=\"1\" class=\"dataframe\">\n",
       "  <thead>\n",
       "    <tr style=\"text-align: right;\">\n",
       "      <th></th>\n",
       "      <th>id</th>\n",
       "      <th>dataPublicada</th>\n",
       "      <th>autor</th>\n",
       "      <th>texto</th>\n",
       "      <th>sentimento</th>\n",
       "      <th>tipoInteracao</th>\n",
       "      <th>anomalia</th>\n",
       "      <th>probabilidadeAnomalia</th>\n",
       "      <th>linkPost</th>\n",
       "      <th>processado</th>\n",
       "      <th>contemHyperlink</th>\n",
       "    </tr>\n",
       "  </thead>\n",
       "  <tbody>\n",
       "    <tr>\n",
       "      <th>0</th>\n",
       "      <td>1</td>\n",
       "      <td>03/01/2022</td>\n",
       "      <td>btgpactual</td>\n",
       "      <td>Obrigado, 🚀🚀💙</td>\n",
       "      <td>NEUTRAL</td>\n",
       "      <td>comentário</td>\n",
       "      <td>1</td>\n",
       "      <td>100</td>\n",
       "      <td>https://www.instagram.com/p/CapXhB5Lvas/#17935...</td>\n",
       "      <td>0</td>\n",
       "      <td>0</td>\n",
       "    </tr>\n",
       "    <tr>\n",
       "      <th>1</th>\n",
       "      <td>2</td>\n",
       "      <td>03/04/2022</td>\n",
       "      <td>robert87</td>\n",
       "      <td>Bom dia, gostaria de saber como faço pra conse...</td>\n",
       "      <td>NEUTRAL</td>\n",
       "      <td>comentário</td>\n",
       "      <td>0</td>\n",
       "      <td>20</td>\n",
       "      <td>https://www.instagram.com/p/CaqBiRpsYLm/</td>\n",
       "      <td>0</td>\n",
       "      <td>0</td>\n",
       "    </tr>\n",
       "    <tr>\n",
       "      <th>2</th>\n",
       "      <td>3</td>\n",
       "      <td>03/07/2022</td>\n",
       "      <td>grace46</td>\n",
       "      <td>Bom dia, preciso urgente do meu informe de ren...</td>\n",
       "      <td>NEGATIVE</td>\n",
       "      <td>comentário</td>\n",
       "      <td>0</td>\n",
       "      <td>30</td>\n",
       "      <td>https://www.instagram.com/p/CaqBiRpsYLm/</td>\n",
       "      <td>0</td>\n",
       "      <td>0</td>\n",
       "    </tr>\n",
       "    <tr>\n",
       "      <th>3</th>\n",
       "      <td>4</td>\n",
       "      <td>03/10/2022</td>\n",
       "      <td>william25</td>\n",
       "      <td>Pessoal, sempre muito bom mas se eu puder soli...</td>\n",
       "      <td>POSITIVE</td>\n",
       "      <td>marcação</td>\n",
       "      <td>1</td>\n",
       "      <td>100</td>\n",
       "      <td>https://www.instagram.com/p/CapXhB5Lvas/#17926...</td>\n",
       "      <td>1</td>\n",
       "      <td>1</td>\n",
       "    </tr>\n",
       "    <tr>\n",
       "      <th>4</th>\n",
       "      <td>5</td>\n",
       "      <td>31/12/2022</td>\n",
       "      <td>john23</td>\n",
       "      <td>Sempre é aproveitoso parar o q tá fazendo para...</td>\n",
       "      <td>POSITIVE</td>\n",
       "      <td>comentário</td>\n",
       "      <td>1</td>\n",
       "      <td>100</td>\n",
       "      <td>https://www.instagram.com/p/CaR1j2TuPpD/#17914...</td>\n",
       "      <td>1</td>\n",
       "      <td>1</td>\n",
       "    </tr>\n",
       "  </tbody>\n",
       "</table>\n",
       "</div>"
      ],
      "text/plain": [
       "   id dataPublicada       autor   \n",
       "0   1    03/01/2022  btgpactual  \\\n",
       "1   2    03/04/2022    robert87   \n",
       "2   3    03/07/2022     grace46   \n",
       "3   4    03/10/2022   william25   \n",
       "4   5    31/12/2022      john23   \n",
       "\n",
       "                                               texto sentimento tipoInteracao   \n",
       "0                                      Obrigado, 🚀🚀💙    NEUTRAL    comentário  \\\n",
       "1  Bom dia, gostaria de saber como faço pra conse...    NEUTRAL    comentário   \n",
       "2  Bom dia, preciso urgente do meu informe de ren...   NEGATIVE    comentário   \n",
       "3  Pessoal, sempre muito bom mas se eu puder soli...   POSITIVE      marcação   \n",
       "4  Sempre é aproveitoso parar o q tá fazendo para...   POSITIVE    comentário   \n",
       "\n",
       "   anomalia  probabilidadeAnomalia   \n",
       "0         1                    100  \\\n",
       "1         0                     20   \n",
       "2         0                     30   \n",
       "3         1                    100   \n",
       "4         1                    100   \n",
       "\n",
       "                                            linkPost  processado   \n",
       "0  https://www.instagram.com/p/CapXhB5Lvas/#17935...           0  \\\n",
       "1           https://www.instagram.com/p/CaqBiRpsYLm/           0   \n",
       "2           https://www.instagram.com/p/CaqBiRpsYLm/           0   \n",
       "3  https://www.instagram.com/p/CapXhB5Lvas/#17926...           1   \n",
       "4  https://www.instagram.com/p/CaR1j2TuPpD/#17914...           1   \n",
       "\n",
       "   contemHyperlink  \n",
       "0                0  \n",
       "1                0  \n",
       "2                0  \n",
       "3                1  \n",
       "4                1  "
      ]
     },
     "execution_count": 84,
     "metadata": {},
     "output_type": "execute_result"
    }
   ],
   "source": [
    "#Entrada\n",
    "df_testing"
   ]
  },
  {
   "cell_type": "code",
   "execution_count": 85,
   "id": "2934df7f",
   "metadata": {},
   "outputs": [
    {
     "data": {
      "text/html": [
       "<div>\n",
       "<style scoped>\n",
       "    .dataframe tbody tr th:only-of-type {\n",
       "        vertical-align: middle;\n",
       "    }\n",
       "\n",
       "    .dataframe tbody tr th {\n",
       "        vertical-align: top;\n",
       "    }\n",
       "\n",
       "    .dataframe thead th {\n",
       "        text-align: right;\n",
       "    }\n",
       "</style>\n",
       "<table border=\"1\" class=\"dataframe\">\n",
       "  <thead>\n",
       "    <tr style=\"text-align: right;\">\n",
       "      <th></th>\n",
       "      <th>id</th>\n",
       "      <th>dataPublicada</th>\n",
       "      <th>autor</th>\n",
       "      <th>texto</th>\n",
       "      <th>sentimento</th>\n",
       "      <th>tipoInteracao</th>\n",
       "      <th>anomalia</th>\n",
       "      <th>probabilidadeAnomalia</th>\n",
       "      <th>linkPost</th>\n",
       "      <th>processado</th>\n",
       "      <th>contemHyperlink</th>\n",
       "      <th>Frases_sem_stop_words</th>\n",
       "    </tr>\n",
       "  </thead>\n",
       "  <tbody>\n",
       "    <tr>\n",
       "      <th>1</th>\n",
       "      <td>2</td>\n",
       "      <td>03/04/2022</td>\n",
       "      <td>robert87</td>\n",
       "      <td>Bom dia, gostaria de saber como faço pra conse...</td>\n",
       "      <td>NEUTRAL</td>\n",
       "      <td>comentário</td>\n",
       "      <td>0</td>\n",
       "      <td>20</td>\n",
       "      <td>https://www.instagram.com/p/CaqBiRpsYLm/</td>\n",
       "      <td>0</td>\n",
       "      <td>0</td>\n",
       "      <td>[Bom, gostaria, saber, faço, pra, conseguir, f...</td>\n",
       "    </tr>\n",
       "    <tr>\n",
       "      <th>2</th>\n",
       "      <td>3</td>\n",
       "      <td>03/07/2022</td>\n",
       "      <td>grace46</td>\n",
       "      <td>Bom dia, preciso urgente do meu informe de ren...</td>\n",
       "      <td>NEGATIVE</td>\n",
       "      <td>comentário</td>\n",
       "      <td>0</td>\n",
       "      <td>30</td>\n",
       "      <td>https://www.instagram.com/p/CaqBiRpsYLm/</td>\n",
       "      <td>0</td>\n",
       "      <td>0</td>\n",
       "      <td>[Bom, preciso, urgente, informe, rendimentos, ...</td>\n",
       "    </tr>\n",
       "    <tr>\n",
       "      <th>4</th>\n",
       "      <td>5</td>\n",
       "      <td>31/12/2022</td>\n",
       "      <td>john23</td>\n",
       "      <td>Sempre é aproveitoso parar o q tá fazendo para...</td>\n",
       "      <td>POSITIVE</td>\n",
       "      <td>comentário</td>\n",
       "      <td>1</td>\n",
       "      <td>100</td>\n",
       "      <td>https://www.instagram.com/p/CaR1j2TuPpD/#17914...</td>\n",
       "      <td>1</td>\n",
       "      <td>1</td>\n",
       "      <td>[Sempre, aproveitoso, parar, q, tá, fazendo]</td>\n",
       "    </tr>\n",
       "  </tbody>\n",
       "</table>\n",
       "</div>"
      ],
      "text/plain": [
       "   id dataPublicada     autor   \n",
       "1   2    03/04/2022  robert87  \\\n",
       "2   3    03/07/2022   grace46   \n",
       "4   5    31/12/2022    john23   \n",
       "\n",
       "                                               texto sentimento tipoInteracao   \n",
       "1  Bom dia, gostaria de saber como faço pra conse...    NEUTRAL    comentário  \\\n",
       "2  Bom dia, preciso urgente do meu informe de ren...   NEGATIVE    comentário   \n",
       "4  Sempre é aproveitoso parar o q tá fazendo para...   POSITIVE    comentário   \n",
       "\n",
       "   anomalia  probabilidadeAnomalia   \n",
       "1         0                     20  \\\n",
       "2         0                     30   \n",
       "4         1                    100   \n",
       "\n",
       "                                            linkPost  processado   \n",
       "1           https://www.instagram.com/p/CaqBiRpsYLm/           0  \\\n",
       "2           https://www.instagram.com/p/CaqBiRpsYLm/           0   \n",
       "4  https://www.instagram.com/p/CaR1j2TuPpD/#17914...           1   \n",
       "\n",
       "   contemHyperlink                              Frases_sem_stop_words  \n",
       "1                0  [Bom, gostaria, saber, faço, pra, conseguir, f...  \n",
       "2                0  [Bom, preciso, urgente, informe, rendimentos, ...  \n",
       "4                1       [Sempre, aproveitoso, parar, q, tá, fazendo]  "
      ]
     },
     "execution_count": 85,
     "metadata": {},
     "output_type": "execute_result"
    }
   ],
   "source": [
    "# Resultado da função Pipeline\n",
    "pipeline_output_test = pipeline(df_testing)\n",
    "pipeline_output_test"
   ]
  },
  {
   "cell_type": "markdown",
   "id": "59178c61",
   "metadata": {},
   "source": [
    "#### Baixar o resultado do modelo "
   ]
  },
  {
   "cell_type": "markdown",
   "id": "a83b0b1f",
   "metadata": {},
   "source": [
    "##### Demonstração da função "
   ]
  },
  {
   "cell_type": "markdown",
   "id": "b2bf9e88",
   "metadata": {},
   "source": [
    "Nesta etapa sera gerado o resultado da função e retornando todo o tratamento da base"
   ]
  },
  {
   "cell_type": "code",
   "execution_count": 86,
   "id": "27478504",
   "metadata": {},
   "outputs": [],
   "source": [
    "result_pipeline = pipeline(df)"
   ]
  },
  {
   "cell_type": "code",
   "execution_count": 91,
   "id": "706e7d64",
   "metadata": {},
   "outputs": [],
   "source": [
    "# Para salvar o resultado final basta apenas descomentar a linha a seguir\n",
    "#result_pipeline.to_csv('..\\\\output\\\\Resultado-Processamento.csv',encoding='utf-8', index=False, header=True, )"
   ]
  },
  {
   "cell_type": "markdown",
   "id": "71f0d119",
   "metadata": {},
   "source": [
    "### Resultado completo"
   ]
  },
  {
   "cell_type": "markdown",
   "id": "48a9192d",
   "metadata": {},
   "source": [
    "Com todas etapas já feitas previamente, agora é a hora de rodar a limpeza dos dados e ter o resultado do bag of words."
   ]
  },
  {
   "cell_type": "code",
   "execution_count": 88,
   "id": "6d1cd737",
   "metadata": {},
   "outputs": [],
   "source": [
    "# Limpando os dados originais\n",
    "cleaned_df = pipeline(df)"
   ]
  },
  {
   "cell_type": "code",
   "execution_count": 90,
   "id": "b3b1c7de",
   "metadata": {},
   "outputs": [
    {
     "data": {
      "text/html": [
       "<div>\n",
       "<style scoped>\n",
       "    .dataframe tbody tr th:only-of-type {\n",
       "        vertical-align: middle;\n",
       "    }\n",
       "\n",
       "    .dataframe tbody tr th {\n",
       "        vertical-align: top;\n",
       "    }\n",
       "\n",
       "    .dataframe thead th {\n",
       "        text-align: right;\n",
       "    }\n",
       "</style>\n",
       "<table border=\"1\" class=\"dataframe\">\n",
       "  <thead>\n",
       "    <tr style=\"text-align: right;\">\n",
       "      <th></th>\n",
       "      <th>Palavra</th>\n",
       "      <th>Frequência</th>\n",
       "    </tr>\n",
       "  </thead>\n",
       "  <tbody>\n",
       "    <tr>\n",
       "      <th>97</th>\n",
       "      <td>banco</td>\n",
       "      <td>475</td>\n",
       "    </tr>\n",
       "    <tr>\n",
       "      <th>6</th>\n",
       "      <td>btg</td>\n",
       "      <td>408</td>\n",
       "    </tr>\n",
       "    <tr>\n",
       "      <th>66</th>\n",
       "      <td>pra</td>\n",
       "      <td>386</td>\n",
       "    </tr>\n",
       "    <tr>\n",
       "      <th>590</th>\n",
       "      <td>limite</td>\n",
       "      <td>363</td>\n",
       "    </tr>\n",
       "    <tr>\n",
       "      <th>16</th>\n",
       "      <td>conta</td>\n",
       "      <td>319</td>\n",
       "    </tr>\n",
       "    <tr>\n",
       "      <th>299</th>\n",
       "      <td>cartão</td>\n",
       "      <td>310</td>\n",
       "    </tr>\n",
       "    <tr>\n",
       "      <th>188</th>\n",
       "      <td>melhor</td>\n",
       "      <td>228</td>\n",
       "    </tr>\n",
       "    <tr>\n",
       "      <th>149</th>\n",
       "      <td>agora</td>\n",
       "      <td>218</td>\n",
       "    </tr>\n",
       "    <tr>\n",
       "      <th>32</th>\n",
       "      <td>sempre</td>\n",
       "      <td>181</td>\n",
       "    </tr>\n",
       "    <tr>\n",
       "      <th>235</th>\n",
       "      <td>fazer</td>\n",
       "      <td>172</td>\n",
       "    </tr>\n",
       "  </tbody>\n",
       "</table>\n",
       "</div>"
      ],
      "text/plain": [
       "    Palavra  Frequência\n",
       "97    banco         475\n",
       "6       btg         408\n",
       "66      pra         386\n",
       "590  limite         363\n",
       "16    conta         319\n",
       "299  cartão         310\n",
       "188  melhor         228\n",
       "149   agora         218\n",
       "32   sempre         181\n",
       "235   fazer         172"
      ]
     },
     "execution_count": 90,
     "metadata": {},
     "output_type": "execute_result"
    }
   ],
   "source": [
    "# Resultado Bag of Words\n",
    "result_final = bow_dataframe(cleaned_df['Frases_sem_stop_words'])\n",
    "result_final.head(10)"
   ]
  },
  {
   "cell_type": "code",
   "execution_count": null,
   "id": "9319681d",
   "metadata": {},
   "outputs": [],
   "source": []
  }
 ],
 "metadata": {
  "kernelspec": {
   "display_name": "Python 3 (ipykernel)",
   "language": "python",
   "name": "python3"
  },
  "language_info": {
   "codemirror_mode": {
    "name": "ipython",
    "version": 3
   },
   "file_extension": ".py",
   "mimetype": "text/x-python",
   "name": "python",
   "nbconvert_exporter": "python",
   "pygments_lexer": "ipython3",
   "version": "3.11.3"
  }
 },
 "nbformat": 4,
 "nbformat_minor": 5
}
