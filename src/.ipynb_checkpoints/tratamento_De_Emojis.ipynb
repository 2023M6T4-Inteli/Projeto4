{
  "nbformat": 4,
  "nbformat_minor": 0,
  "metadata": {
    "colab": {
      "provenance": []
    },
    "kernelspec": {
      "name": "python3",
      "display_name": "Python 3"
    },
    "language_info": {
      "name": "python"
    }
  },
  "cells": [
    {
      "cell_type": "code",
      "execution_count": 77,
      "metadata": {
        "colab": {
          "base_uri": "https://localhost:8080/"
        },
        "id": "ciIIZIRTJGl-",
        "outputId": "cf093810-f97b-4c1e-aa9d-c23b1be4b48a"
      },
      "outputs": [
        {
          "output_type": "stream",
          "name": "stderr",
          "text": [
            "[nltk_data] Downloading package punkt to /root/nltk_data...\n",
            "[nltk_data]   Package punkt is already up-to-date!\n",
            "[nltk_data] Downloading package stopwords to /root/nltk_data...\n",
            "[nltk_data]   Package stopwords is already up-to-date!\n",
            "[nltk_data] Downloading package wordnet to /root/nltk_data...\n",
            "[nltk_data]   Package wordnet is already up-to-date!\n"
          ]
        }
      ],
      "source": [
        "#Importando as bibliotecas: \n",
        "import pandas as pd\n",
        "import nltk\n",
        "import string  \n",
        "import matplotlib.pyplot as plt\n",
        "from nltk.tokenize import word_tokenize\n",
        "from nltk.corpus import stopwords\n",
        "from nltk.stem import WordNetLemmatizer\n",
        "from google.colab import drive\n",
        "\n",
        "from collections import Counter\n",
        "nltk.download('punkt')\n",
        "nltk.download('stopwords')\n",
        "nltk.download('wordnet')\n",
        "stop_words = set(stopwords.words('portuguese'))"
      ]
    },
    {
      "cell_type": "code",
      "source": [
        "path = \"/content/drive/MyDrive/modulo6/dfClean.csv\""
      ],
      "metadata": {
        "id": "e7NWE9XXiaE-"
      },
      "execution_count": 78,
      "outputs": []
    },
    {
      "cell_type": "code",
      "source": [
        "!pip install emoji"
      ],
      "metadata": {
        "colab": {
          "base_uri": "https://localhost:8080/"
        },
        "id": "_kJQPU4-WZmb",
        "outputId": "bda094e4-a508-419c-e437-8457c944a799"
      },
      "execution_count": 79,
      "outputs": [
        {
          "output_type": "stream",
          "name": "stdout",
          "text": [
            "Looking in indexes: https://pypi.org/simple, https://us-python.pkg.dev/colab-wheels/public/simple/\n",
            "Requirement already satisfied: emoji in /usr/local/lib/python3.10/dist-packages (2.2.0)\n"
          ]
        }
      ]
    },
    {
      "cell_type": "code",
      "source": [
        "!pip install pandas numpy emoji"
      ],
      "metadata": {
        "colab": {
          "base_uri": "https://localhost:8080/"
        },
        "id": "rDjGtHcSkQW4",
        "outputId": "2af1b4ee-4a11-4e19-875c-e398dc3f595b"
      },
      "execution_count": 80,
      "outputs": [
        {
          "output_type": "stream",
          "name": "stdout",
          "text": [
            "Looking in indexes: https://pypi.org/simple, https://us-python.pkg.dev/colab-wheels/public/simple/\n",
            "Requirement already satisfied: pandas in /usr/local/lib/python3.10/dist-packages (1.5.3)\n",
            "Requirement already satisfied: numpy in /usr/local/lib/python3.10/dist-packages (1.22.4)\n",
            "Requirement already satisfied: emoji in /usr/local/lib/python3.10/dist-packages (2.2.0)\n",
            "Requirement already satisfied: python-dateutil>=2.8.1 in /usr/local/lib/python3.10/dist-packages (from pandas) (2.8.2)\n",
            "Requirement already satisfied: pytz>=2020.1 in /usr/local/lib/python3.10/dist-packages (from pandas) (2022.7.1)\n",
            "Requirement already satisfied: six>=1.5 in /usr/local/lib/python3.10/dist-packages (from python-dateutil>=2.8.1->pandas) (1.16.0)\n"
          ]
        }
      ]
    },
    {
      "cell_type": "code",
      "source": [
        "import emoji as emoji"
      ],
      "metadata": {
        "id": "MD4PoNt9KW6J"
      },
      "execution_count": 81,
      "outputs": []
    },
    {
      "cell_type": "code",
      "source": [
        "#Montando drive\n",
        "from google.colab import drive\n",
        "drive.mount('/content/drive')"
      ],
      "metadata": {
        "colab": {
          "base_uri": "https://localhost:8080/"
        },
        "id": "ka-A9IZKJJ73",
        "outputId": "dac2df7d-71ac-437e-9250-cb8128e01add"
      },
      "execution_count": 82,
      "outputs": [
        {
          "output_type": "stream",
          "name": "stdout",
          "text": [
            "Drive already mounted at /content/drive; to attempt to forcibly remount, call drive.mount(\"/content/drive\", force_remount=True).\n"
          ]
        }
      ]
    },
    {
      "cell_type": "code",
      "source": [
        "# Bases de dados geradas em .csv após cada pré-processamento. Elas estão disponíveis no github do grupo.\n",
        "df = pd.read_csv('/content/drive/MyDrive/modulo6/dfClean.csv')"
      ],
      "metadata": {
        "id": "UMfyT7NXJZ_A"
      },
      "execution_count": 83,
      "outputs": []
    },
    {
      "cell_type": "code",
      "source": [
        "df"
      ],
      "metadata": {
        "colab": {
          "base_uri": "https://localhost:8080/",
          "height": 991
        },
        "id": "Fn9YKoEjJjg4",
        "outputId": "2ffe48de-3259-4b65-d328-330a65a5ac96"
      },
      "execution_count": 84,
      "outputs": [
        {
          "output_type": "execute_result",
          "data": {
            "text/plain": [
              "      Column1       id                    autor  \\\n",
              "0          13       14             erikacoimbra   \n",
              "1          14       15           anapaulanakade   \n",
              "2          15       16             rosanakassar   \n",
              "3          16       17  luizantoniojovinodossan   \n",
              "4          17       18              ronialencar   \n",
              "...       ...      ...                      ...   \n",
              "2580     4538  3027573     viniciuscavalcante01   \n",
              "2581     4543  3028307               giballiana   \n",
              "2582     4544  3028308            caioaugustofr   \n",
              "2583     4547  3029097           je_mascarenhas   \n",
              "2584     4548  3029149                linequer_   \n",
              "\n",
              "                                                  texto    shortCode  \\\n",
              "0                                                   👏👏👏  CkG9KXjpY2B   \n",
              "1     O app está travando desde ontem, está em manut...  CkG9KXjpY2B   \n",
              "2     Abri uma conta, mas achei muito complicado inv...  CkG9KXjpY2B   \n",
              "3                                                     👏  CkG9KXjpY2B   \n",
              "4     Prezados, o app btg banking está fora do ar o ...  CkG9KXjpY2B   \n",
              "...                                                 ...          ...   \n",
              "2580  Apareceu o vídeo patrocinado no YT, ficou top 👏👏👏  CnzSr6ltH74   \n",
              "2581                              A melhor que temos 🥰🥰  Cn4bcg7LM4t   \n",
              "2582  Estão contratando muitos blogueiros, mas eu fi...  Cn4bcg7LM4t   \n",
              "2583                         Arrasa Micaaa 💙✨🙏🏼👏🏼👏🏼👏🏼👏🏼  Cn4bcg7LM4t   \n",
              "2584                                      Excelência! 👏  CnzSr6ltH74   \n",
              "\n",
              "     tipoInteracao tipoMidia        idInteracao idPai  \\\n",
              "0          comment     REELS  17943066782219685     -   \n",
              "1          comment     REELS  17988010663613927     -   \n",
              "2          comment     REELS  17955765434145877     -   \n",
              "3          comment     REELS  17868806699792839     -   \n",
              "4          comment     REELS  18327741553009776     -   \n",
              "...            ...       ...                ...   ...   \n",
              "2580       comment     REELS  17957000375356996     -   \n",
              "2581       comment     REELS  17913917285610958     -   \n",
              "2582       comment     REELS  17965800242039792     -   \n",
              "2583       comment     REELS  17969884580114389     -   \n",
              "2584       comment     REELS  17992357330670534     -   \n",
              "\n",
              "                                                    URL        dataPublicada  \\\n",
              "0     https://www.instagram.com/p/CkG9KXjpY2B/c/1794...  2022-10-25 19:13:45   \n",
              "1     https://www.instagram.com/p/CkG9KXjpY2B/c/1798...  2022-10-25 12:54:54   \n",
              "2     https://www.instagram.com/p/CkG9KXjpY2B/c/1795...  2022-10-25 12:03:51   \n",
              "3     https://www.instagram.com/p/CkG9KXjpY2B/c/1786...  2022-10-25 00:30:31   \n",
              "4     https://www.instagram.com/p/CkG9KXjpY2B/c/1832...  2022-10-24 21:58:17   \n",
              "...                                                 ...                  ...   \n",
              "2580  https://www.instagram.com/p/CnzSr6ltH74/c/1795...  2023-01-26 18:20:18   \n",
              "2581  https://www.instagram.com/p/Cn4bcg7LM4t/c/1791...  2023-01-26 18:47:19   \n",
              "2582  https://www.instagram.com/p/Cn4bcg7LM4t/c/1796...  2023-01-26 18:41:35   \n",
              "2583  https://www.instagram.com/p/Cn4bcg7LM4t/c/1796...  2023-01-26 19:26:41   \n",
              "2584  https://www.instagram.com/p/CnzSr6ltH74/c/1799...  2023-01-26 19:28:33   \n",
              "\n",
              "             dataInsercao  anomalia  probabilidadeAnomalia  processado  \\\n",
              "0     2022-10-25 21:52:57      -1.0                    0.0         0.0   \n",
              "1     2022-10-25 21:52:57      -1.0                    0.0         0.0   \n",
              "2     2022-10-25 21:52:58      -1.0                    0.0         0.0   \n",
              "3     2022-10-25 21:52:58      -1.0                    0.0         0.0   \n",
              "4     2022-10-25 21:52:58      -1.0                    0.0         0.0   \n",
              "...                   ...       ...                    ...         ...   \n",
              "2580  2023-01-26 18:31:56      -1.0                    0.0         0.0   \n",
              "2581  2023-01-26 19:01:29      -1.0                    0.0         0.0   \n",
              "2582  2023-01-26 19:01:29      -1.0                    0.0         0.0   \n",
              "2583  2023-01-26 19:31:45      -1.0                    0.0         0.0   \n",
              "2584  2023-01-26 19:31:58      -1.0                    0.0         0.0   \n",
              "\n",
              "      contemHyperlink  \n",
              "0                -1.0  \n",
              "1                -1.0  \n",
              "2                -1.0  \n",
              "3                -1.0  \n",
              "4                -1.0  \n",
              "...               ...  \n",
              "2580             -1.0  \n",
              "2581             -1.0  \n",
              "2582             -1.0  \n",
              "2583             -1.0  \n",
              "2584             -1.0  \n",
              "\n",
              "[2585 rows x 16 columns]"
            ],
            "text/html": [
              "\n",
              "  <div id=\"df-52cb03bc-53d2-4fd5-93af-6159ee1a5f6d\">\n",
              "    <div class=\"colab-df-container\">\n",
              "      <div>\n",
              "<style scoped>\n",
              "    .dataframe tbody tr th:only-of-type {\n",
              "        vertical-align: middle;\n",
              "    }\n",
              "\n",
              "    .dataframe tbody tr th {\n",
              "        vertical-align: top;\n",
              "    }\n",
              "\n",
              "    .dataframe thead th {\n",
              "        text-align: right;\n",
              "    }\n",
              "</style>\n",
              "<table border=\"1\" class=\"dataframe\">\n",
              "  <thead>\n",
              "    <tr style=\"text-align: right;\">\n",
              "      <th></th>\n",
              "      <th>Column1</th>\n",
              "      <th>id</th>\n",
              "      <th>autor</th>\n",
              "      <th>texto</th>\n",
              "      <th>shortCode</th>\n",
              "      <th>tipoInteracao</th>\n",
              "      <th>tipoMidia</th>\n",
              "      <th>idInteracao</th>\n",
              "      <th>idPai</th>\n",
              "      <th>URL</th>\n",
              "      <th>dataPublicada</th>\n",
              "      <th>dataInsercao</th>\n",
              "      <th>anomalia</th>\n",
              "      <th>probabilidadeAnomalia</th>\n",
              "      <th>processado</th>\n",
              "      <th>contemHyperlink</th>\n",
              "    </tr>\n",
              "  </thead>\n",
              "  <tbody>\n",
              "    <tr>\n",
              "      <th>0</th>\n",
              "      <td>13</td>\n",
              "      <td>14</td>\n",
              "      <td>erikacoimbra</td>\n",
              "      <td>👏👏👏</td>\n",
              "      <td>CkG9KXjpY2B</td>\n",
              "      <td>comment</td>\n",
              "      <td>REELS</td>\n",
              "      <td>17943066782219685</td>\n",
              "      <td>-</td>\n",
              "      <td>https://www.instagram.com/p/CkG9KXjpY2B/c/1794...</td>\n",
              "      <td>2022-10-25 19:13:45</td>\n",
              "      <td>2022-10-25 21:52:57</td>\n",
              "      <td>-1.0</td>\n",
              "      <td>0.0</td>\n",
              "      <td>0.0</td>\n",
              "      <td>-1.0</td>\n",
              "    </tr>\n",
              "    <tr>\n",
              "      <th>1</th>\n",
              "      <td>14</td>\n",
              "      <td>15</td>\n",
              "      <td>anapaulanakade</td>\n",
              "      <td>O app está travando desde ontem, está em manut...</td>\n",
              "      <td>CkG9KXjpY2B</td>\n",
              "      <td>comment</td>\n",
              "      <td>REELS</td>\n",
              "      <td>17988010663613927</td>\n",
              "      <td>-</td>\n",
              "      <td>https://www.instagram.com/p/CkG9KXjpY2B/c/1798...</td>\n",
              "      <td>2022-10-25 12:54:54</td>\n",
              "      <td>2022-10-25 21:52:57</td>\n",
              "      <td>-1.0</td>\n",
              "      <td>0.0</td>\n",
              "      <td>0.0</td>\n",
              "      <td>-1.0</td>\n",
              "    </tr>\n",
              "    <tr>\n",
              "      <th>2</th>\n",
              "      <td>15</td>\n",
              "      <td>16</td>\n",
              "      <td>rosanakassar</td>\n",
              "      <td>Abri uma conta, mas achei muito complicado inv...</td>\n",
              "      <td>CkG9KXjpY2B</td>\n",
              "      <td>comment</td>\n",
              "      <td>REELS</td>\n",
              "      <td>17955765434145877</td>\n",
              "      <td>-</td>\n",
              "      <td>https://www.instagram.com/p/CkG9KXjpY2B/c/1795...</td>\n",
              "      <td>2022-10-25 12:03:51</td>\n",
              "      <td>2022-10-25 21:52:58</td>\n",
              "      <td>-1.0</td>\n",
              "      <td>0.0</td>\n",
              "      <td>0.0</td>\n",
              "      <td>-1.0</td>\n",
              "    </tr>\n",
              "    <tr>\n",
              "      <th>3</th>\n",
              "      <td>16</td>\n",
              "      <td>17</td>\n",
              "      <td>luizantoniojovinodossan</td>\n",
              "      <td>👏</td>\n",
              "      <td>CkG9KXjpY2B</td>\n",
              "      <td>comment</td>\n",
              "      <td>REELS</td>\n",
              "      <td>17868806699792839</td>\n",
              "      <td>-</td>\n",
              "      <td>https://www.instagram.com/p/CkG9KXjpY2B/c/1786...</td>\n",
              "      <td>2022-10-25 00:30:31</td>\n",
              "      <td>2022-10-25 21:52:58</td>\n",
              "      <td>-1.0</td>\n",
              "      <td>0.0</td>\n",
              "      <td>0.0</td>\n",
              "      <td>-1.0</td>\n",
              "    </tr>\n",
              "    <tr>\n",
              "      <th>4</th>\n",
              "      <td>17</td>\n",
              "      <td>18</td>\n",
              "      <td>ronialencar</td>\n",
              "      <td>Prezados, o app btg banking está fora do ar o ...</td>\n",
              "      <td>CkG9KXjpY2B</td>\n",
              "      <td>comment</td>\n",
              "      <td>REELS</td>\n",
              "      <td>18327741553009776</td>\n",
              "      <td>-</td>\n",
              "      <td>https://www.instagram.com/p/CkG9KXjpY2B/c/1832...</td>\n",
              "      <td>2022-10-24 21:58:17</td>\n",
              "      <td>2022-10-25 21:52:58</td>\n",
              "      <td>-1.0</td>\n",
              "      <td>0.0</td>\n",
              "      <td>0.0</td>\n",
              "      <td>-1.0</td>\n",
              "    </tr>\n",
              "    <tr>\n",
              "      <th>...</th>\n",
              "      <td>...</td>\n",
              "      <td>...</td>\n",
              "      <td>...</td>\n",
              "      <td>...</td>\n",
              "      <td>...</td>\n",
              "      <td>...</td>\n",
              "      <td>...</td>\n",
              "      <td>...</td>\n",
              "      <td>...</td>\n",
              "      <td>...</td>\n",
              "      <td>...</td>\n",
              "      <td>...</td>\n",
              "      <td>...</td>\n",
              "      <td>...</td>\n",
              "      <td>...</td>\n",
              "      <td>...</td>\n",
              "    </tr>\n",
              "    <tr>\n",
              "      <th>2580</th>\n",
              "      <td>4538</td>\n",
              "      <td>3027573</td>\n",
              "      <td>viniciuscavalcante01</td>\n",
              "      <td>Apareceu o vídeo patrocinado no YT, ficou top 👏👏👏</td>\n",
              "      <td>CnzSr6ltH74</td>\n",
              "      <td>comment</td>\n",
              "      <td>REELS</td>\n",
              "      <td>17957000375356996</td>\n",
              "      <td>-</td>\n",
              "      <td>https://www.instagram.com/p/CnzSr6ltH74/c/1795...</td>\n",
              "      <td>2023-01-26 18:20:18</td>\n",
              "      <td>2023-01-26 18:31:56</td>\n",
              "      <td>-1.0</td>\n",
              "      <td>0.0</td>\n",
              "      <td>0.0</td>\n",
              "      <td>-1.0</td>\n",
              "    </tr>\n",
              "    <tr>\n",
              "      <th>2581</th>\n",
              "      <td>4543</td>\n",
              "      <td>3028307</td>\n",
              "      <td>giballiana</td>\n",
              "      <td>A melhor que temos 🥰🥰</td>\n",
              "      <td>Cn4bcg7LM4t</td>\n",
              "      <td>comment</td>\n",
              "      <td>REELS</td>\n",
              "      <td>17913917285610958</td>\n",
              "      <td>-</td>\n",
              "      <td>https://www.instagram.com/p/Cn4bcg7LM4t/c/1791...</td>\n",
              "      <td>2023-01-26 18:47:19</td>\n",
              "      <td>2023-01-26 19:01:29</td>\n",
              "      <td>-1.0</td>\n",
              "      <td>0.0</td>\n",
              "      <td>0.0</td>\n",
              "      <td>-1.0</td>\n",
              "    </tr>\n",
              "    <tr>\n",
              "      <th>2582</th>\n",
              "      <td>4544</td>\n",
              "      <td>3028308</td>\n",
              "      <td>caioaugustofr</td>\n",
              "      <td>Estão contratando muitos blogueiros, mas eu fi...</td>\n",
              "      <td>Cn4bcg7LM4t</td>\n",
              "      <td>comment</td>\n",
              "      <td>REELS</td>\n",
              "      <td>17965800242039792</td>\n",
              "      <td>-</td>\n",
              "      <td>https://www.instagram.com/p/Cn4bcg7LM4t/c/1796...</td>\n",
              "      <td>2023-01-26 18:41:35</td>\n",
              "      <td>2023-01-26 19:01:29</td>\n",
              "      <td>-1.0</td>\n",
              "      <td>0.0</td>\n",
              "      <td>0.0</td>\n",
              "      <td>-1.0</td>\n",
              "    </tr>\n",
              "    <tr>\n",
              "      <th>2583</th>\n",
              "      <td>4547</td>\n",
              "      <td>3029097</td>\n",
              "      <td>je_mascarenhas</td>\n",
              "      <td>Arrasa Micaaa 💙✨🙏🏼👏🏼👏🏼👏🏼👏🏼</td>\n",
              "      <td>Cn4bcg7LM4t</td>\n",
              "      <td>comment</td>\n",
              "      <td>REELS</td>\n",
              "      <td>17969884580114389</td>\n",
              "      <td>-</td>\n",
              "      <td>https://www.instagram.com/p/Cn4bcg7LM4t/c/1796...</td>\n",
              "      <td>2023-01-26 19:26:41</td>\n",
              "      <td>2023-01-26 19:31:45</td>\n",
              "      <td>-1.0</td>\n",
              "      <td>0.0</td>\n",
              "      <td>0.0</td>\n",
              "      <td>-1.0</td>\n",
              "    </tr>\n",
              "    <tr>\n",
              "      <th>2584</th>\n",
              "      <td>4548</td>\n",
              "      <td>3029149</td>\n",
              "      <td>linequer_</td>\n",
              "      <td>Excelência! 👏</td>\n",
              "      <td>CnzSr6ltH74</td>\n",
              "      <td>comment</td>\n",
              "      <td>REELS</td>\n",
              "      <td>17992357330670534</td>\n",
              "      <td>-</td>\n",
              "      <td>https://www.instagram.com/p/CnzSr6ltH74/c/1799...</td>\n",
              "      <td>2023-01-26 19:28:33</td>\n",
              "      <td>2023-01-26 19:31:58</td>\n",
              "      <td>-1.0</td>\n",
              "      <td>0.0</td>\n",
              "      <td>0.0</td>\n",
              "      <td>-1.0</td>\n",
              "    </tr>\n",
              "  </tbody>\n",
              "</table>\n",
              "<p>2585 rows × 16 columns</p>\n",
              "</div>\n",
              "      <button class=\"colab-df-convert\" onclick=\"convertToInteractive('df-52cb03bc-53d2-4fd5-93af-6159ee1a5f6d')\"\n",
              "              title=\"Convert this dataframe to an interactive table.\"\n",
              "              style=\"display:none;\">\n",
              "        \n",
              "  <svg xmlns=\"http://www.w3.org/2000/svg\" height=\"24px\"viewBox=\"0 0 24 24\"\n",
              "       width=\"24px\">\n",
              "    <path d=\"M0 0h24v24H0V0z\" fill=\"none\"/>\n",
              "    <path d=\"M18.56 5.44l.94 2.06.94-2.06 2.06-.94-2.06-.94-.94-2.06-.94 2.06-2.06.94zm-11 1L8.5 8.5l.94-2.06 2.06-.94-2.06-.94L8.5 2.5l-.94 2.06-2.06.94zm10 10l.94 2.06.94-2.06 2.06-.94-2.06-.94-.94-2.06-.94 2.06-2.06.94z\"/><path d=\"M17.41 7.96l-1.37-1.37c-.4-.4-.92-.59-1.43-.59-.52 0-1.04.2-1.43.59L10.3 9.45l-7.72 7.72c-.78.78-.78 2.05 0 2.83L4 21.41c.39.39.9.59 1.41.59.51 0 1.02-.2 1.41-.59l7.78-7.78 2.81-2.81c.8-.78.8-2.07 0-2.86zM5.41 20L4 18.59l7.72-7.72 1.47 1.35L5.41 20z\"/>\n",
              "  </svg>\n",
              "      </button>\n",
              "      \n",
              "  <style>\n",
              "    .colab-df-container {\n",
              "      display:flex;\n",
              "      flex-wrap:wrap;\n",
              "      gap: 12px;\n",
              "    }\n",
              "\n",
              "    .colab-df-convert {\n",
              "      background-color: #E8F0FE;\n",
              "      border: none;\n",
              "      border-radius: 50%;\n",
              "      cursor: pointer;\n",
              "      display: none;\n",
              "      fill: #1967D2;\n",
              "      height: 32px;\n",
              "      padding: 0 0 0 0;\n",
              "      width: 32px;\n",
              "    }\n",
              "\n",
              "    .colab-df-convert:hover {\n",
              "      background-color: #E2EBFA;\n",
              "      box-shadow: 0px 1px 2px rgba(60, 64, 67, 0.3), 0px 1px 3px 1px rgba(60, 64, 67, 0.15);\n",
              "      fill: #174EA6;\n",
              "    }\n",
              "\n",
              "    [theme=dark] .colab-df-convert {\n",
              "      background-color: #3B4455;\n",
              "      fill: #D2E3FC;\n",
              "    }\n",
              "\n",
              "    [theme=dark] .colab-df-convert:hover {\n",
              "      background-color: #434B5C;\n",
              "      box-shadow: 0px 1px 3px 1px rgba(0, 0, 0, 0.15);\n",
              "      filter: drop-shadow(0px 1px 2px rgba(0, 0, 0, 0.3));\n",
              "      fill: #FFFFFF;\n",
              "    }\n",
              "  </style>\n",
              "\n",
              "      <script>\n",
              "        const buttonEl =\n",
              "          document.querySelector('#df-52cb03bc-53d2-4fd5-93af-6159ee1a5f6d button.colab-df-convert');\n",
              "        buttonEl.style.display =\n",
              "          google.colab.kernel.accessAllowed ? 'block' : 'none';\n",
              "\n",
              "        async function convertToInteractive(key) {\n",
              "          const element = document.querySelector('#df-52cb03bc-53d2-4fd5-93af-6159ee1a5f6d');\n",
              "          const dataTable =\n",
              "            await google.colab.kernel.invokeFunction('convertToInteractive',\n",
              "                                                     [key], {});\n",
              "          if (!dataTable) return;\n",
              "\n",
              "          const docLinkHtml = 'Like what you see? Visit the ' +\n",
              "            '<a target=\"_blank\" href=https://colab.research.google.com/notebooks/data_table.ipynb>data table notebook</a>'\n",
              "            + ' to learn more about interactive tables.';\n",
              "          element.innerHTML = '';\n",
              "          dataTable['output_type'] = 'display_data';\n",
              "          await google.colab.output.renderOutput(dataTable, element);\n",
              "          const docLink = document.createElement('div');\n",
              "          docLink.innerHTML = docLinkHtml;\n",
              "          element.appendChild(docLink);\n",
              "        }\n",
              "      </script>\n",
              "    </div>\n",
              "  </div>\n",
              "  "
            ]
          },
          "metadata": {},
          "execution_count": 84
        }
      ]
    },
    {
      "cell_type": "code",
      "source": [
        "df['texto']"
      ],
      "metadata": {
        "colab": {
          "base_uri": "https://localhost:8080/"
        },
        "id": "QSyAJ2A_LKWa",
        "outputId": "f8792a81-bf10-478f-e94c-43402cdf5c0d"
      },
      "execution_count": 85,
      "outputs": [
        {
          "output_type": "execute_result",
          "data": {
            "text/plain": [
              "0                                                     👏👏👏\n",
              "1       O app está travando desde ontem, está em manut...\n",
              "2       Abri uma conta, mas achei muito complicado inv...\n",
              "3                                                       👏\n",
              "4       Prezados, o app btg banking está fora do ar o ...\n",
              "                              ...                        \n",
              "2580    Apareceu o vídeo patrocinado no YT, ficou top 👏👏👏\n",
              "2581                                A melhor que temos 🥰🥰\n",
              "2582    Estão contratando muitos blogueiros, mas eu fi...\n",
              "2583                           Arrasa Micaaa 💙✨🙏🏼👏🏼👏🏼👏🏼👏🏼\n",
              "2584                                        Excelência! 👏\n",
              "Name: texto, Length: 2585, dtype: object"
            ]
          },
          "metadata": {},
          "execution_count": 85
        }
      ]
    },
    {
      "cell_type": "code",
      "source": [
        "emoji_dict = {\n",
        "    '😀': ':feliz:',\n",
        "    '😂': ':risos:',\n",
        "    '😔': ':triste:',\n",
        "    '👏': ':palmas:',\n",
        "    '🥰': ':amável:',\n",
        "    '💙': ':coração:',\n",
        "    '🙏🏼': ':orando:',\n",
        "    '✨': ':brilhando',\n",
        "    '🤮': ':nojo:',\n",
        "    '🚀': ':foguete:',\n",
        "    '👿': ':diabo:',\n",
        "    '🤢': ':nojo:',\n",
        "    '🔥': ':fogo:',\n",
        "    '😡': ':fúria:',\n",
        "    '🤬': ':fúria:',\n",
        "    '😠': ':fúria:',\n",
        "    '🤣': ':rindo:',\n",
        "    '😃': ':feliz:',\n",
        "    '😎': ':curtindo:',\n",
        "    '😊': ':feliz:',\n",
        "    '🤩': ':maravilhado:',\n",
        "    '😋': ':delicioso:',\n",
        "    '😆': ':risada:',\n",
        "    '😌': ':calmo:',\n",
        "    '🤔': ':pensativo:',\n",
        "    '😷': ':máscara:',\n",
        "    '🤣': ':muitoRiso:',\n",
        "    '🥺': ':carinhoso:',\n",
        "    '👍': ':positivo:',\n",
        "    '🤯': ':menteExplodida:',\n",
        "    '😅': ':alívio:',\n",
        "    '🥰': ':carinhaComCoração:',\n",
        "    '😓': ':suor:',\n",
        "    '😑': ':tédio:',\n",
        "    '🤫': ':silêncio:',\n",
        "    '🤝': ':apertoDeMãos:',\n",
        "    '😊': ':sorriso:',\n",
        "    '😍': ':apaixonado:',\n",
        "    '😭': ':choro:',\n",
        "    '🤗': ':abraço:',\n",
        "    '🎉': ':festa:',\n",
        "    '😎': ':descolado:',\n",
        "    '😱': ':surpresa:',\n",
        "    '😴': ':sono:',\n",
        "    '🙌': ':celebração:',\n",
        "    '🤔': ':pensativo:',\n",
        "    '😘': ':beijo:',\n",
        "    '🥳': ':festeiro:',\n",
        "    '🙄': ':revirarOsOlhos:',\n",
        "    '😌': ':alívio:',\n",
        "    '🤫': ':segredo:',\n",
        "    '😇': ':inocente:',\n",
        "    '😂': ':muitoEngraçado:',\n",
        "    '🤔': ':pensando:',\n",
        "    '😴': ':sono:',\n",
        "    '🤪': ':loucura:',\n",
        "}"
      ],
      "metadata": {
        "id": "3wnewdTke-yR"
      },
      "execution_count": 86,
      "outputs": []
    },
    {
      "cell_type": "code",
      "source": [
        "def emoji_to_palavra(text):\n",
        "    for emoji_code, word in emoji_dict.items():\n",
        "        text = text.replace(emoji_code, word)\n",
        "    return text"
      ],
      "metadata": {
        "id": "1kPKM2cRwbuu"
      },
      "execution_count": 87,
      "outputs": []
    },
    {
      "cell_type": "code",
      "source": [
        "df['texto_e_palvra'] = df['texto'].apply(emoji_to_palavra)"
      ],
      "metadata": {
        "id": "azKcydSswbnD"
      },
      "execution_count": 88,
      "outputs": []
    },
    {
      "cell_type": "code",
      "source": [
        "df['texto_e_palvra']"
      ],
      "metadata": {
        "colab": {
          "base_uri": "https://localhost:8080/"
        },
        "id": "DSM7xOvYwbe3",
        "outputId": "755977c7-03c1-4fb3-b9e6-a83dddc33b60"
      },
      "execution_count": 89,
      "outputs": [
        {
          "output_type": "execute_result",
          "data": {
            "text/plain": [
              "0                                :palmas::palmas::palmas:\n",
              "1       O app está travando desde ontem, está em manut...\n",
              "2       Abri uma conta, mas achei muito complicado inv...\n",
              "3                                                :palmas:\n",
              "4       Prezados, o app btg banking está fora do ar o ...\n",
              "                              ...                        \n",
              "2580    Apareceu o vídeo patrocinado no YT, ficou top ...\n",
              "2581    A melhor que temos :carinhaComCoração::carinha...\n",
              "2582    Estão contratando muitos blogueiros, mas eu fi...\n",
              "2583    Arrasa Micaaa :coração::brilhando:orando::palm...\n",
              "2584                                 Excelência! :palmas:\n",
              "Name: texto_e_palvra, Length: 2585, dtype: object"
            ]
          },
          "metadata": {},
          "execution_count": 89
        }
      ]
    }
  ]
}