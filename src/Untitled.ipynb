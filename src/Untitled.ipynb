{
 "cells": [
  {
   "cell_type": "code",
   "execution_count": 1,
   "id": "33c05c6c",
   "metadata": {},
   "outputs": [],
   "source": [
    "import pandas as pd"
   ]
  },
  {
   "cell_type": "code",
   "execution_count": 2,
   "id": "e00079c9",
   "metadata": {},
   "outputs": [],
   "source": [
    "from keras.preprocessing import sequence\n",
    "from keras.layers import Embedding, Dense, Flatten\n",
    "from keras.models import Sequential\n"
   ]
  },
  {
   "cell_type": "code",
   "execution_count": 3,
   "id": "a7ac6b66",
   "metadata": {},
   "outputs": [],
   "source": [
    "from sklearn import preprocessing\n"
   ]
  },
  {
   "cell_type": "code",
   "execution_count": 4,
   "id": "43996a47",
   "metadata": {},
   "outputs": [],
   "source": [
    "df = pd.read_csv('../base/word2vec_corpus.csv', index_col=0)\n"
   ]
  },
  {
   "cell_type": "code",
   "execution_count": 5,
   "id": "a285d6a2",
   "metadata": {},
   "outputs": [],
   "source": [
    "df_cbow = pd.read_csv('../output/word2vec_cbow.csv', index_col=0)"
   ]
  },
  {
   "cell_type": "code",
   "execution_count": 6,
   "id": "51d47694",
   "metadata": {},
   "outputs": [],
   "source": [
    "le = preprocessing.LabelEncoder()"
   ]
  },
  {
   "cell_type": "code",
   "execution_count": 7,
   "id": "6be50c9c",
   "metadata": {},
   "outputs": [],
   "source": [
    "le.fit(df_cbow['sentimento'])\n",
    "df_cbow['sentimento'] = le.transform(df_cbow['sentimento'])"
   ]
  },
  {
   "cell_type": "code",
   "execution_count": 8,
   "id": "a5b3ba2b",
   "metadata": {},
   "outputs": [],
   "source": [
    "from sklearn.model_selection import train_test_split\n"
   ]
  },
  {
   "cell_type": "code",
   "execution_count": 9,
   "id": "20dbba43",
   "metadata": {},
   "outputs": [],
   "source": [
    "target = df_cbow['sentimento']\n",
    "features = df_cbow.iloc[:,0:50]"
   ]
  },
  {
   "cell_type": "code",
   "execution_count": 10,
   "id": "6c58d441",
   "metadata": {},
   "outputs": [],
   "source": [
    "X_train, X_test, y_train, y_test = train_test_split(features, target, test_size=0.2, random_state=42)\n"
   ]
  },
  {
   "cell_type": "code",
   "execution_count": 19,
   "id": "9dbbea50",
   "metadata": {},
   "outputs": [],
   "source": [
    "vocab_size = len(target) + 1\n"
   ]
  },
  {
   "cell_type": "code",
   "execution_count": 20,
   "id": "6a1bed2c",
   "metadata": {
    "scrolled": true
   },
   "outputs": [],
   "source": [
    "embeddings = Embedding(vocab_size, 100, weights=23, input_length=4, trainable=False)\n"
   ]
  },
  {
   "cell_type": "code",
   "execution_count": 21,
   "id": "546c78e8",
   "metadata": {},
   "outputs": [
    {
     "ename": "TypeError",
     "evalue": "object of type 'int' has no len()",
     "output_type": "error",
     "traceback": [
      "\u001b[1;31m---------------------------------------------------------------------------\u001b[0m",
      "\u001b[1;31mTypeError\u001b[0m                                 Traceback (most recent call last)",
      "Cell \u001b[1;32mIn[21], line 7\u001b[0m\n\u001b[0;32m      5\u001b[0m \u001b[38;5;66;03m# Neural network\u001b[39;00m\n\u001b[0;32m      6\u001b[0m model \u001b[38;5;241m=\u001b[39m Sequential()\n\u001b[1;32m----> 7\u001b[0m \u001b[43mmodel\u001b[49m\u001b[38;5;241;43m.\u001b[39;49m\u001b[43madd\u001b[49m\u001b[43m(\u001b[49m\u001b[43membeddings\u001b[49m\u001b[43m)\u001b[49m\n\u001b[0;32m      8\u001b[0m model\u001b[38;5;241m.\u001b[39madd(Dense(\u001b[38;5;241m70\u001b[39m, input_dim\u001b[38;5;241m=\u001b[39m\u001b[38;5;241m50\u001b[39m, activation\u001b[38;5;241m=\u001b[39m\u001b[38;5;124m'\u001b[39m\u001b[38;5;124mrelu\u001b[39m\u001b[38;5;124m'\u001b[39m))\n\u001b[0;32m      9\u001b[0m model\u001b[38;5;241m.\u001b[39madd(Dense(\u001b[38;5;241m40\u001b[39m, activation\u001b[38;5;241m=\u001b[39m\u001b[38;5;124m'\u001b[39m\u001b[38;5;124mrelu\u001b[39m\u001b[38;5;124m'\u001b[39m))\n",
      "File \u001b[1;32m~\\AppData\\Local\\Programs\\Python\\Python311\\Lib\\site-packages\\tensorflow\\python\\trackable\\base.py:205\u001b[0m, in \u001b[0;36mno_automatic_dependency_tracking.<locals>._method_wrapper\u001b[1;34m(self, *args, **kwargs)\u001b[0m\n\u001b[0;32m    203\u001b[0m \u001b[38;5;28mself\u001b[39m\u001b[38;5;241m.\u001b[39m_self_setattr_tracking \u001b[38;5;241m=\u001b[39m \u001b[38;5;28;01mFalse\u001b[39;00m  \u001b[38;5;66;03m# pylint: disable=protected-access\u001b[39;00m\n\u001b[0;32m    204\u001b[0m \u001b[38;5;28;01mtry\u001b[39;00m:\n\u001b[1;32m--> 205\u001b[0m   result \u001b[38;5;241m=\u001b[39m \u001b[43mmethod\u001b[49m\u001b[43m(\u001b[49m\u001b[38;5;28;43mself\u001b[39;49m\u001b[43m,\u001b[49m\u001b[43m \u001b[49m\u001b[38;5;241;43m*\u001b[39;49m\u001b[43margs\u001b[49m\u001b[43m,\u001b[49m\u001b[43m \u001b[49m\u001b[38;5;241;43m*\u001b[39;49m\u001b[38;5;241;43m*\u001b[39;49m\u001b[43mkwargs\u001b[49m\u001b[43m)\u001b[49m\n\u001b[0;32m    206\u001b[0m \u001b[38;5;28;01mfinally\u001b[39;00m:\n\u001b[0;32m    207\u001b[0m   \u001b[38;5;28mself\u001b[39m\u001b[38;5;241m.\u001b[39m_self_setattr_tracking \u001b[38;5;241m=\u001b[39m previous_value  \u001b[38;5;66;03m# pylint: disable=protected-access\u001b[39;00m\n",
      "File \u001b[1;32m~\\AppData\\Local\\Programs\\Python\\Python311\\Lib\\site-packages\\keras\\utils\\traceback_utils.py:70\u001b[0m, in \u001b[0;36mfilter_traceback.<locals>.error_handler\u001b[1;34m(*args, **kwargs)\u001b[0m\n\u001b[0;32m     67\u001b[0m     filtered_tb \u001b[38;5;241m=\u001b[39m _process_traceback_frames(e\u001b[38;5;241m.\u001b[39m__traceback__)\n\u001b[0;32m     68\u001b[0m     \u001b[38;5;66;03m# To get the full stack trace, call:\u001b[39;00m\n\u001b[0;32m     69\u001b[0m     \u001b[38;5;66;03m# `tf.debugging.disable_traceback_filtering()`\u001b[39;00m\n\u001b[1;32m---> 70\u001b[0m     \u001b[38;5;28;01mraise\u001b[39;00m e\u001b[38;5;241m.\u001b[39mwith_traceback(filtered_tb) \u001b[38;5;28;01mfrom\u001b[39;00m \u001b[38;5;28;01mNone\u001b[39;00m\n\u001b[0;32m     71\u001b[0m \u001b[38;5;28;01mfinally\u001b[39;00m:\n\u001b[0;32m     72\u001b[0m     \u001b[38;5;28;01mdel\u001b[39;00m filtered_tb\n",
      "File \u001b[1;32m~\\AppData\\Local\\Programs\\Python\\Python311\\Lib\\site-packages\\keras\\engine\\base_layer.py:1801\u001b[0m, in \u001b[0;36mLayer.set_weights\u001b[1;34m(self, weights)\u001b[0m\n\u001b[0;32m   1798\u001b[0m     \u001b[38;5;28;01melse\u001b[39;00m:\n\u001b[0;32m   1799\u001b[0m         expected_num_weights \u001b[38;5;241m+\u001b[39m\u001b[38;5;241m=\u001b[39m \u001b[38;5;241m1\u001b[39m\n\u001b[1;32m-> 1801\u001b[0m \u001b[38;5;28;01mif\u001b[39;00m expected_num_weights \u001b[38;5;241m!=\u001b[39m \u001b[38;5;28;43mlen\u001b[39;49m\u001b[43m(\u001b[49m\u001b[43mweights\u001b[49m\u001b[43m)\u001b[49m:\n\u001b[0;32m   1802\u001b[0m     \u001b[38;5;28;01mraise\u001b[39;00m \u001b[38;5;167;01mValueError\u001b[39;00m(\n\u001b[0;32m   1803\u001b[0m         \u001b[38;5;124m'\u001b[39m\u001b[38;5;124mYou called `set_weights(weights)` on layer \u001b[39m\u001b[38;5;124m\"\u001b[39m\u001b[38;5;132;01m%s\u001b[39;00m\u001b[38;5;124m\"\u001b[39m\u001b[38;5;124m \u001b[39m\u001b[38;5;124m'\u001b[39m\n\u001b[0;32m   1804\u001b[0m         \u001b[38;5;124m\"\u001b[39m\u001b[38;5;124mwith a weight list of length \u001b[39m\u001b[38;5;132;01m%s\u001b[39;00m\u001b[38;5;124m, but the layer was \u001b[39m\u001b[38;5;124m\"\u001b[39m\n\u001b[1;32m   (...)\u001b[0m\n\u001b[0;32m   1811\u001b[0m         )\n\u001b[0;32m   1812\u001b[0m     )\n\u001b[0;32m   1814\u001b[0m weight_index \u001b[38;5;241m=\u001b[39m \u001b[38;5;241m0\u001b[39m\n",
      "\u001b[1;31mTypeError\u001b[0m: object of type 'int' has no len()"
     ]
    }
   ],
   "source": [
    "#Dependencies\n",
    "import keras\n",
    "from keras.models import Sequential\n",
    "from keras.layers import Dense\n",
    "# Neural network\n",
    "model = Sequential()\n",
    "model.add(embeddings)\n",
    "model.add(Dense(70, input_dim=50, activation='relu'))\n",
    "model.add(Dense(40, activation='relu'))\n",
    "model.add(Dense(30, activation='relu'))\n",
    "model.add(Dense(1, activation='softmax'))\n"
   ]
  },
  {
   "cell_type": "code",
   "execution_count": 12,
   "id": "0405c9f1",
   "metadata": {},
   "outputs": [],
   "source": [
    "model.compile(loss='binary_crossentropy', optimizer='adam', metrics=['accuracy'])\n"
   ]
  },
  {
   "cell_type": "code",
   "execution_count": 13,
   "id": "a31443fa",
   "metadata": {},
   "outputs": [
    {
     "name": "stdout",
     "output_type": "stream",
     "text": [
      "Epoch 1/100\n",
      "71/71 [==============================] - 2s 3ms/step - loss: 0.3189 - accuracy: 0.3854\n",
      "Epoch 2/100\n",
      "71/71 [==============================] - 0s 3ms/step - loss: 0.1287 - accuracy: 0.3854\n",
      "Epoch 3/100\n",
      "71/71 [==============================] - 0s 3ms/step - loss: -0.2162 - accuracy: 0.3854\n",
      "Epoch 4/100\n",
      "71/71 [==============================] - 0s 3ms/step - loss: -2.0368 - accuracy: 0.3854\n",
      "Epoch 5/100\n",
      "71/71 [==============================] - 0s 2ms/step - loss: -10.4616 - accuracy: 0.3854\n",
      "Epoch 6/100\n",
      "71/71 [==============================] - 0s 3ms/step - loss: -36.5121 - accuracy: 0.3854\n",
      "Epoch 7/100\n",
      "71/71 [==============================] - 0s 2ms/step - loss: -95.7558 - accuracy: 0.3854\n",
      "Epoch 8/100\n",
      "71/71 [==============================] - 0s 3ms/step - loss: -200.2197 - accuracy: 0.3854\n",
      "Epoch 9/100\n",
      "71/71 [==============================] - 0s 3ms/step - loss: -373.0764 - accuracy: 0.3854\n",
      "Epoch 10/100\n",
      "71/71 [==============================] - 0s 2ms/step - loss: -636.2449 - accuracy: 0.3854\n",
      "Epoch 11/100\n",
      "71/71 [==============================] - 0s 2ms/step - loss: -1007.7737 - accuracy: 0.3854\n",
      "Epoch 12/100\n",
      "71/71 [==============================] - 0s 4ms/step - loss: -1527.0297 - accuracy: 0.3854\n",
      "Epoch 13/100\n",
      "71/71 [==============================] - 0s 4ms/step - loss: -2220.3989 - accuracy: 0.3854\n",
      "Epoch 14/100\n",
      "71/71 [==============================] - 0s 3ms/step - loss: -3080.9199 - accuracy: 0.3854\n",
      "Epoch 15/100\n",
      "71/71 [==============================] - 0s 4ms/step - loss: -4153.9155 - accuracy: 0.3854\n",
      "Epoch 16/100\n",
      "71/71 [==============================] - 0s 4ms/step - loss: -5464.9321 - accuracy: 0.3854\n",
      "Epoch 17/100\n",
      "71/71 [==============================] - 0s 4ms/step - loss: -7030.3911 - accuracy: 0.3854\n",
      "Epoch 18/100\n",
      "71/71 [==============================] - 0s 4ms/step - loss: -8827.8984 - accuracy: 0.3854\n",
      "Epoch 19/100\n",
      "71/71 [==============================] - 0s 3ms/step - loss: -10918.4990 - accuracy: 0.3854\n",
      "Epoch 20/100\n",
      "71/71 [==============================] - 0s 3ms/step - loss: -13349.0254 - accuracy: 0.3854\n",
      "Epoch 21/100\n",
      "71/71 [==============================] - 0s 2ms/step - loss: -16070.8477 - accuracy: 0.3854\n",
      "Epoch 22/100\n",
      "71/71 [==============================] - 0s 2ms/step - loss: -19210.5566 - accuracy: 0.3854\n",
      "Epoch 23/100\n",
      "71/71 [==============================] - 0s 3ms/step - loss: -22718.6719 - accuracy: 0.3854\n",
      "Epoch 24/100\n",
      "71/71 [==============================] - 0s 3ms/step - loss: -26545.0508 - accuracy: 0.3854\n",
      "Epoch 25/100\n",
      "71/71 [==============================] - 0s 3ms/step - loss: -30995.4336 - accuracy: 0.3854\n",
      "Epoch 26/100\n",
      "71/71 [==============================] - 0s 3ms/step - loss: -35796.4727 - accuracy: 0.3854\n",
      "Epoch 27/100\n",
      "71/71 [==============================] - 0s 3ms/step - loss: -41096.7031 - accuracy: 0.3854\n",
      "Epoch 28/100\n",
      "71/71 [==============================] - 0s 3ms/step - loss: -46797.6445 - accuracy: 0.3854\n",
      "Epoch 29/100\n",
      "71/71 [==============================] - 0s 3ms/step - loss: -53052.6523 - accuracy: 0.3854\n",
      "Epoch 30/100\n",
      "71/71 [==============================] - 0s 3ms/step - loss: -59787.3438 - accuracy: 0.3854\n",
      "Epoch 31/100\n",
      "71/71 [==============================] - 0s 3ms/step - loss: -67265.6953 - accuracy: 0.3854\n",
      "Epoch 32/100\n",
      "71/71 [==============================] - 0s 3ms/step - loss: -75251.2891 - accuracy: 0.3854\n",
      "Epoch 33/100\n",
      "71/71 [==============================] - 0s 3ms/step - loss: -83957.3516 - accuracy: 0.3854\n",
      "Epoch 34/100\n",
      "71/71 [==============================] - 0s 3ms/step - loss: -93240.7812 - accuracy: 0.3854\n",
      "Epoch 35/100\n",
      "71/71 [==============================] - 0s 3ms/step - loss: -103306.1641 - accuracy: 0.3854\n",
      "Epoch 36/100\n",
      "71/71 [==============================] - 0s 3ms/step - loss: -113904.4844 - accuracy: 0.3854\n",
      "Epoch 37/100\n",
      "71/71 [==============================] - 0s 3ms/step - loss: -125426.8125 - accuracy: 0.3854\n",
      "Epoch 38/100\n",
      "71/71 [==============================] - 0s 3ms/step - loss: -137815.1406 - accuracy: 0.3854\n",
      "Epoch 39/100\n",
      "71/71 [==============================] - 0s 3ms/step - loss: -151049.5938 - accuracy: 0.3854\n",
      "Epoch 40/100\n",
      "71/71 [==============================] - 0s 3ms/step - loss: -165031.6562 - accuracy: 0.3854\n",
      "Epoch 41/100\n",
      "71/71 [==============================] - 0s 4ms/step - loss: -179877.5938 - accuracy: 0.3854\n",
      "Epoch 42/100\n",
      "71/71 [==============================] - 0s 3ms/step - loss: -195485.2969 - accuracy: 0.3854\n",
      "Epoch 43/100\n",
      "71/71 [==============================] - 0s 3ms/step - loss: -211811.0781 - accuracy: 0.3854\n",
      "Epoch 44/100\n",
      "71/71 [==============================] - 0s 3ms/step - loss: -228944.0781 - accuracy: 0.3854\n",
      "Epoch 45/100\n",
      "71/71 [==============================] - 0s 3ms/step - loss: -246964.0469 - accuracy: 0.3854\n",
      "Epoch 46/100\n",
      "71/71 [==============================] - 0s 3ms/step - loss: -265796.4375 - accuracy: 0.3854\n",
      "Epoch 47/100\n",
      "71/71 [==============================] - 0s 3ms/step - loss: -285383.6875 - accuracy: 0.3854\n",
      "Epoch 48/100\n",
      "71/71 [==============================] - 0s 3ms/step - loss: -306346.3438 - accuracy: 0.3854\n",
      "Epoch 49/100\n",
      "71/71 [==============================] - 0s 2ms/step - loss: -328208.1562 - accuracy: 0.3854\n",
      "Epoch 50/100\n",
      "71/71 [==============================] - 0s 3ms/step - loss: -350963.8438 - accuracy: 0.3854\n",
      "Epoch 51/100\n",
      "71/71 [==============================] - 0s 3ms/step - loss: -374898.4688 - accuracy: 0.3854\n",
      "Epoch 52/100\n",
      "71/71 [==============================] - 0s 3ms/step - loss: -399533.9062 - accuracy: 0.3854\n",
      "Epoch 53/100\n",
      "71/71 [==============================] - 0s 3ms/step - loss: -425655.4062 - accuracy: 0.3854\n",
      "Epoch 54/100\n",
      "71/71 [==============================] - 0s 3ms/step - loss: -452158.5938 - accuracy: 0.3854\n",
      "Epoch 55/100\n",
      "71/71 [==============================] - 0s 3ms/step - loss: -480039.7500 - accuracy: 0.3854\n",
      "Epoch 56/100\n",
      "71/71 [==============================] - 0s 3ms/step - loss: -509342.4062 - accuracy: 0.3854\n",
      "Epoch 57/100\n",
      "71/71 [==============================] - 0s 3ms/step - loss: -539343.0000 - accuracy: 0.3854\n",
      "Epoch 58/100\n",
      "71/71 [==============================] - 0s 3ms/step - loss: -570850.0000 - accuracy: 0.3854\n",
      "Epoch 59/100\n",
      "71/71 [==============================] - 0s 3ms/step - loss: -603355.1875 - accuracy: 0.3854\n",
      "Epoch 60/100\n",
      "71/71 [==============================] - 0s 3ms/step - loss: -636847.6875 - accuracy: 0.3854\n",
      "Epoch 61/100\n",
      "71/71 [==============================] - 0s 3ms/step - loss: -671216.6250 - accuracy: 0.3854\n",
      "Epoch 62/100\n",
      "71/71 [==============================] - 0s 3ms/step - loss: -707191.2500 - accuracy: 0.3854\n",
      "Epoch 63/100\n",
      "71/71 [==============================] - 0s 3ms/step - loss: -745305.1250 - accuracy: 0.3854\n",
      "Epoch 64/100\n",
      "71/71 [==============================] - 0s 3ms/step - loss: -783744.5000 - accuracy: 0.3854\n",
      "Epoch 65/100\n",
      "71/71 [==============================] - 0s 2ms/step - loss: -824393.1875 - accuracy: 0.3854\n",
      "Epoch 66/100\n",
      "71/71 [==============================] - 0s 3ms/step - loss: -865902.0000 - accuracy: 0.3854\n",
      "Epoch 67/100\n",
      "71/71 [==============================] - 0s 3ms/step - loss: -908976.0625 - accuracy: 0.3854\n",
      "Epoch 68/100\n",
      "71/71 [==============================] - 0s 3ms/step - loss: -954119.3750 - accuracy: 0.3854\n",
      "Epoch 69/100\n",
      "71/71 [==============================] - 0s 3ms/step - loss: -999583.3750 - accuracy: 0.3854\n",
      "Epoch 70/100\n",
      "71/71 [==============================] - 0s 3ms/step - loss: -1047397.5000 - accuracy: 0.3854\n",
      "Epoch 71/100\n",
      "71/71 [==============================] - 0s 3ms/step - loss: -1096008.8750 - accuracy: 0.3854\n",
      "Epoch 72/100\n",
      "71/71 [==============================] - 0s 3ms/step - loss: -1146502.1250 - accuracy: 0.3854\n",
      "Epoch 73/100\n",
      "71/71 [==============================] - 0s 3ms/step - loss: -1198855.1250 - accuracy: 0.3854\n",
      "Epoch 74/100\n",
      "71/71 [==============================] - 0s 3ms/step - loss: -1252439.5000 - accuracy: 0.3854\n",
      "Epoch 75/100\n",
      "71/71 [==============================] - 0s 3ms/step - loss: -1307342.0000 - accuracy: 0.3854\n",
      "Epoch 76/100\n",
      "71/71 [==============================] - 0s 3ms/step - loss: -1363782.2500 - accuracy: 0.3854\n",
      "Epoch 77/100\n",
      "71/71 [==============================] - 0s 3ms/step - loss: -1421692.6250 - accuracy: 0.3854\n",
      "Epoch 78/100\n",
      "71/71 [==============================] - 0s 3ms/step - loss: -1481911.6250 - accuracy: 0.3854\n"
     ]
    },
    {
     "name": "stdout",
     "output_type": "stream",
     "text": [
      "Epoch 79/100\n",
      "71/71 [==============================] - 0s 3ms/step - loss: -1543663.5000 - accuracy: 0.3854\n",
      "Epoch 80/100\n",
      "71/71 [==============================] - 0s 3ms/step - loss: -1607483.2500 - accuracy: 0.3854\n",
      "Epoch 81/100\n",
      "71/71 [==============================] - 0s 3ms/step - loss: -1673091.1250 - accuracy: 0.3854\n",
      "Epoch 82/100\n",
      "71/71 [==============================] - 0s 3ms/step - loss: -1739423.1250 - accuracy: 0.3854\n",
      "Epoch 83/100\n",
      "71/71 [==============================] - 0s 3ms/step - loss: -1809267.6250 - accuracy: 0.3854\n",
      "Epoch 84/100\n",
      "71/71 [==============================] - 0s 3ms/step - loss: -1879099.1250 - accuracy: 0.3854\n",
      "Epoch 85/100\n",
      "71/71 [==============================] - 0s 3ms/step - loss: -1951391.1250 - accuracy: 0.3854\n",
      "Epoch 86/100\n",
      "71/71 [==============================] - 0s 3ms/step - loss: -2024756.7500 - accuracy: 0.3854\n",
      "Epoch 87/100\n",
      "71/71 [==============================] - 0s 3ms/step - loss: -2101302.2500 - accuracy: 0.3854\n",
      "Epoch 88/100\n",
      "71/71 [==============================] - 0s 3ms/step - loss: -2180093.2500 - accuracy: 0.3854\n",
      "Epoch 89/100\n",
      "71/71 [==============================] - 0s 3ms/step - loss: -2259494.2500 - accuracy: 0.3854\n",
      "Epoch 90/100\n",
      "71/71 [==============================] - 0s 3ms/step - loss: -2342333.5000 - accuracy: 0.3854\n",
      "Epoch 91/100\n",
      "71/71 [==============================] - 0s 3ms/step - loss: -2426043.2500 - accuracy: 0.3854\n",
      "Epoch 92/100\n",
      "71/71 [==============================] - 0s 3ms/step - loss: -2513820.5000 - accuracy: 0.3854\n",
      "Epoch 93/100\n",
      "71/71 [==============================] - 0s 3ms/step - loss: -2602161.0000 - accuracy: 0.3854\n",
      "Epoch 94/100\n",
      "71/71 [==============================] - 0s 3ms/step - loss: -2690944.2500 - accuracy: 0.3854\n",
      "Epoch 95/100\n",
      "71/71 [==============================] - 0s 2ms/step - loss: -2783855.2500 - accuracy: 0.3854\n",
      "Epoch 96/100\n",
      "71/71 [==============================] - 0s 3ms/step - loss: -2877200.7500 - accuracy: 0.3854\n",
      "Epoch 97/100\n",
      "71/71 [==============================] - 0s 3ms/step - loss: -2972585.7500 - accuracy: 0.3854\n",
      "Epoch 98/100\n",
      "71/71 [==============================] - 0s 3ms/step - loss: -3071434.0000 - accuracy: 0.3854\n",
      "Epoch 99/100\n",
      "71/71 [==============================] - 0s 3ms/step - loss: -3169446.7500 - accuracy: 0.3854\n",
      "Epoch 100/100\n",
      "71/71 [==============================] - 0s 3ms/step - loss: -3271637.0000 - accuracy: 0.3854\n"
     ]
    }
   ],
   "source": [
    "history = model.fit(X_train, y_train, epochs=100, batch_size=64)\n"
   ]
  },
  {
   "cell_type": "code",
   "execution_count": 15,
   "id": "a574e042",
   "metadata": {},
   "outputs": [
    {
     "name": "stdout",
     "output_type": "stream",
     "text": [
      "36/36 [==============================] - 0s 1ms/step\n"
     ]
    }
   ],
   "source": [
    "y_pred = model.predict(X_test)\n"
   ]
  },
  {
   "cell_type": "code",
   "execution_count": null,
   "id": "4a95d35c",
   "metadata": {},
   "outputs": [],
   "source": []
  }
 ],
 "metadata": {
  "kernelspec": {
   "display_name": "Python 3 (ipykernel)",
   "language": "python",
   "name": "python3"
  },
  "language_info": {
   "codemirror_mode": {
    "name": "ipython",
    "version": 3
   },
   "file_extension": ".py",
   "mimetype": "text/x-python",
   "name": "python",
   "nbconvert_exporter": "python",
   "pygments_lexer": "ipython3",
   "version": "3.11.3"
  }
 },
 "nbformat": 4,
 "nbformat_minor": 5
}
