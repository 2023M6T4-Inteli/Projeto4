{
 "cells": [
  {
   "cell_type": "code",
   "execution_count": 1,
   "id": "6cc8c917",
   "metadata": {},
   "outputs": [],
   "source": [
    "from flask import Flask, jsonify, request\n",
    "import pickle\n",
    "import nltk\n",
    "import re\n",
    "from nltk.tokenize import word_tokenize\n",
    "from sklearn.feature_extraction.text import CountVectorizer\n",
    "import ast"
   ]
  },
  {
   "cell_type": "code",
   "execution_count": 2,
   "id": "5cb502b7",
   "metadata": {},
   "outputs": [
    {
     "name": "stdout",
     "output_type": "stream",
     "text": [
      "Requirement already satisfied: emoji in c:\\users\\inteli\\appdata\\local\\programs\\python\\python311\\lib\\site-packages (2.2.0)Note: you may need to restart the kernel to use updated packages.\n",
      "\n"
     ]
    }
   ],
   "source": [
    "pip install emoji"
   ]
  },
  {
   "cell_type": "code",
   "execution_count": 3,
   "id": "43f110e1",
   "metadata": {},
   "outputs": [
    {
     "name": "stdout",
     "output_type": "stream",
     "text": [
      "Requirement already satisfied: pandas in c:\\users\\inteli\\appdata\\local\\programs\\python\\python311\\lib\\site-packages (2.0.1)Note: you may need to restart the kernel to use updated packages.\n",
      "\n",
      "Requirement already satisfied: numpy in c:\\users\\inteli\\appdata\\local\\programs\\python\\python311\\lib\\site-packages (1.23.5)\n",
      "Requirement already satisfied: emoji in c:\\users\\inteli\\appdata\\local\\programs\\python\\python311\\lib\\site-packages (2.2.0)\n",
      "Requirement already satisfied: python-dateutil>=2.8.2 in c:\\users\\inteli\\appdata\\local\\programs\\python\\python311\\lib\\site-packages (from pandas) (2.8.2)\n",
      "Requirement already satisfied: pytz>=2020.1 in c:\\users\\inteli\\appdata\\local\\programs\\python\\python311\\lib\\site-packages (from pandas) (2023.3)\n",
      "Requirement already satisfied: tzdata>=2022.1 in c:\\users\\inteli\\appdata\\local\\programs\\python\\python311\\lib\\site-packages (from pandas) (2023.3)\n",
      "Requirement already satisfied: six>=1.5 in c:\\users\\inteli\\appdata\\local\\programs\\python\\python311\\lib\\site-packages (from python-dateutil>=2.8.2->pandas) (1.16.0)\n"
     ]
    }
   ],
   "source": [
    "pip install pandas numpy emoji"
   ]
  },
  {
   "cell_type": "code",
   "execution_count": 4,
   "id": "aeee0cad",
   "metadata": {},
   "outputs": [],
   "source": [
    "emoji_dict = {\n",
    "    '😀': 'feliz ',\n",
    "    '😂': 'risos ',\n",
    "    '😔': 'triste ',\n",
    "    '👏': 'palmas ',\n",
    "    '🥰': 'amável ',\n",
    "    '💙': 'coração azul ',\n",
    "    '🙏🏼': 'orando ',\n",
    "    '✨': 'brilhando ',\n",
    "    '🤮': 'nojo ',\n",
    "    '🚀': 'foguete ',\n",
    "    '👿': 'diabo ',\n",
    "    '🤢': 'nojo ',\n",
    "    '🔥': 'fogo ',\n",
    "    '😡': 'fúria ',\n",
    "    '😠': 'raiva ',\n",
    "    '🤣': 'rindo ',\n",
    "    '😃': 'feliz ',\n",
    "    '😎': 'curtindo ',\n",
    "    '😊': 'feliz ',\n",
    "    '🤩': 'maravilhado ',\n",
    "    '😋': 'delicioso ',\n",
    "    '😆': 'risada ',\n",
    "    '😌': 'calmo ',\n",
    "    '🤔': 'pensativo ',\n",
    "    '😷': 'máscara ',\n",
    "    '🤣': 'muitoRiso ',\n",
    "    '🥺': 'carinhoso ',\n",
    "    '👍': 'positivo ',\n",
    "    '🤯': 'menteExplodida ',\n",
    "    '😅': 'alívio ',\n",
    "    '🥰': 'carinhaComCoração ',\n",
    "    '😓': 'suor ',\n",
    "    '😑': 'tédio',\n",
    "    '🤫': 'silêncio',\n",
    "    '🤝': 'apertoDeMãos',\n",
    "    '😊': 'sorriso',\n",
    "    '😍': 'apaixonado',\n",
    "    '😭': 'choro ',\n",
    "    '🤗': 'abraço ',\n",
    "    '🎉': 'festa ',\n",
    "    '😎': 'descolado ',\n",
    "    '😱': 'surpresa ',\n",
    "    '😴': 'sono ',\n",
    "    '🙌': 'celebração ',\n",
    "    '🤔': 'pensativo ',\n",
    "    '😘': 'beijo ',\n",
    "    '🥳': 'festeiro ',\n",
    "    '🙄': 'revirarOsOlhos ',\n",
    "    '😌': 'alívio ',\n",
    "    '🤫': 'segredo ',\n",
    "    '😇': 'inocente ',\n",
    "    '😂': 'muitoEngraçado ',\n",
    "    '🤔': 'pensando ',\n",
    "    '😴': 'sono ',\n",
    "    '🤪': 'loucura ',\n",
    "    '😢': 'decepcionadoAliviado ',\n",
    "    '😬': 'nervoso ',\n",
    "    '😌': 'alívio',\n",
    "    '😔': 'triste ',\n",
    "    '😞': 'desapontado ',\n",
    "    '😢': 'choro ',\n",
    "    '😭': 'chorando ',\n",
    "    '😡': 'raiva ',\n",
    "    '🤯': 'mente explodida ',\n",
    "    '😳': 'surpreso ',\n",
    "    '😱': 'gritando ',\n",
    "    '😨': 'assustado ',\n",
    "    '😴': 'sono ',\n",
    "    '🥱': 'bocejando ',\n",
    "    '🤢': 'enjoado ',\n",
    "    '🤮': 'vomitando ',\n",
    "    '🤧': 'espirro ',\n",
    "    '🤒': 'doente ',\n",
    "    '🤕': 'machucado ',\n",
    "    '🤑': 'dinheiro ',\n",
    "}"
   ]
  },
  {
   "cell_type": "code",
   "execution_count": 5,
   "id": "56695fae",
   "metadata": {},
   "outputs": [],
   "source": [
    "def emoji_to_word(text):\n",
    "    for emoji_code, emoji_word in emoji_dict.items():\n",
    "        text = text.replace(emoji_code, emoji_word)\n",
    "    return text"
   ]
  },
  {
   "cell_type": "code",
   "execution_count": 6,
   "id": "b88c240f",
   "metadata": {},
   "outputs": [],
   "source": [
    "def processarTexto(text):\n",
    "    # Converter palavras da frase para minúsculas\n",
    "    text = text.lower() \n",
    "    # Tokenizar o texto em palavras\n",
    "    tokens = word_tokenize(text) \n",
    "    # Remover stopwords das palavras tokenizadas\n",
    "    stop_words = ['@', 'banco', 'btg', 'brg', 'pactual', 'btgpactual','pq', 'q', 'pra', 'vcs', 'vc', 'i', 'p', 'kkk', 'y', 'of', 'n', 'a', 'à', 'as', 'o', 'os', 'e', 'aos', 'do', 'das', 'dos', 'das', 'de', 'deles', 'dela', 'deles', 'delas', 'para', 'que', 'em', 'algo', 'algum', 'alguma', 'alguns', 'algumas', 'aqui', 'aquele', 'aquela', 'aqueles', 'aquelas', 'aqui', 'aquilo', 'cá', 'com', 'como', 'cada', 'coisa', 'daquele', 'daquela', 'daquilo', 'daqueles', 'daquelas', 'desse', 'deste', 'dessa', 'desses', 'destes', 'destas', 'ele', 'eles', 'ela', 'elas', 'eu', 'nos', 'nós', 'vocês', 'voces', 'enquanto', 'era',  'está', 'estamos', 'estão', 'estar', 'estará', 'estive', 'estivemos', 'estiver', 'estivera', 'estiveram', 'estivéramos', 'estiverem', 'estivermos', 'estivesse','estivessem', 'estivéssemos', 'estiveste', 'estivestes', 'estou',  'fará', 'farta', 'farto', 'fez', 'fim', 'foi', 'fomos', 'for', 'fora', 'foram', 'fôramos', 'forem', 'formos', 'fosse', 'fossem', 'fôssemos','foste', 'fostes', 'fui', 'fôssemos', 'há', 'houve', 'hoje', 'isso', 'isto', 'já', 'lá', 'lhe', 'lhes', 'lo', 'logo',  'mas', 'me', 'mesma', 'mesmas', 'mesmo', 'mesmos', 'meu', 'meus',  'minha', 'minhas', 'na', 'no', 'nas', 'nos', 'naquela', 'naquelas', 'naquele', 'naqueles', 'nem', 'nessa', 'nessas', 'nesse', 'nesses', 'nesta', 'nestas', 'neste', 'nestes', 'ninguém', 'nosso', 'nossa', 'nossos', 'nossas', 'num', 'numa', 'outra', 'outras', 'outro', 'outros', 'pela', 'pelo', 'perante', 'pois', 'ponto', 'pontos', 'por', 'porém', 'porque', 'porquê', 'própria', 'próprio', 'próprias', 'próprios', 'qual', 'quando', 'quanto', 'quantos', 'quantas', 'quê', 'quem', 'quer', 'quereis', 'querem', 'queremas', 'quis', 'quisemos', 'quiser', 'quisera', 'quiseram','quiséramos', 'quiserem', 'quisermos', 'quisésseis', 'quiséssemos', 'quiseste', 'quisestes', 'quiseste','quisestes', 'quizer', 'quizeram', 'quizerem', 'quizermos', 'quizesse', 'quizessem', 'quizéssemos', 'são', 'se', 'seja', 'sejam', 'sejamos', 'sem', 'sendo', 'ser', 'será', 'serão', 'será', 'seriam', 'seríamos','serias', 'seríeis', 'sete', 'seu', 'seus', 'sob', 'sobre', 'sois', 'só','somos', 'sou', 'sua', 'suas', 'tal', 'talvez', 'também', 'te', 'tem', 'têm', 'temos', 'tendes', 'tenha', 'tenham', 'tenhamos', 'tenho', 'tens', 'ter', 'terá', 'terão','terá', 'teriam', 'teríamos', 'terias', 'teríeis', 'teu', 'teus', 'teve', 'tivemos', 'tiver', 'tivera','tiveram', 'tivéramos', 'tiverem', 'tivermos', 'tivesse', 'tivessem', 'tivéssemos', 'tiveste', 'tivestes','tiveste', 'tivestes', 'um', 'uma', 'umas', 'uns']\n",
    "    # Retorna a lista de comentários sem as palavras setadas para serem removidas\n",
    "    tokens = [token for token in tokens if token not in stop_words if not token.startswith('@') and token.isalpha()]\n",
    "    # Retorna o resultado da frase tokenizada, sem stopWords\n",
    "    return tokens"
   ]
  },
  {
   "cell_type": "code",
   "execution_count": 7,
   "id": "b435bf69",
   "metadata": {},
   "outputs": [],
   "source": [
    "with open('modelo_naive_bayes.pkl', 'rb') as file:\n",
    "    modelo_carregado = pickle.load(file)"
   ]
  },
  {
   "cell_type": "code",
   "execution_count": 8,
   "id": "6d0c793b",
   "metadata": {},
   "outputs": [],
   "source": [
    "# Carregar o dicionário usando pickle\n",
    "with open('dictionary.pkl', 'rb') as file:\n",
    "    dictionary2 = pickle.load(file)"
   ]
  },
  {
   "cell_type": "code",
   "execution_count": 9,
   "id": "3c57da96",
   "metadata": {},
   "outputs": [],
   "source": [
    "app = Flask(__name__)"
   ]
  },
  {
   "cell_type": "code",
   "execution_count": 10,
   "id": "e45fadc6",
   "metadata": {},
   "outputs": [],
   "source": [
    "@app.route('/classificar', methods=['POST'])\n",
    "def classificar():\n",
    "    dados = request.json['dados']\n",
    "    resultados = []\n",
    "    for entrada in dados:\n",
    "        resultado = classificar_entrada(entrada)\n",
    "        resultados.append(resultado)\n",
    "\n",
    "    proporcoes = calcular_proporcoes(resultados)\n",
    "    return jsonify(proporcoes)\n",
    "\n",
    "def classificar_entrada(entrada):\n",
    "    entrada_preprocessada = preprocessar_texto(entrada)\n",
    "    vetor_entrada = pipeline(entrada_preprocessada)\n",
    "    predicao = modelo_carregado.predict(vetor_entrada)\n",
    "    return predicao[0]\n",
    "\n",
    "def pipeline(entrada):\n",
    "    entrada_emoji = emoji_to_word(entrada)\n",
    "    texto_processado = processarTexto(entrada_emoji)\n",
    "    vetor = vetorizar_frase(' '.join(texto_processado), dictionary2)\n",
    "    return vetor\n",
    "\n",
    "def calcular_proporcoes(resultados):\n",
    "    total = len(resultados)\n",
    "    proporcoes = {}\n",
    "    for resultado in resultados:\n",
    "        if resultado in proporcoes:\n",
    "            proporcoes[resultado] += 1\n",
    "        else:\n",
    "            proporcoes[resultado] = 1\n",
    "    proporcoes = {k: v/total for k, v in proporcoes.items()}\n",
    "    return proporcoes"
   ]
  },
  {
   "cell_type": "code",
   "execution_count": null,
   "id": "10f4b588",
   "metadata": {},
   "outputs": [
    {
     "name": "stdout",
     "output_type": "stream",
     "text": [
      " * Serving Flask app '__main__'\n",
      " * Debug mode: off\n"
     ]
    },
    {
     "name": "stderr",
     "output_type": "stream",
     "text": [
      "WARNING: This is a development server. Do not use it in a production deployment. Use a production WSGI server instead.\n",
      " * Running on http://127.0.0.1:5000\n",
      "Press CTRL+C to quit\n"
     ]
    }
   ],
   "source": [
    "if __name__ == '__main__':\n",
    "    app.run()"
   ]
  },
  {
   "cell_type": "code",
   "execution_count": null,
   "id": "0501b344",
   "metadata": {},
   "outputs": [],
   "source": []
  }
 ],
 "metadata": {
  "kernelspec": {
   "display_name": "Python 3 (ipykernel)",
   "language": "python",
   "name": "python3"
  },
  "language_info": {
   "codemirror_mode": {
    "name": "ipython",
    "version": 3
   },
   "file_extension": ".py",
   "mimetype": "text/x-python",
   "name": "python",
   "nbconvert_exporter": "python",
   "pygments_lexer": "ipython3",
   "version": "3.11.3"
  }
 },
 "nbformat": 4,
 "nbformat_minor": 5
}
