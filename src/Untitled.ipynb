{
 "cells": [
  {
   "cell_type": "code",
   "execution_count": 1,
   "id": "33c05c6c",
   "metadata": {},
   "outputs": [],
   "source": [
    "import pandas as pd"
   ]
  },
  {
   "cell_type": "code",
   "execution_count": 4,
   "id": "e00079c9",
   "metadata": {},
   "outputs": [],
   "source": [
    "from keras.preprocessing import sequence\n",
    "from keras.layers import Embedding, Dense, Flatten\n",
    "from keras.models import Sequential\n"
   ]
  },
  {
   "cell_type": "code",
   "execution_count": 6,
   "id": "a7ac6b66",
   "metadata": {},
   "outputs": [],
   "source": [
    "from sklearn import preprocessing\n"
   ]
  },
  {
   "cell_type": "code",
   "execution_count": 2,
   "id": "43996a47",
   "metadata": {},
   "outputs": [],
   "source": [
    "df = pd.read_csv('../base/word2vec_corpus.csv', index_col=0)\n"
   ]
  },
  {
   "cell_type": "code",
   "execution_count": 3,
   "id": "a285d6a2",
   "metadata": {},
   "outputs": [],
   "source": [
    "df_cbow = pd.read_csv('../output/word2vec_cbow.csv', index_col=0)"
   ]
  },
  {
   "cell_type": "code",
   "execution_count": 7,
   "id": "51d47694",
   "metadata": {},
   "outputs": [],
   "source": [
    "le = preprocessing.LabelEncoder()"
   ]
  },
  {
   "cell_type": "code",
   "execution_count": 8,
   "id": "6be50c9c",
   "metadata": {},
   "outputs": [],
   "source": [
    "le.fit(df['sentimento'])\n",
    "df['sentimento'] = le.transform(df['sentimento'])"
   ]
  },
  {
   "cell_type": "code",
   "execution_count": 13,
   "id": "a5b3ba2b",
   "metadata": {},
   "outputs": [],
   "source": [
    "from sklearn.model_selection import train_test_split\n"
   ]
  },
  {
   "cell_type": "code",
   "execution_count": 34,
   "id": "20dbba43",
   "metadata": {},
   "outputs": [],
   "source": [
    "target = df['sentimento']\n",
    "features = df.iloc[:,0:50]"
   ]
  },
  {
   "cell_type": "code",
   "execution_count": 35,
   "id": "6c58d441",
   "metadata": {},
   "outputs": [],
   "source": [
    "X_train, X_test, y_train, y_test = train_test_split(features, target, test_size=0.2, random_state=42)\n"
   ]
  },
  {
   "cell_type": "code",
   "execution_count": 39,
   "id": "546c78e8",
   "metadata": {},
   "outputs": [],
   "source": [
    "#Dependencies\n",
    "import keras\n",
    "from keras.models import Sequential\n",
    "from keras.layers import Dense\n",
    "# Neural network\n",
    "model = Sequential()\n",
    "model.add(Dense(70, input_dim=50, activation='relu'))\n",
    "model.add(Dense(40, activation='relu'))\n",
    "model.add(Dense(30, activation='relu'))\n",
    "model.add(Dense(1, activation='softmax'))\n"
   ]
  },
  {
   "cell_type": "code",
   "execution_count": 40,
   "id": "0405c9f1",
   "metadata": {},
   "outputs": [],
   "source": [
    "model.compile(loss='binary_crossentropy', optimizer='adam', metrics=['accuracy'])\n"
   ]
  },
  {
   "cell_type": "code",
   "execution_count": 41,
   "id": "a31443fa",
   "metadata": {},
   "outputs": [
    {
     "name": "stdout",
     "output_type": "stream",
     "text": [
      "Epoch 1/100\n",
      "80/80 [==============================] - 1s 3ms/step - loss: 0.2364 - accuracy: 0.4376\n",
      "Epoch 2/100\n",
      "80/80 [==============================] - 0s 2ms/step - loss: 0.0512 - accuracy: 0.4376\n",
      "Epoch 3/100\n",
      "80/80 [==============================] - 0s 3ms/step - loss: -0.7372 - accuracy: 0.4376\n",
      "Epoch 4/100\n",
      "80/80 [==============================] - 0s 3ms/step - loss: -5.6823 - accuracy: 0.4376\n",
      "Epoch 5/100\n",
      "80/80 [==============================] - 0s 2ms/step - loss: -27.0660 - accuracy: 0.4376\n",
      "Epoch 6/100\n",
      "80/80 [==============================] - 0s 3ms/step - loss: -88.9697 - accuracy: 0.4376\n",
      "Epoch 7/100\n",
      "80/80 [==============================] - 0s 3ms/step - loss: -224.1871 - accuracy: 0.4376\n",
      "Epoch 8/100\n",
      "80/80 [==============================] - 0s 2ms/step - loss: -456.3086 - accuracy: 0.4376\n",
      "Epoch 9/100\n",
      "80/80 [==============================] - 0s 2ms/step - loss: -834.4924 - accuracy: 0.4376\n",
      "Epoch 10/100\n",
      "80/80 [==============================] - 0s 2ms/step - loss: -1404.3218 - accuracy: 0.4376\n",
      "Epoch 11/100\n",
      "80/80 [==============================] - 0s 3ms/step - loss: -2173.2073 - accuracy: 0.4376\n",
      "Epoch 12/100\n",
      "80/80 [==============================] - 0s 2ms/step - loss: -3184.6191 - accuracy: 0.4376\n",
      "Epoch 13/100\n",
      "80/80 [==============================] - 0s 3ms/step - loss: -4531.7256 - accuracy: 0.4376\n",
      "Epoch 14/100\n",
      "80/80 [==============================] - 0s 2ms/step - loss: -6238.8271 - accuracy: 0.4376\n",
      "Epoch 15/100\n",
      "80/80 [==============================] - 0s 2ms/step - loss: -8417.2617 - accuracy: 0.4376\n",
      "Epoch 16/100\n",
      "80/80 [==============================] - 0s 2ms/step - loss: -11061.0098 - accuracy: 0.4376\n",
      "Epoch 17/100\n",
      "80/80 [==============================] - 0s 3ms/step - loss: -14147.3672 - accuracy: 0.4376\n",
      "Epoch 18/100\n",
      "80/80 [==============================] - 0s 3ms/step - loss: -17882.8984 - accuracy: 0.4376\n",
      "Epoch 19/100\n",
      "80/80 [==============================] - 0s 2ms/step - loss: -22220.2871 - accuracy: 0.4376\n",
      "Epoch 20/100\n",
      "80/80 [==============================] - 0s 2ms/step - loss: -27424.9512 - accuracy: 0.4376\n",
      "Epoch 21/100\n",
      "80/80 [==============================] - 0s 2ms/step - loss: -33267.1055 - accuracy: 0.4376\n",
      "Epoch 22/100\n",
      "80/80 [==============================] - 0s 1ms/step - loss: -39821.0430 - accuracy: 0.4376\n",
      "Epoch 23/100\n",
      "80/80 [==============================] - 0s 2ms/step - loss: -47313.0391 - accuracy: 0.4376\n",
      "Epoch 24/100\n",
      "80/80 [==============================] - 0s 2ms/step - loss: -55799.2969 - accuracy: 0.4376\n",
      "Epoch 25/100\n",
      "80/80 [==============================] - 0s 3ms/step - loss: -64954.1797 - accuracy: 0.4376\n",
      "Epoch 26/100\n",
      "80/80 [==============================] - 0s 2ms/step - loss: -75280.4453 - accuracy: 0.4376\n",
      "Epoch 27/100\n",
      "80/80 [==============================] - 0s 2ms/step - loss: -86465.8125 - accuracy: 0.4376\n",
      "Epoch 28/100\n",
      "80/80 [==============================] - 0s 3ms/step - loss: -98093.4922 - accuracy: 0.4376\n",
      "Epoch 29/100\n",
      "80/80 [==============================] - 0s 2ms/step - loss: -111516.2734 - accuracy: 0.4376\n",
      "Epoch 30/100\n",
      "80/80 [==============================] - 0s 2ms/step - loss: -126007.2734 - accuracy: 0.4376\n",
      "Epoch 31/100\n",
      "80/80 [==============================] - 0s 2ms/step - loss: -141367.5938 - accuracy: 0.4376\n",
      "Epoch 32/100\n",
      "80/80 [==============================] - 0s 2ms/step - loss: -158879.4062 - accuracy: 0.4376\n",
      "Epoch 33/100\n",
      "80/80 [==============================] - 0s 3ms/step - loss: -177256.3906 - accuracy: 0.4376\n",
      "Epoch 34/100\n",
      "80/80 [==============================] - 0s 3ms/step - loss: -197102.4219 - accuracy: 0.4376\n",
      "Epoch 35/100\n",
      "80/80 [==============================] - 0s 3ms/step - loss: -218200.9531 - accuracy: 0.4376\n",
      "Epoch 36/100\n",
      "80/80 [==============================] - 0s 2ms/step - loss: -240640.8281 - accuracy: 0.4376\n",
      "Epoch 37/100\n",
      "80/80 [==============================] - 0s 2ms/step - loss: -264547.2188 - accuracy: 0.4376\n",
      "Epoch 38/100\n",
      "80/80 [==============================] - 0s 3ms/step - loss: -290864.5312 - accuracy: 0.4376\n",
      "Epoch 39/100\n",
      "80/80 [==============================] - 0s 3ms/step - loss: -318140.5938 - accuracy: 0.4376\n",
      "Epoch 40/100\n",
      "80/80 [==============================] - 0s 2ms/step - loss: -347525.8125 - accuracy: 0.4376\n",
      "Epoch 41/100\n",
      "80/80 [==============================] - 0s 2ms/step - loss: -379196.7188 - accuracy: 0.4376\n",
      "Epoch 42/100\n",
      "80/80 [==============================] - 0s 2ms/step - loss: -411842.5312 - accuracy: 0.4376\n",
      "Epoch 43/100\n",
      "80/80 [==============================] - 0s 3ms/step - loss: -446120.5000 - accuracy: 0.4376\n",
      "Epoch 44/100\n",
      "80/80 [==============================] - 0s 2ms/step - loss: -482463.7812 - accuracy: 0.4376\n",
      "Epoch 45/100\n",
      "80/80 [==============================] - 0s 3ms/step - loss: -520160.3125 - accuracy: 0.4376\n",
      "Epoch 46/100\n",
      "80/80 [==============================] - 0s 2ms/step - loss: -561401.9375 - accuracy: 0.4376\n",
      "Epoch 47/100\n",
      "80/80 [==============================] - 0s 2ms/step - loss: -602787.8750 - accuracy: 0.4376\n",
      "Epoch 48/100\n",
      "80/80 [==============================] - 0s 3ms/step - loss: -647788.5000 - accuracy: 0.4376\n",
      "Epoch 49/100\n",
      "80/80 [==============================] - 0s 3ms/step - loss: -696897.1875 - accuracy: 0.4376\n",
      "Epoch 50/100\n",
      "80/80 [==============================] - 0s 3ms/step - loss: -746127.9375 - accuracy: 0.4376\n",
      "Epoch 51/100\n",
      "80/80 [==============================] - 0s 2ms/step - loss: -796694.6875 - accuracy: 0.4376\n",
      "Epoch 52/100\n",
      "80/80 [==============================] - 0s 2ms/step - loss: -850849.8125 - accuracy: 0.4376\n",
      "Epoch 53/100\n",
      "80/80 [==============================] - 0s 3ms/step - loss: -907181.6250 - accuracy: 0.4376\n",
      "Epoch 54/100\n",
      "80/80 [==============================] - 0s 3ms/step - loss: -966688.5000 - accuracy: 0.4376\n",
      "Epoch 55/100\n",
      "80/80 [==============================] - 0s 2ms/step - loss: -1029083.8750 - accuracy: 0.4376\n",
      "Epoch 56/100\n",
      "80/80 [==============================] - 0s 2ms/step - loss: -1092261.0000 - accuracy: 0.4376\n",
      "Epoch 57/100\n",
      "80/80 [==============================] - 0s 3ms/step - loss: -1157670.1250 - accuracy: 0.4376\n",
      "Epoch 58/100\n",
      "80/80 [==============================] - 0s 3ms/step - loss: -1227537.1250 - accuracy: 0.4376\n",
      "Epoch 59/100\n",
      "80/80 [==============================] - 0s 3ms/step - loss: -1300556.5000 - accuracy: 0.4376\n",
      "Epoch 60/100\n",
      "80/80 [==============================] - 0s 2ms/step - loss: -1376605.2500 - accuracy: 0.4376\n",
      "Epoch 61/100\n",
      "80/80 [==============================] - 0s 2ms/step - loss: -1454762.7500 - accuracy: 0.4376\n",
      "Epoch 62/100\n",
      "80/80 [==============================] - 0s 3ms/step - loss: -1533187.8750 - accuracy: 0.4376\n",
      "Epoch 63/100\n",
      "80/80 [==============================] - 0s 3ms/step - loss: -1614344.7500 - accuracy: 0.4376\n",
      "Epoch 64/100\n",
      "80/80 [==============================] - 0s 3ms/step - loss: -1703626.0000 - accuracy: 0.4376\n",
      "Epoch 65/100\n",
      "80/80 [==============================] - 0s 2ms/step - loss: -1792577.5000 - accuracy: 0.4376\n",
      "Epoch 66/100\n",
      "80/80 [==============================] - 0s 3ms/step - loss: -1885801.3750 - accuracy: 0.4376\n",
      "Epoch 67/100\n",
      "80/80 [==============================] - 0s 3ms/step - loss: -1981815.5000 - accuracy: 0.4376\n",
      "Epoch 68/100\n",
      "80/80 [==============================] - 0s 3ms/step - loss: -2078460.6250 - accuracy: 0.4376\n",
      "Epoch 69/100\n",
      "80/80 [==============================] - 0s 2ms/step - loss: -2177064.7500 - accuracy: 0.4376\n",
      "Epoch 70/100\n",
      "80/80 [==============================] - 0s 2ms/step - loss: -2282389.2500 - accuracy: 0.4376\n",
      "Epoch 71/100\n",
      "80/80 [==============================] - 0s 3ms/step - loss: -2390814.2500 - accuracy: 0.4376\n",
      "Epoch 72/100\n",
      "80/80 [==============================] - 0s 3ms/step - loss: -2501905.0000 - accuracy: 0.4376\n",
      "Epoch 73/100\n",
      "80/80 [==============================] - 0s 3ms/step - loss: -2617474.7500 - accuracy: 0.4376\n",
      "Epoch 74/100\n",
      "80/80 [==============================] - 0s 2ms/step - loss: -2734559.5000 - accuracy: 0.4376\n",
      "Epoch 75/100\n",
      "80/80 [==============================] - 0s 3ms/step - loss: -2855448.5000 - accuracy: 0.4376\n",
      "Epoch 76/100\n",
      "80/80 [==============================] - 0s 3ms/step - loss: -2977452.2500 - accuracy: 0.4376\n",
      "Epoch 77/100\n",
      "80/80 [==============================] - 0s 3ms/step - loss: -3112665.5000 - accuracy: 0.4376\n",
      "Epoch 78/100\n"
     ]
    },
    {
     "name": "stdout",
     "output_type": "stream",
     "text": [
      "80/80 [==============================] - 0s 2ms/step - loss: -3244990.2500 - accuracy: 0.4376\n",
      "Epoch 79/100\n",
      "80/80 [==============================] - 0s 2ms/step - loss: -3383273.0000 - accuracy: 0.4376\n",
      "Epoch 80/100\n",
      "80/80 [==============================] - 0s 3ms/step - loss: -3526252.0000 - accuracy: 0.4376\n",
      "Epoch 81/100\n",
      "80/80 [==============================] - 0s 3ms/step - loss: -3673338.2500 - accuracy: 0.4376\n",
      "Epoch 82/100\n",
      "80/80 [==============================] - 0s 3ms/step - loss: -3827493.7500 - accuracy: 0.4376\n",
      "Epoch 83/100\n",
      "80/80 [==============================] - 0s 2ms/step - loss: -3978445.7500 - accuracy: 0.4376\n",
      "Epoch 84/100\n",
      "80/80 [==============================] - 0s 3ms/step - loss: -4135045.7500 - accuracy: 0.4376\n",
      "Epoch 85/100\n",
      "80/80 [==============================] - 0s 3ms/step - loss: -4302140.0000 - accuracy: 0.4376\n",
      "Epoch 86/100\n",
      "80/80 [==============================] - 0s 3ms/step - loss: -4467703.0000 - accuracy: 0.4376\n",
      "Epoch 87/100\n",
      "80/80 [==============================] - 0s 2ms/step - loss: -4638437.0000 - accuracy: 0.4376\n",
      "Epoch 88/100\n",
      "80/80 [==============================] - 0s 2ms/step - loss: -4815984.5000 - accuracy: 0.4376\n",
      "Epoch 89/100\n",
      "80/80 [==============================] - 0s 4ms/step - loss: -4995216.0000 - accuracy: 0.4376\n",
      "Epoch 90/100\n",
      "80/80 [==============================] - 0s 3ms/step - loss: -5184893.0000 - accuracy: 0.4376\n",
      "Epoch 91/100\n",
      "80/80 [==============================] - 0s 3ms/step - loss: -5368544.0000 - accuracy: 0.4376\n",
      "Epoch 92/100\n",
      "80/80 [==============================] - 0s 2ms/step - loss: -5553006.0000 - accuracy: 0.4376\n",
      "Epoch 93/100\n",
      "80/80 [==============================] - 0s 3ms/step - loss: -5751191.0000 - accuracy: 0.4376\n",
      "Epoch 94/100\n",
      "80/80 [==============================] - 0s 3ms/step - loss: -5943692.0000 - accuracy: 0.4376\n",
      "Epoch 95/100\n",
      "80/80 [==============================] - 0s 3ms/step - loss: -6150696.0000 - accuracy: 0.4376\n",
      "Epoch 96/100\n",
      "80/80 [==============================] - 0s 2ms/step - loss: -6347401.0000 - accuracy: 0.4376\n",
      "Epoch 97/100\n",
      "80/80 [==============================] - 0s 2ms/step - loss: -6572559.0000 - accuracy: 0.4376\n",
      "Epoch 98/100\n",
      "80/80 [==============================] - 0s 3ms/step - loss: -6793591.5000 - accuracy: 0.4376\n",
      "Epoch 99/100\n",
      "80/80 [==============================] - 0s 3ms/step - loss: -7011732.5000 - accuracy: 0.4376\n",
      "Epoch 100/100\n",
      "80/80 [==============================] - 0s 2ms/step - loss: -7241222.0000 - accuracy: 0.4376\n"
     ]
    }
   ],
   "source": [
    "history = model.fit(X_train, y_train, epochs=100, batch_size=64)\n"
   ]
  },
  {
   "cell_type": "code",
   "execution_count": 23,
   "id": "a574e042",
   "metadata": {},
   "outputs": [
    {
     "name": "stdout",
     "output_type": "stream",
     "text": [
      "40/40 [==============================] - 0s 2ms/step\n"
     ]
    }
   ],
   "source": [
    "y_pred = model.predict(X_test)\n"
   ]
  },
  {
   "cell_type": "code",
   "execution_count": null,
   "id": "4a95d35c",
   "metadata": {},
   "outputs": [],
   "source": []
  }
 ],
 "metadata": {
  "kernelspec": {
   "display_name": "Python 3 (ipykernel)",
   "language": "python",
   "name": "python3"
  },
  "language_info": {
   "codemirror_mode": {
    "name": "ipython",
    "version": 3
   },
   "file_extension": ".py",
   "mimetype": "text/x-python",
   "name": "python",
   "nbconvert_exporter": "python",
   "pygments_lexer": "ipython3",
   "version": "3.11.3"
  }
 },
 "nbformat": 4,
 "nbformat_minor": 5
}
