{
 "cells": [
  {
   "cell_type": "markdown",
   "id": "6a6ee0ce",
   "metadata": {},
   "source": [
    "### CatBoost"
   ]
  },
  {
   "cell_type": "markdown",
   "id": "593a4ea0",
   "metadata": {},
   "source": [
    "O CatBoost é um algoritmo de classificação que se destaca pela sua capacidade de lidar com dados categóricos, fornecendo resultados precisos e eficientes em treinamento. Com recursos avançados de tratamento de dados e prevenção de sobreajuste, o CatBoost é uma escolha popular em diversas aplicações, desde análise de fraudes até sistemas de recomendação."
   ]
  },
  {
   "cell_type": "code",
   "execution_count": null,
   "id": "25943bef",
   "metadata": {},
   "outputs": [],
   "source": [
    "# Importando as bibliotecas\n",
    "import catboost\n",
    "import pandas as pd\n",
    "from catboost import CatBoostClassifier\n",
    "from sklearn.model_selection import train_test_split\n",
    "from sklearn.metrics import \n",
    "import numpy as np\n",
    "import matplotlib.pyplot as plt\n",
    "from sklearn import metrics\n",
    "from sklearn.metrics import ConfusionMatrixDisplay\n",
    "from sklearn.metrics import recall_scor\n",
    "from sklearn.metrics import precision_score"
   ]
  },
  {
   "cell_type": "code",
   "execution_count": 8,
   "id": "c81675ca",
   "metadata": {},
   "outputs": [],
   "source": [
    "# Lendo os dados\n",
    "df = pd.read_csv('../output/word2vec_corpus.csv')"
   ]
  },
  {
   "cell_type": "code",
   "execution_count": 9,
   "id": "fe043e25",
   "metadata": {},
   "outputs": [],
   "source": [
    "# Separando os dados em features e target\n",
    "X = df.drop(['Frase', 'sentimento'], axis=1)\n",
    "y = df['sentimento']"
   ]
  },
  {
   "cell_type": "code",
   "execution_count": 10,
   "id": "ff3f2223",
   "metadata": {},
   "outputs": [],
   "source": [
    "# Dividindo em treino e teste\n",
    "X_train, X_test, y_train, y_test = train_test_split(X, y, test_size=0.2)"
   ]
  },
  {
   "cell_type": "code",
   "execution_count": 11,
   "id": "b15933d1",
   "metadata": {},
   "outputs": [
    {
     "name": "stdout",
     "output_type": "stream",
     "text": [
      "0:\tlearn: 1.0639060\ttotal: 17.9ms\tremaining: 3.57s\n",
      "1:\tlearn: 1.0340517\ttotal: 33ms\tremaining: 3.26s\n",
      "2:\tlearn: 1.0072971\ttotal: 47.6ms\tremaining: 3.12s\n",
      "3:\tlearn: 0.9888651\ttotal: 61.4ms\tremaining: 3.01s\n",
      "4:\tlearn: 0.9716865\ttotal: 75.5ms\tremaining: 2.94s\n",
      "5:\tlearn: 0.9561168\ttotal: 89.3ms\tremaining: 2.89s\n",
      "6:\tlearn: 0.9423424\ttotal: 104ms\tremaining: 2.86s\n",
      "7:\tlearn: 0.9296575\ttotal: 120ms\tremaining: 2.87s\n",
      "8:\tlearn: 0.9184365\ttotal: 134ms\tremaining: 2.85s\n",
      "9:\tlearn: 0.9077782\ttotal: 149ms\tremaining: 2.83s\n",
      "10:\tlearn: 0.8991733\ttotal: 163ms\tremaining: 2.8s\n",
      "11:\tlearn: 0.8909466\ttotal: 177ms\tremaining: 2.78s\n",
      "12:\tlearn: 0.8840449\ttotal: 193ms\tremaining: 2.78s\n",
      "13:\tlearn: 0.8774891\ttotal: 214ms\tremaining: 2.85s\n",
      "14:\tlearn: 0.8711364\ttotal: 230ms\tremaining: 2.83s\n",
      "15:\tlearn: 0.8660115\ttotal: 246ms\tremaining: 2.83s\n",
      "16:\tlearn: 0.8606882\ttotal: 261ms\tremaining: 2.81s\n",
      "17:\tlearn: 0.8560870\ttotal: 274ms\tremaining: 2.77s\n",
      "18:\tlearn: 0.8521667\ttotal: 289ms\tremaining: 2.75s\n",
      "19:\tlearn: 0.8483411\ttotal: 303ms\tremaining: 2.72s\n",
      "20:\tlearn: 0.8444751\ttotal: 317ms\tremaining: 2.7s\n",
      "21:\tlearn: 0.8407192\ttotal: 331ms\tremaining: 2.68s\n",
      "22:\tlearn: 0.8369856\ttotal: 346ms\tremaining: 2.66s\n",
      "23:\tlearn: 0.8335622\ttotal: 360ms\tremaining: 2.64s\n",
      "24:\tlearn: 0.8305584\ttotal: 376ms\tremaining: 2.63s\n",
      "25:\tlearn: 0.8278332\ttotal: 390ms\tremaining: 2.61s\n",
      "26:\tlearn: 0.8234096\ttotal: 405ms\tremaining: 2.59s\n",
      "27:\tlearn: 0.8205324\ttotal: 419ms\tremaining: 2.57s\n",
      "28:\tlearn: 0.8176919\ttotal: 433ms\tremaining: 2.55s\n",
      "29:\tlearn: 0.8154902\ttotal: 448ms\tremaining: 2.54s\n",
      "30:\tlearn: 0.8127360\ttotal: 465ms\tremaining: 2.54s\n",
      "31:\tlearn: 0.8106444\ttotal: 479ms\tremaining: 2.52s\n",
      "32:\tlearn: 0.8080901\ttotal: 493ms\tremaining: 2.5s\n",
      "33:\tlearn: 0.8058998\ttotal: 507ms\tremaining: 2.48s\n",
      "34:\tlearn: 0.8039677\ttotal: 521ms\tremaining: 2.46s\n",
      "35:\tlearn: 0.8026444\ttotal: 535ms\tremaining: 2.44s\n",
      "36:\tlearn: 0.8007025\ttotal: 549ms\tremaining: 2.42s\n",
      "37:\tlearn: 0.7986424\ttotal: 563ms\tremaining: 2.4s\n",
      "38:\tlearn: 0.7963206\ttotal: 578ms\tremaining: 2.38s\n",
      "39:\tlearn: 0.7928364\ttotal: 592ms\tremaining: 2.37s\n",
      "40:\tlearn: 0.7919091\ttotal: 607ms\tremaining: 2.35s\n",
      "41:\tlearn: 0.7900304\ttotal: 621ms\tremaining: 2.33s\n",
      "42:\tlearn: 0.7877424\ttotal: 635ms\tremaining: 2.32s\n",
      "43:\tlearn: 0.7853890\ttotal: 649ms\tremaining: 2.3s\n",
      "44:\tlearn: 0.7835589\ttotal: 665ms\tremaining: 2.29s\n",
      "45:\tlearn: 0.7814917\ttotal: 681ms\tremaining: 2.28s\n",
      "46:\tlearn: 0.7803314\ttotal: 695ms\tremaining: 2.26s\n",
      "47:\tlearn: 0.7795855\ttotal: 709ms\tremaining: 2.25s\n",
      "48:\tlearn: 0.7783701\ttotal: 723ms\tremaining: 2.23s\n",
      "49:\tlearn: 0.7772902\ttotal: 737ms\tremaining: 2.21s\n",
      "50:\tlearn: 0.7757763\ttotal: 753ms\tremaining: 2.2s\n",
      "51:\tlearn: 0.7733553\ttotal: 769ms\tremaining: 2.19s\n",
      "52:\tlearn: 0.7717182\ttotal: 783ms\tremaining: 2.17s\n",
      "53:\tlearn: 0.7697614\ttotal: 797ms\tremaining: 2.15s\n",
      "54:\tlearn: 0.7680233\ttotal: 811ms\tremaining: 2.14s\n",
      "55:\tlearn: 0.7668454\ttotal: 826ms\tremaining: 2.12s\n",
      "56:\tlearn: 0.7655228\ttotal: 842ms\tremaining: 2.11s\n",
      "57:\tlearn: 0.7637679\ttotal: 860ms\tremaining: 2.11s\n",
      "58:\tlearn: 0.7619489\ttotal: 885ms\tremaining: 2.11s\n",
      "59:\tlearn: 0.7602937\ttotal: 905ms\tremaining: 2.11s\n",
      "60:\tlearn: 0.7587379\ttotal: 922ms\tremaining: 2.1s\n",
      "61:\tlearn: 0.7567452\ttotal: 938ms\tremaining: 2.09s\n",
      "62:\tlearn: 0.7550589\ttotal: 954ms\tremaining: 2.07s\n",
      "63:\tlearn: 0.7538090\ttotal: 971ms\tremaining: 2.06s\n",
      "64:\tlearn: 0.7524854\ttotal: 988ms\tremaining: 2.05s\n",
      "65:\tlearn: 0.7514174\ttotal: 1s\tremaining: 2.04s\n",
      "66:\tlearn: 0.7498674\ttotal: 1.03s\tremaining: 2.04s\n",
      "67:\tlearn: 0.7482209\ttotal: 1.04s\tremaining: 2.02s\n",
      "68:\tlearn: 0.7463766\ttotal: 1.06s\tremaining: 2.01s\n",
      "69:\tlearn: 0.7444857\ttotal: 1.08s\tremaining: 2s\n",
      "70:\tlearn: 0.7429537\ttotal: 1.1s\tremaining: 1.99s\n",
      "71:\tlearn: 0.7417522\ttotal: 1.11s\tremaining: 1.98s\n",
      "72:\tlearn: 0.7402707\ttotal: 1.13s\tremaining: 1.97s\n",
      "73:\tlearn: 0.7389063\ttotal: 1.15s\tremaining: 1.95s\n",
      "74:\tlearn: 0.7376409\ttotal: 1.16s\tremaining: 1.94s\n",
      "75:\tlearn: 0.7364333\ttotal: 1.18s\tremaining: 1.92s\n",
      "76:\tlearn: 0.7345505\ttotal: 1.19s\tremaining: 1.91s\n",
      "77:\tlearn: 0.7338477\ttotal: 1.21s\tremaining: 1.89s\n",
      "78:\tlearn: 0.7321487\ttotal: 1.23s\tremaining: 1.88s\n",
      "79:\tlearn: 0.7312353\ttotal: 1.24s\tremaining: 1.86s\n",
      "80:\tlearn: 0.7302500\ttotal: 1.26s\tremaining: 1.85s\n",
      "81:\tlearn: 0.7295137\ttotal: 1.28s\tremaining: 1.84s\n",
      "82:\tlearn: 0.7283375\ttotal: 1.3s\tremaining: 1.83s\n",
      "83:\tlearn: 0.7270676\ttotal: 1.32s\tremaining: 1.82s\n",
      "84:\tlearn: 0.7255964\ttotal: 1.34s\tremaining: 1.81s\n",
      "85:\tlearn: 0.7242779\ttotal: 1.35s\tremaining: 1.8s\n",
      "86:\tlearn: 0.7234328\ttotal: 1.37s\tremaining: 1.78s\n",
      "87:\tlearn: 0.7220038\ttotal: 1.39s\tremaining: 1.77s\n",
      "88:\tlearn: 0.7205085\ttotal: 1.41s\tremaining: 1.76s\n",
      "89:\tlearn: 0.7190044\ttotal: 1.43s\tremaining: 1.74s\n",
      "90:\tlearn: 0.7172882\ttotal: 1.45s\tremaining: 1.73s\n",
      "91:\tlearn: 0.7161548\ttotal: 1.46s\tremaining: 1.72s\n",
      "92:\tlearn: 0.7142148\ttotal: 1.48s\tremaining: 1.7s\n",
      "93:\tlearn: 0.7130188\ttotal: 1.5s\tremaining: 1.69s\n",
      "94:\tlearn: 0.7109769\ttotal: 1.51s\tremaining: 1.67s\n",
      "95:\tlearn: 0.7101174\ttotal: 1.53s\tremaining: 1.66s\n",
      "96:\tlearn: 0.7094033\ttotal: 1.55s\tremaining: 1.64s\n",
      "97:\tlearn: 0.7080879\ttotal: 1.56s\tremaining: 1.63s\n",
      "98:\tlearn: 0.7072084\ttotal: 1.58s\tremaining: 1.61s\n",
      "99:\tlearn: 0.7052052\ttotal: 1.59s\tremaining: 1.59s\n",
      "100:\tlearn: 0.7033579\ttotal: 1.61s\tremaining: 1.58s\n",
      "101:\tlearn: 0.7019382\ttotal: 1.63s\tremaining: 1.57s\n",
      "102:\tlearn: 0.7011588\ttotal: 1.65s\tremaining: 1.55s\n",
      "103:\tlearn: 0.7000638\ttotal: 1.67s\tremaining: 1.54s\n",
      "104:\tlearn: 0.6986649\ttotal: 1.68s\tremaining: 1.52s\n",
      "105:\tlearn: 0.6975683\ttotal: 1.7s\tremaining: 1.51s\n",
      "106:\tlearn: 0.6960144\ttotal: 1.72s\tremaining: 1.49s\n",
      "107:\tlearn: 0.6946508\ttotal: 1.74s\tremaining: 1.48s\n",
      "108:\tlearn: 0.6931804\ttotal: 1.75s\tremaining: 1.46s\n",
      "109:\tlearn: 0.6912471\ttotal: 1.77s\tremaining: 1.45s\n",
      "110:\tlearn: 0.6899090\ttotal: 1.79s\tremaining: 1.44s\n",
      "111:\tlearn: 0.6888117\ttotal: 1.81s\tremaining: 1.42s\n",
      "112:\tlearn: 0.6869831\ttotal: 1.82s\tremaining: 1.41s\n",
      "113:\tlearn: 0.6858012\ttotal: 1.84s\tremaining: 1.39s\n",
      "114:\tlearn: 0.6840553\ttotal: 1.86s\tremaining: 1.37s\n",
      "115:\tlearn: 0.6823803\ttotal: 1.87s\tremaining: 1.36s\n",
      "116:\tlearn: 0.6808401\ttotal: 1.89s\tremaining: 1.34s\n",
      "117:\tlearn: 0.6789028\ttotal: 1.91s\tremaining: 1.33s\n",
      "118:\tlearn: 0.6770376\ttotal: 1.93s\tremaining: 1.31s\n",
      "119:\tlearn: 0.6763276\ttotal: 1.95s\tremaining: 1.3s\n",
      "120:\tlearn: 0.6749386\ttotal: 1.97s\tremaining: 1.29s\n",
      "121:\tlearn: 0.6740008\ttotal: 1.99s\tremaining: 1.27s\n",
      "122:\tlearn: 0.6731971\ttotal: 2s\tremaining: 1.25s\n",
      "123:\tlearn: 0.6719470\ttotal: 2.02s\tremaining: 1.24s\n",
      "124:\tlearn: 0.6707469\ttotal: 2.04s\tremaining: 1.22s\n",
      "125:\tlearn: 0.6690954\ttotal: 2.05s\tremaining: 1.21s\n",
      "126:\tlearn: 0.6678449\ttotal: 2.07s\tremaining: 1.19s\n",
      "127:\tlearn: 0.6671234\ttotal: 2.08s\tremaining: 1.17s\n",
      "128:\tlearn: 0.6657180\ttotal: 2.1s\tremaining: 1.16s\n",
      "129:\tlearn: 0.6643478\ttotal: 2.12s\tremaining: 1.14s\n",
      "130:\tlearn: 0.6626136\ttotal: 2.13s\tremaining: 1.12s\n",
      "131:\tlearn: 0.6604651\ttotal: 2.15s\tremaining: 1.11s\n",
      "132:\tlearn: 0.6587185\ttotal: 2.17s\tremaining: 1.09s\n",
      "133:\tlearn: 0.6573881\ttotal: 2.19s\tremaining: 1.08s\n",
      "134:\tlearn: 0.6562547\ttotal: 2.2s\tremaining: 1.06s\n",
      "135:\tlearn: 0.6549820\ttotal: 2.22s\tremaining: 1.04s\n",
      "136:\tlearn: 0.6537216\ttotal: 2.24s\tremaining: 1.03s\n",
      "137:\tlearn: 0.6525915\ttotal: 2.25s\tremaining: 1.01s\n",
      "138:\tlearn: 0.6510980\ttotal: 2.27s\tremaining: 997ms\n",
      "139:\tlearn: 0.6503473\ttotal: 2.29s\tremaining: 980ms\n",
      "140:\tlearn: 0.6487237\ttotal: 2.3s\tremaining: 964ms\n",
      "141:\tlearn: 0.6473723\ttotal: 2.32s\tremaining: 947ms\n",
      "142:\tlearn: 0.6456363\ttotal: 2.34s\tremaining: 931ms\n",
      "143:\tlearn: 0.6443475\ttotal: 2.35s\tremaining: 915ms\n",
      "144:\tlearn: 0.6435744\ttotal: 2.37s\tremaining: 898ms\n",
      "145:\tlearn: 0.6421384\ttotal: 2.38s\tremaining: 882ms\n",
      "146:\tlearn: 0.6408957\ttotal: 2.4s\tremaining: 865ms\n",
      "147:\tlearn: 0.6397538\ttotal: 2.42s\tremaining: 850ms\n",
      "148:\tlearn: 0.6387375\ttotal: 2.43s\tremaining: 833ms\n",
      "149:\tlearn: 0.6370385\ttotal: 2.45s\tremaining: 817ms\n",
      "150:\tlearn: 0.6360839\ttotal: 2.47s\tremaining: 801ms\n",
      "151:\tlearn: 0.6354054\ttotal: 2.48s\tremaining: 784ms\n",
      "152:\tlearn: 0.6349334\ttotal: 2.5s\tremaining: 768ms\n",
      "153:\tlearn: 0.6336420\ttotal: 2.52s\tremaining: 752ms\n",
      "154:\tlearn: 0.6324586\ttotal: 2.53s\tremaining: 736ms\n",
      "155:\tlearn: 0.6314244\ttotal: 2.55s\tremaining: 719ms\n",
      "156:\tlearn: 0.6303886\ttotal: 2.57s\tremaining: 703ms\n",
      "157:\tlearn: 0.6294498\ttotal: 2.58s\tremaining: 686ms\n",
      "158:\tlearn: 0.6285320\ttotal: 2.6s\tremaining: 670ms\n",
      "159:\tlearn: 0.6281105\ttotal: 2.61s\tremaining: 654ms\n",
      "160:\tlearn: 0.6273768\ttotal: 2.63s\tremaining: 638ms\n",
      "161:\tlearn: 0.6261202\ttotal: 2.65s\tremaining: 622ms\n",
      "162:\tlearn: 0.6252109\ttotal: 2.67s\tremaining: 605ms\n",
      "163:\tlearn: 0.6237576\ttotal: 2.69s\tremaining: 590ms\n",
      "164:\tlearn: 0.6223827\ttotal: 2.7s\tremaining: 573ms\n",
      "165:\tlearn: 0.6219638\ttotal: 2.71s\tremaining: 556ms\n",
      "166:\tlearn: 0.6214021\ttotal: 2.73s\tremaining: 540ms\n",
      "167:\tlearn: 0.6204215\ttotal: 2.75s\tremaining: 524ms\n",
      "168:\tlearn: 0.6191571\ttotal: 2.77s\tremaining: 508ms\n",
      "169:\tlearn: 0.6172765\ttotal: 2.79s\tremaining: 492ms\n",
      "170:\tlearn: 0.6162715\ttotal: 2.8s\tremaining: 475ms\n",
      "171:\tlearn: 0.6146819\ttotal: 2.82s\tremaining: 459ms\n"
     ]
    },
    {
     "name": "stdout",
     "output_type": "stream",
     "text": [
      "172:\tlearn: 0.6134414\ttotal: 2.84s\tremaining: 443ms\n",
      "173:\tlearn: 0.6130700\ttotal: 2.85s\tremaining: 427ms\n",
      "174:\tlearn: 0.6123865\ttotal: 2.87s\tremaining: 410ms\n",
      "175:\tlearn: 0.6112881\ttotal: 2.89s\tremaining: 394ms\n",
      "176:\tlearn: 0.6102293\ttotal: 2.91s\tremaining: 378ms\n",
      "177:\tlearn: 0.6086433\ttotal: 2.92s\tremaining: 361ms\n",
      "178:\tlearn: 0.6082374\ttotal: 2.94s\tremaining: 345ms\n",
      "179:\tlearn: 0.6071364\ttotal: 2.96s\tremaining: 329ms\n",
      "180:\tlearn: 0.6063750\ttotal: 2.98s\tremaining: 313ms\n",
      "181:\tlearn: 0.6055162\ttotal: 3s\tremaining: 297ms\n",
      "182:\tlearn: 0.6047756\ttotal: 3.02s\tremaining: 281ms\n",
      "183:\tlearn: 0.6041164\ttotal: 3.04s\tremaining: 264ms\n",
      "184:\tlearn: 0.6033763\ttotal: 3.06s\tremaining: 248ms\n",
      "185:\tlearn: 0.6022500\ttotal: 3.08s\tremaining: 232ms\n",
      "186:\tlearn: 0.6011608\ttotal: 3.1s\tremaining: 215ms\n",
      "187:\tlearn: 0.5998856\ttotal: 3.12s\tremaining: 199ms\n",
      "188:\tlearn: 0.5986003\ttotal: 3.13s\tremaining: 182ms\n",
      "189:\tlearn: 0.5971609\ttotal: 3.15s\tremaining: 166ms\n",
      "190:\tlearn: 0.5964860\ttotal: 3.16s\tremaining: 149ms\n",
      "191:\tlearn: 0.5953335\ttotal: 3.18s\tremaining: 133ms\n",
      "192:\tlearn: 0.5947011\ttotal: 3.2s\tremaining: 116ms\n",
      "193:\tlearn: 0.5931445\ttotal: 3.21s\tremaining: 99.4ms\n",
      "194:\tlearn: 0.5924151\ttotal: 3.23s\tremaining: 82.8ms\n",
      "195:\tlearn: 0.5912226\ttotal: 3.25s\tremaining: 66.3ms\n",
      "196:\tlearn: 0.5898445\ttotal: 3.27s\tremaining: 49.7ms\n",
      "197:\tlearn: 0.5884419\ttotal: 3.28s\tremaining: 33.2ms\n",
      "198:\tlearn: 0.5874020\ttotal: 3.3s\tremaining: 16.6ms\n",
      "199:\tlearn: 0.5866394\ttotal: 3.32s\tremaining: 0us\n"
     ]
    },
    {
     "data": {
      "text/plain": [
       "<catboost.core.CatBoostClassifier at 0x2ebd4f89590>"
      ]
     },
     "execution_count": 11,
     "metadata": {},
     "output_type": "execute_result"
    }
   ],
   "source": [
    "# Treinando o modelo\n",
    "model = CatBoostClassifier(iterations=200, learning_rate=0.1)\n",
    "model.fit(X_train, y_train)"
   ]
  },
  {
   "cell_type": "code",
   "execution_count": 12,
   "id": "f3344421",
   "metadata": {},
   "outputs": [
    {
     "name": "stdout",
     "output_type": "stream",
     "text": [
      "Acurácia: 0.60\n"
     ]
    }
   ],
   "source": [
    "# Avaliando o modelo no conjunto de teste\n",
    "accuracy = model.score(X_test, y_test)\n",
    "print(f'Acurácia: {accuracy:.2f}')"
   ]
  },
  {
   "cell_type": "markdown",
   "id": "c0ef73c4",
   "metadata": {},
   "source": [
    "### Matriz de confusão"
   ]
  },
  {
   "cell_type": "markdown",
   "id": "5f427f62",
   "metadata": {},
   "source": [
    "A matriz de confusão tem como objetivo, comparar as predições do modelo com o dataset real. De tal forma, nesse problema de multiclassificação é possível ter um panorama geral das respostas e se o modelo tem algum viés ou não."
   ]
  },
  {
   "cell_type": "code",
   "execution_count": 23,
   "id": "b5a135e4",
   "metadata": {},
   "outputs": [
    {
     "data": {
      "image/png": "[encoded data removed]",
      "text/plain": [
       "<Figure size 640x480 with 2 Axes>"
      ]
     },
     "metadata": {},
     "output_type": "display_data"
    }
   ],
   "source": [
    "# Predizendo as classes no conjunto de teste\n",
    "y_pred = model.predict(X_test)\n",
    "\n",
    "# Criando uma matriz de confusão normalizada\n",
    "confusion_matrix_corpus = metrics.confusion_matrix(y_test, y_pred, normalize='true')\n",
    "\n",
    "# Criando a matriz e definindo nomes para colunas\n",
    "cm_corpus = ConfusionMatrixDisplay(confusion_matrix=confusion_matrix_corpus,\n",
    "                                   display_labels=['Negativo', 'Neutro', 'Positivo'])\n",
    "cm_corpus.plot()\n",
    "cm_corpus.ax_.set(title='Matriz de confusão Catboost corpus',\n",
    "                  xlabel='Sentimentos previstos',\n",
    "                  ylabel='Sentimentos reais')\n",
    "plt.show()\n"
   ]
  },
  {
   "cell_type": "markdown",
   "id": "8cfdb328",
   "metadata": {},
   "source": [
    "### Recall\n"
   ]
  },
  {
   "cell_type": "markdown",
   "id": "3e3f6424",
   "metadata": {},
   "source": [
    "Recall é uma métrica de avaliação utilizada em problemas de classificação para medir a capacidade de um modelo em identificar corretamente os exemplos positivos, ou seja, a proporção de casos positivos que foram corretamente identificados pelo modelo em relação ao total de casos positivos."
   ]
  },
  {
   "cell_type": "code",
   "execution_count": 17,
   "id": "650420ef",
   "metadata": {
    "scrolled": true
   },
   "outputs": [
    {
     "name": "stdout",
     "output_type": "stream",
     "text": [
      "Recall: 0.59\n"
     ]
    }
   ],
   "source": [
    "# Predizendo as classes no conjunto de teste\n",
    "y_pred = model.predict(X_test)\n",
    "\n",
    "# Calculando o recall usando a média macro\n",
    "recall = recall_score(y_test, y_pred, average='macro')\n",
    "\n",
    "print(f'Recall: {recall:.2f}')\n"
   ]
  },
  {
   "cell_type": "markdown",
   "id": "775f06d9",
   "metadata": {},
   "source": [
    "### Precisão"
   ]
  },
  {
   "cell_type": "markdown",
   "id": "f77b9fc1",
   "metadata": {},
   "source": [
    "\n",
    "Precisão é uma métrica de avaliação utilizada em problemas de classificação para medir a proporção de exemplos classificados corretamente como positivos em relação ao total de exemplos classificados como positivos pelo modelo, ou seja, a capacidade do modelo em fazer previsões corretas dos casos positivos."
   ]
  },
  {
   "cell_type": "code",
   "execution_count": 18,
   "id": "668ec2a2",
   "metadata": {},
   "outputs": [
    {
     "name": "stdout",
     "output_type": "stream",
     "text": [
      "Precisão: 0.62\n"
     ]
    }
   ],
   "source": [
    "# Predizendo as classes no conjunto de teste\n",
    "y_pred = model.predict(X_test)\n",
    "\n",
    "# Calculando a precisão usando a média macro\n",
    "precision = precision_score(y_test, y_pred, average='macro')\n",
    "\n",
    "print(f'Precisão: {precision:.2f}')\n"
   ]
  }
 ],
 "metadata": {
  "kernelspec": {
   "display_name": "Python 3 (ipykernel)",
   "language": "python",
   "name": "python3"
  },
  "language_info": {
   "codemirror_mode": {
    "name": "ipython",
    "version": 3
   },
   "file_extension": ".py",
   "mimetype": "text/x-python",
   "name": "python",
   "nbconvert_exporter": "python",
   "pygments_lexer": "ipython3",
   "version": "3.11.3"
  }
 },
 "nbformat": 4,
 "nbformat_minor": 5
}
