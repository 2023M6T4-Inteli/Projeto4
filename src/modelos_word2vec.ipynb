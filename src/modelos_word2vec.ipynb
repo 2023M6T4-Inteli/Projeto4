{
 "cells": [
  {
   "cell_type": "markdown",
   "id": "0ff1c14c",
   "metadata": {},
   "source": [
    "# CatBoost "
   ]
  },
  {
   "cell_type": "markdown",
   "id": "a231e57c",
   "metadata": {},
   "source": [
    "O CatBoost é um algoritmo de classificação que se destaca pela sua capacidade de lidar com dados categóricos, fornecendo resultados precisos e eficientes em treinamento. Com recursos avançados de tratamento de dados e prevenção de sobreajuste, o CatBoost é uma escolha popular em diversas aplicações, desde análise de fraudes até sistemas de recomendação.\n",
    "\n",
    "\n",
    "\n",
    "\n",
    "\n"
   ]
  },
  {
   "cell_type": "code",
   "execution_count": 54,
   "id": "a56d498d",
   "metadata": {},
   "outputs": [
    {
     "name": "stdout",
     "output_type": "stream",
     "text": [
      "Collecting seaborn\n",
      "  Downloading seaborn-0.12.2-py3-none-any.whl (293 kB)\n",
      "                                              0.0/293.3 kB ? eta -:--:--\n",
      "     --------                                61.4/293.3 kB 1.7 MB/s eta 0:00:01\n",
      "     ---------------                        122.9/293.3 kB 1.4 MB/s eta 0:00:01\n",
      "     ---------------------------------      256.0/293.3 kB 2.0 MB/s eta 0:00:01\n",
      "     -------------------------------------- 293.3/293.3 kB 1.7 MB/s eta 0:00:00\n",
      "Requirement already satisfied: numpy!=1.24.0,>=1.17 in c:\\users\\math_\\appdata\\local\\programs\\python\\python311\\lib\\site-packages (from seaborn) (1.23.5)\n",
      "Requirement already satisfied: pandas>=0.25 in c:\\users\\math_\\appdata\\local\\programs\\python\\python311\\lib\\site-packages (from seaborn) (2.0.1)\n",
      "Requirement already satisfied: matplotlib!=3.6.1,>=3.1 in c:\\users\\math_\\appdata\\local\\programs\\python\\python311\\lib\\site-packages (from seaborn) (3.7.1)\n",
      "Requirement already satisfied: contourpy>=1.0.1 in c:\\users\\math_\\appdata\\local\\programs\\python\\python311\\lib\\site-packages (from matplotlib!=3.6.1,>=3.1->seaborn) (1.0.7)\n",
      "Requirement already satisfied: cycler>=0.10 in c:\\users\\math_\\appdata\\local\\programs\\python\\python311\\lib\\site-packages (from matplotlib!=3.6.1,>=3.1->seaborn) (0.11.0)\n",
      "Requirement already satisfied: fonttools>=4.22.0 in c:\\users\\math_\\appdata\\local\\programs\\python\\python311\\lib\\site-packages (from matplotlib!=3.6.1,>=3.1->seaborn) (4.39.4)\n",
      "Requirement already satisfied: kiwisolver>=1.0.1 in c:\\users\\math_\\appdata\\local\\programs\\python\\python311\\lib\\site-packages (from matplotlib!=3.6.1,>=3.1->seaborn) (1.4.4)\n",
      "Requirement already satisfied: packaging>=20.0 in c:\\users\\math_\\appdata\\local\\programs\\python\\python311\\lib\\site-packages (from matplotlib!=3.6.1,>=3.1->seaborn) (23.1)\n",
      "Requirement already satisfied: pillow>=6.2.0 in c:\\users\\math_\\appdata\\local\\programs\\python\\python311\\lib\\site-packages (from matplotlib!=3.6.1,>=3.1->seaborn) (9.5.0)\n",
      "Requirement already satisfied: pyparsing>=2.3.1 in c:\\users\\math_\\appdata\\local\\programs\\python\\python311\\lib\\site-packages (from matplotlib!=3.6.1,>=3.1->seaborn) (3.0.9)\n",
      "Requirement already satisfied: python-dateutil>=2.7 in c:\\users\\math_\\appdata\\local\\programs\\python\\python311\\lib\\site-packages (from matplotlib!=3.6.1,>=3.1->seaborn) (2.8.2)\n",
      "Requirement already satisfied: pytz>=2020.1 in c:\\users\\math_\\appdata\\local\\programs\\python\\python311\\lib\\site-packages (from pandas>=0.25->seaborn) (2023.3)\n",
      "Requirement already satisfied: tzdata>=2022.1 in c:\\users\\math_\\appdata\\local\\programs\\python\\python311\\lib\\site-packages (from pandas>=0.25->seaborn) (2023.3)\n",
      "Requirement already satisfied: six>=1.5 in c:\\users\\math_\\appdata\\local\\programs\\python\\python311\\lib\\site-packages (from python-dateutil>=2.7->matplotlib!=3.6.1,>=3.1->seaborn) (1.16.0)\n",
      "Installing collected packages: seaborn\n",
      "Successfully installed seaborn-0.12.2\n",
      "Note: you may need to restart the kernel to use updated packages.\n"
     ]
    }
   ],
   "source": [
    "pip install seaborn"
   ]
  },
  {
   "cell_type": "code",
   "execution_count": 55,
   "id": "239e520e",
   "metadata": {
    "scrolled": true
   },
   "outputs": [
    {
     "name": "stdout",
     "output_type": "stream",
     "text": [
      "Requirement already satisfied: catboost in c:\\users\\math_\\appdata\\local\\programs\\python\\python311\\lib\\site-packages (1.2)Note: you may need to restart the kernel to use updated packages.\n",
      "\n",
      "Requirement already satisfied: graphviz in c:\\users\\math_\\appdata\\local\\programs\\python\\python311\\lib\\site-packages (from catboost) (0.20.1)\n",
      "Requirement already satisfied: matplotlib in c:\\users\\math_\\appdata\\local\\programs\\python\\python311\\lib\\site-packages (from catboost) (3.7.1)\n",
      "Requirement already satisfied: numpy>=1.16.0 in c:\\users\\math_\\appdata\\local\\programs\\python\\python311\\lib\\site-packages (from catboost) (1.23.5)\n",
      "Requirement already satisfied: pandas>=0.24 in c:\\users\\math_\\appdata\\local\\programs\\python\\python311\\lib\\site-packages (from catboost) (2.0.1)\n",
      "Requirement already satisfied: scipy in c:\\users\\math_\\appdata\\local\\programs\\python\\python311\\lib\\site-packages (from catboost) (1.10.1)\n",
      "Requirement already satisfied: plotly in c:\\users\\math_\\appdata\\local\\programs\\python\\python311\\lib\\site-packages (from catboost) (5.14.1)\n",
      "Requirement already satisfied: six in c:\\users\\math_\\appdata\\local\\programs\\python\\python311\\lib\\site-packages (from catboost) (1.16.0)\n",
      "Requirement already satisfied: python-dateutil>=2.8.2 in c:\\users\\math_\\appdata\\local\\programs\\python\\python311\\lib\\site-packages (from pandas>=0.24->catboost) (2.8.2)\n",
      "Requirement already satisfied: pytz>=2020.1 in c:\\users\\math_\\appdata\\local\\programs\\python\\python311\\lib\\site-packages (from pandas>=0.24->catboost) (2023.3)\n",
      "Requirement already satisfied: tzdata>=2022.1 in c:\\users\\math_\\appdata\\local\\programs\\python\\python311\\lib\\site-packages (from pandas>=0.24->catboost) (2023.3)\n",
      "Requirement already satisfied: contourpy>=1.0.1 in c:\\users\\math_\\appdata\\local\\programs\\python\\python311\\lib\\site-packages (from matplotlib->catboost) (1.0.7)\n",
      "Requirement already satisfied: cycler>=0.10 in c:\\users\\math_\\appdata\\local\\programs\\python\\python311\\lib\\site-packages (from matplotlib->catboost) (0.11.0)\n",
      "Requirement already satisfied: fonttools>=4.22.0 in c:\\users\\math_\\appdata\\local\\programs\\python\\python311\\lib\\site-packages (from matplotlib->catboost) (4.39.4)\n",
      "Requirement already satisfied: kiwisolver>=1.0.1 in c:\\users\\math_\\appdata\\local\\programs\\python\\python311\\lib\\site-packages (from matplotlib->catboost) (1.4.4)\n",
      "Requirement already satisfied: packaging>=20.0 in c:\\users\\math_\\appdata\\local\\programs\\python\\python311\\lib\\site-packages (from matplotlib->catboost) (23.1)\n",
      "Requirement already satisfied: pillow>=6.2.0 in c:\\users\\math_\\appdata\\local\\programs\\python\\python311\\lib\\site-packages (from matplotlib->catboost) (9.5.0)\n",
      "Requirement already satisfied: pyparsing>=2.3.1 in c:\\users\\math_\\appdata\\local\\programs\\python\\python311\\lib\\site-packages (from matplotlib->catboost) (3.0.9)\n",
      "Requirement already satisfied: tenacity>=6.2.0 in c:\\users\\math_\\appdata\\local\\programs\\python\\python311\\lib\\site-packages (from plotly->catboost) (8.2.2)\n"
     ]
    }
   ],
   "source": [
    "pip install catboost"
   ]
  },
  {
   "cell_type": "markdown",
   "id": "a745b1fc",
   "metadata": {},
   "source": [
    "### Importando bibliotecas"
   ]
  },
  {
   "cell_type": "code",
   "execution_count": 56,
   "id": "6cbb1068",
   "metadata": {},
   "outputs": [],
   "source": [
    "import catboost\n",
    "import pandas as pd\n",
    "from catboost import CatBoostClassifier\n",
    "from sklearn.model_selection import train_test_split"
   ]
  },
  {
   "cell_type": "code",
   "execution_count": 57,
   "id": "7cf7568a",
   "metadata": {
    "scrolled": true
   },
   "outputs": [],
   "source": [
    "# Lendo os dados\n",
    "df = pd.read_csv('../output/word2vec_corpus.csv')"
   ]
  },
  {
   "cell_type": "code",
   "execution_count": 58,
   "id": "31ae6619",
   "metadata": {},
   "outputs": [],
   "source": [
    "# Separando os dados em features e target\n",
    "X = df.drop(['Frase', 'sentimento'], axis=1)\n",
    "y = df['sentimento']"
   ]
  },
  {
   "cell_type": "code",
   "execution_count": 59,
   "id": "fc8c9372",
   "metadata": {},
   "outputs": [],
   "source": [
    "# Dividindo em treino e teste\n",
    "X_train, X_test, y_train, y_test = train_test_split(X, y, test_size=0.2)"
   ]
  },
  {
   "cell_type": "code",
   "execution_count": 60,
   "id": "0ee0fe25",
   "metadata": {},
   "outputs": [
    {
     "name": "stdout",
     "output_type": "stream",
     "text": [
      "0:\tlearn: 1.0642903\ttotal: 16.9ms\tremaining: 3.36s\n",
      "1:\tlearn: 1.0337870\ttotal: 32ms\tremaining: 3.16s\n",
      "2:\tlearn: 1.0106335\ttotal: 47.3ms\tremaining: 3.11s\n",
      "3:\tlearn: 0.9919775\ttotal: 61.2ms\tremaining: 3s\n",
      "4:\tlearn: 0.9755912\ttotal: 76.5ms\tremaining: 2.98s\n",
      "5:\tlearn: 0.9612318\ttotal: 92.5ms\tremaining: 2.99s\n",
      "6:\tlearn: 0.9483887\ttotal: 109ms\tremaining: 3s\n",
      "7:\tlearn: 0.9358186\ttotal: 127ms\tremaining: 3.05s\n",
      "8:\tlearn: 0.9243692\ttotal: 142ms\tremaining: 3.01s\n",
      "9:\tlearn: 0.9138657\ttotal: 156ms\tremaining: 2.96s\n",
      "10:\tlearn: 0.9058804\ttotal: 170ms\tremaining: 2.93s\n",
      "11:\tlearn: 0.8982543\ttotal: 185ms\tremaining: 2.9s\n",
      "12:\tlearn: 0.8906803\ttotal: 199ms\tremaining: 2.87s\n",
      "13:\tlearn: 0.8851217\ttotal: 215ms\tremaining: 2.86s\n",
      "14:\tlearn: 0.8789031\ttotal: 231ms\tremaining: 2.85s\n",
      "15:\tlearn: 0.8728067\ttotal: 248ms\tremaining: 2.85s\n",
      "16:\tlearn: 0.8672991\ttotal: 262ms\tremaining: 2.83s\n",
      "17:\tlearn: 0.8621714\ttotal: 276ms\tremaining: 2.79s\n",
      "18:\tlearn: 0.8573972\ttotal: 290ms\tremaining: 2.77s\n",
      "19:\tlearn: 0.8539986\ttotal: 305ms\tremaining: 2.74s\n",
      "20:\tlearn: 0.8504852\ttotal: 319ms\tremaining: 2.72s\n",
      "21:\tlearn: 0.8463073\ttotal: 335ms\tremaining: 2.71s\n",
      "22:\tlearn: 0.8418769\ttotal: 352ms\tremaining: 2.71s\n",
      "23:\tlearn: 0.8377276\ttotal: 367ms\tremaining: 2.69s\n",
      "24:\tlearn: 0.8339801\ttotal: 384ms\tremaining: 2.69s\n",
      "25:\tlearn: 0.8311097\ttotal: 401ms\tremaining: 2.69s\n",
      "26:\tlearn: 0.8289851\ttotal: 418ms\tremaining: 2.67s\n",
      "27:\tlearn: 0.8256345\ttotal: 433ms\tremaining: 2.66s\n",
      "28:\tlearn: 0.8236336\ttotal: 447ms\tremaining: 2.64s\n",
      "29:\tlearn: 0.8215012\ttotal: 465ms\tremaining: 2.63s\n",
      "30:\tlearn: 0.8189525\ttotal: 479ms\tremaining: 2.61s\n",
      "31:\tlearn: 0.8169453\ttotal: 494ms\tremaining: 2.59s\n",
      "32:\tlearn: 0.8149195\ttotal: 508ms\tremaining: 2.57s\n",
      "33:\tlearn: 0.8123113\ttotal: 522ms\tremaining: 2.55s\n",
      "34:\tlearn: 0.8087740\ttotal: 540ms\tremaining: 2.55s\n",
      "35:\tlearn: 0.8068649\ttotal: 560ms\tremaining: 2.55s\n",
      "36:\tlearn: 0.8041832\ttotal: 575ms\tremaining: 2.53s\n",
      "37:\tlearn: 0.8023865\ttotal: 594ms\tremaining: 2.53s\n",
      "38:\tlearn: 0.8001540\ttotal: 613ms\tremaining: 2.53s\n",
      "39:\tlearn: 0.7976901\ttotal: 632ms\tremaining: 2.53s\n",
      "40:\tlearn: 0.7961988\ttotal: 652ms\tremaining: 2.53s\n",
      "41:\tlearn: 0.7943178\ttotal: 674ms\tremaining: 2.53s\n",
      "42:\tlearn: 0.7920042\ttotal: 695ms\tremaining: 2.54s\n",
      "43:\tlearn: 0.7895586\ttotal: 719ms\tremaining: 2.55s\n",
      "44:\tlearn: 0.7867642\ttotal: 745ms\tremaining: 2.56s\n",
      "45:\tlearn: 0.7854681\ttotal: 773ms\tremaining: 2.59s\n",
      "46:\tlearn: 0.7841832\ttotal: 794ms\tremaining: 2.58s\n",
      "47:\tlearn: 0.7831393\ttotal: 816ms\tremaining: 2.58s\n",
      "48:\tlearn: 0.7808377\ttotal: 836ms\tremaining: 2.58s\n",
      "49:\tlearn: 0.7794477\ttotal: 856ms\tremaining: 2.57s\n",
      "50:\tlearn: 0.7778874\ttotal: 874ms\tremaining: 2.55s\n",
      "51:\tlearn: 0.7766684\ttotal: 890ms\tremaining: 2.53s\n",
      "52:\tlearn: 0.7751370\ttotal: 905ms\tremaining: 2.51s\n",
      "53:\tlearn: 0.7727250\ttotal: 920ms\tremaining: 2.49s\n",
      "54:\tlearn: 0.7700092\ttotal: 937ms\tremaining: 2.47s\n",
      "55:\tlearn: 0.7680779\ttotal: 953ms\tremaining: 2.45s\n",
      "56:\tlearn: 0.7658729\ttotal: 976ms\tremaining: 2.45s\n",
      "57:\tlearn: 0.7641481\ttotal: 994ms\tremaining: 2.43s\n",
      "58:\tlearn: 0.7631280\ttotal: 1.01s\tremaining: 2.41s\n",
      "59:\tlearn: 0.7620468\ttotal: 1.03s\tremaining: 2.4s\n",
      "60:\tlearn: 0.7608188\ttotal: 1.05s\tremaining: 2.39s\n",
      "61:\tlearn: 0.7587347\ttotal: 1.07s\tremaining: 2.38s\n",
      "62:\tlearn: 0.7569031\ttotal: 1.09s\tremaining: 2.37s\n",
      "63:\tlearn: 0.7554091\ttotal: 1.11s\tremaining: 2.36s\n",
      "64:\tlearn: 0.7534614\ttotal: 1.13s\tremaining: 2.35s\n",
      "65:\tlearn: 0.7510540\ttotal: 1.15s\tremaining: 2.34s\n",
      "66:\tlearn: 0.7493593\ttotal: 1.18s\tremaining: 2.34s\n",
      "67:\tlearn: 0.7474706\ttotal: 1.2s\tremaining: 2.32s\n",
      "68:\tlearn: 0.7456890\ttotal: 1.22s\tremaining: 2.31s\n",
      "69:\tlearn: 0.7436298\ttotal: 1.23s\tremaining: 2.29s\n",
      "70:\tlearn: 0.7421871\ttotal: 1.25s\tremaining: 2.27s\n",
      "71:\tlearn: 0.7400143\ttotal: 1.27s\tremaining: 2.25s\n",
      "72:\tlearn: 0.7380152\ttotal: 1.29s\tremaining: 2.24s\n",
      "73:\tlearn: 0.7366795\ttotal: 1.31s\tremaining: 2.23s\n",
      "74:\tlearn: 0.7352170\ttotal: 1.32s\tremaining: 2.21s\n",
      "75:\tlearn: 0.7332952\ttotal: 1.34s\tremaining: 2.19s\n",
      "76:\tlearn: 0.7325981\ttotal: 1.36s\tremaining: 2.17s\n",
      "77:\tlearn: 0.7312125\ttotal: 1.38s\tremaining: 2.15s\n",
      "78:\tlearn: 0.7302352\ttotal: 1.4s\tremaining: 2.15s\n",
      "79:\tlearn: 0.7284412\ttotal: 1.42s\tremaining: 2.13s\n",
      "80:\tlearn: 0.7274048\ttotal: 1.44s\tremaining: 2.11s\n",
      "81:\tlearn: 0.7255780\ttotal: 1.45s\tremaining: 2.09s\n",
      "82:\tlearn: 0.7244893\ttotal: 1.47s\tremaining: 2.08s\n",
      "83:\tlearn: 0.7239434\ttotal: 1.49s\tremaining: 2.06s\n",
      "84:\tlearn: 0.7229825\ttotal: 1.51s\tremaining: 2.04s\n",
      "85:\tlearn: 0.7215121\ttotal: 1.53s\tremaining: 2.03s\n",
      "86:\tlearn: 0.7196807\ttotal: 1.55s\tremaining: 2.01s\n",
      "87:\tlearn: 0.7181965\ttotal: 1.58s\tremaining: 2.01s\n",
      "88:\tlearn: 0.7171095\ttotal: 1.6s\tremaining: 1.99s\n",
      "89:\tlearn: 0.7153384\ttotal: 1.61s\tremaining: 1.97s\n",
      "90:\tlearn: 0.7142614\ttotal: 1.64s\tremaining: 1.96s\n",
      "91:\tlearn: 0.7123106\ttotal: 1.65s\tremaining: 1.94s\n",
      "92:\tlearn: 0.7112443\ttotal: 1.67s\tremaining: 1.92s\n",
      "93:\tlearn: 0.7102228\ttotal: 1.69s\tremaining: 1.9s\n",
      "94:\tlearn: 0.7082615\ttotal: 1.7s\tremaining: 1.88s\n",
      "95:\tlearn: 0.7063820\ttotal: 1.72s\tremaining: 1.86s\n",
      "96:\tlearn: 0.7049146\ttotal: 1.74s\tremaining: 1.84s\n",
      "97:\tlearn: 0.7036389\ttotal: 1.75s\tremaining: 1.82s\n",
      "98:\tlearn: 0.7022964\ttotal: 1.77s\tremaining: 1.8s\n",
      "99:\tlearn: 0.7000411\ttotal: 1.78s\tremaining: 1.78s\n",
      "100:\tlearn: 0.6990301\ttotal: 1.8s\tremaining: 1.77s\n",
      "101:\tlearn: 0.6977721\ttotal: 1.82s\tremaining: 1.75s\n",
      "102:\tlearn: 0.6963342\ttotal: 1.85s\tremaining: 1.74s\n",
      "103:\tlearn: 0.6948137\ttotal: 1.88s\tremaining: 1.73s\n",
      "104:\tlearn: 0.6937071\ttotal: 1.9s\tremaining: 1.72s\n",
      "105:\tlearn: 0.6921897\ttotal: 1.93s\tremaining: 1.71s\n",
      "106:\tlearn: 0.6902793\ttotal: 1.96s\tremaining: 1.7s\n",
      "107:\tlearn: 0.6891596\ttotal: 1.98s\tremaining: 1.69s\n",
      "108:\tlearn: 0.6876835\ttotal: 2s\tremaining: 1.67s\n",
      "109:\tlearn: 0.6863711\ttotal: 2.02s\tremaining: 1.65s\n",
      "110:\tlearn: 0.6849332\ttotal: 2.04s\tremaining: 1.64s\n",
      "111:\tlearn: 0.6837208\ttotal: 2.06s\tremaining: 1.62s\n",
      "112:\tlearn: 0.6826950\ttotal: 2.07s\tremaining: 1.6s\n",
      "113:\tlearn: 0.6816014\ttotal: 2.09s\tremaining: 1.58s\n",
      "114:\tlearn: 0.6800721\ttotal: 2.11s\tremaining: 1.56s\n",
      "115:\tlearn: 0.6786850\ttotal: 2.13s\tremaining: 1.54s\n",
      "116:\tlearn: 0.6775961\ttotal: 2.14s\tremaining: 1.52s\n",
      "117:\tlearn: 0.6763991\ttotal: 2.16s\tremaining: 1.5s\n",
      "118:\tlearn: 0.6752506\ttotal: 2.18s\tremaining: 1.48s\n",
      "119:\tlearn: 0.6738567\ttotal: 2.2s\tremaining: 1.46s\n",
      "120:\tlearn: 0.6728573\ttotal: 2.21s\tremaining: 1.44s\n",
      "121:\tlearn: 0.6711526\ttotal: 2.23s\tremaining: 1.42s\n",
      "122:\tlearn: 0.6691369\ttotal: 2.24s\tremaining: 1.4s\n",
      "123:\tlearn: 0.6679250\ttotal: 2.26s\tremaining: 1.38s\n",
      "124:\tlearn: 0.6669213\ttotal: 2.27s\tremaining: 1.36s\n",
      "125:\tlearn: 0.6660087\ttotal: 2.29s\tremaining: 1.34s\n",
      "126:\tlearn: 0.6647426\ttotal: 2.31s\tremaining: 1.33s\n",
      "127:\tlearn: 0.6639681\ttotal: 2.32s\tremaining: 1.31s\n",
      "128:\tlearn: 0.6623246\ttotal: 2.34s\tremaining: 1.29s\n",
      "129:\tlearn: 0.6607309\ttotal: 2.36s\tremaining: 1.27s\n",
      "130:\tlearn: 0.6597314\ttotal: 2.38s\tremaining: 1.25s\n",
      "131:\tlearn: 0.6589540\ttotal: 2.39s\tremaining: 1.23s\n",
      "132:\tlearn: 0.6572164\ttotal: 2.41s\tremaining: 1.21s\n",
      "133:\tlearn: 0.6557359\ttotal: 2.42s\tremaining: 1.19s\n",
      "134:\tlearn: 0.6548729\ttotal: 2.44s\tremaining: 1.18s\n",
      "135:\tlearn: 0.6540207\ttotal: 2.46s\tremaining: 1.16s\n",
      "136:\tlearn: 0.6528421\ttotal: 2.47s\tremaining: 1.14s\n",
      "137:\tlearn: 0.6508062\ttotal: 2.49s\tremaining: 1.12s\n",
      "138:\tlearn: 0.6493365\ttotal: 2.51s\tremaining: 1.1s\n",
      "139:\tlearn: 0.6488757\ttotal: 2.52s\tremaining: 1.08s\n",
      "140:\tlearn: 0.6475597\ttotal: 2.54s\tremaining: 1.06s\n",
      "141:\tlearn: 0.6468965\ttotal: 2.56s\tremaining: 1.04s\n",
      "142:\tlearn: 0.6453782\ttotal: 2.57s\tremaining: 1.03s\n",
      "143:\tlearn: 0.6437619\ttotal: 2.59s\tremaining: 1.01s\n",
      "144:\tlearn: 0.6427976\ttotal: 2.61s\tremaining: 990ms\n",
      "145:\tlearn: 0.6419979\ttotal: 2.63s\tremaining: 971ms\n",
      "146:\tlearn: 0.6411855\ttotal: 2.64s\tremaining: 952ms\n",
      "147:\tlearn: 0.6397859\ttotal: 2.66s\tremaining: 934ms\n",
      "148:\tlearn: 0.6389013\ttotal: 2.68s\tremaining: 916ms\n",
      "149:\tlearn: 0.6376434\ttotal: 2.7s\tremaining: 899ms\n",
      "150:\tlearn: 0.6362133\ttotal: 2.71s\tremaining: 881ms\n",
      "151:\tlearn: 0.6349129\ttotal: 2.73s\tremaining: 863ms\n",
      "152:\tlearn: 0.6340234\ttotal: 2.75s\tremaining: 846ms\n",
      "153:\tlearn: 0.6331395\ttotal: 2.77s\tremaining: 828ms\n",
      "154:\tlearn: 0.6323121\ttotal: 2.79s\tremaining: 810ms\n",
      "155:\tlearn: 0.6305471\ttotal: 2.81s\tremaining: 792ms\n",
      "156:\tlearn: 0.6294176\ttotal: 2.82s\tremaining: 774ms\n",
      "157:\tlearn: 0.6281733\ttotal: 2.84s\tremaining: 755ms\n",
      "158:\tlearn: 0.6267027\ttotal: 2.86s\tremaining: 737ms\n",
      "159:\tlearn: 0.6259657\ttotal: 2.88s\tremaining: 719ms\n",
      "160:\tlearn: 0.6251300\ttotal: 2.89s\tremaining: 700ms\n",
      "161:\tlearn: 0.6237070\ttotal: 2.91s\tremaining: 682ms\n"
     ]
    },
    {
     "name": "stdout",
     "output_type": "stream",
     "text": [
      "162:\tlearn: 0.6223503\ttotal: 2.93s\tremaining: 664ms\n",
      "163:\tlearn: 0.6213103\ttotal: 2.94s\tremaining: 647ms\n",
      "164:\tlearn: 0.6204349\ttotal: 2.96s\tremaining: 628ms\n",
      "165:\tlearn: 0.6199556\ttotal: 2.98s\tremaining: 610ms\n",
      "166:\tlearn: 0.6186719\ttotal: 3s\tremaining: 593ms\n",
      "167:\tlearn: 0.6173450\ttotal: 3.02s\tremaining: 575ms\n",
      "168:\tlearn: 0.6164710\ttotal: 3.04s\tremaining: 558ms\n",
      "169:\tlearn: 0.6154512\ttotal: 3.06s\tremaining: 541ms\n",
      "170:\tlearn: 0.6147371\ttotal: 3.08s\tremaining: 523ms\n",
      "171:\tlearn: 0.6136110\ttotal: 3.1s\tremaining: 505ms\n",
      "172:\tlearn: 0.6128778\ttotal: 3.12s\tremaining: 487ms\n",
      "173:\tlearn: 0.6114708\ttotal: 3.14s\tremaining: 469ms\n",
      "174:\tlearn: 0.6103416\ttotal: 3.16s\tremaining: 451ms\n",
      "175:\tlearn: 0.6091037\ttotal: 3.17s\tremaining: 433ms\n",
      "176:\tlearn: 0.6079218\ttotal: 3.19s\tremaining: 415ms\n",
      "177:\tlearn: 0.6068792\ttotal: 3.21s\tremaining: 397ms\n",
      "178:\tlearn: 0.6060208\ttotal: 3.23s\tremaining: 379ms\n",
      "179:\tlearn: 0.6047524\ttotal: 3.24s\tremaining: 360ms\n",
      "180:\tlearn: 0.6037970\ttotal: 3.26s\tremaining: 342ms\n",
      "181:\tlearn: 0.6025732\ttotal: 3.27s\tremaining: 324ms\n",
      "182:\tlearn: 0.6016610\ttotal: 3.29s\tremaining: 306ms\n",
      "183:\tlearn: 0.6005550\ttotal: 3.31s\tremaining: 287ms\n",
      "184:\tlearn: 0.5993186\ttotal: 3.32s\tremaining: 269ms\n",
      "185:\tlearn: 0.5980892\ttotal: 3.34s\tremaining: 251ms\n",
      "186:\tlearn: 0.5965786\ttotal: 3.35s\tremaining: 233ms\n",
      "187:\tlearn: 0.5959422\ttotal: 3.37s\tremaining: 215ms\n",
      "188:\tlearn: 0.5949126\ttotal: 3.39s\tremaining: 197ms\n",
      "189:\tlearn: 0.5936884\ttotal: 3.4s\tremaining: 179ms\n",
      "190:\tlearn: 0.5928548\ttotal: 3.42s\tremaining: 161ms\n",
      "191:\tlearn: 0.5918400\ttotal: 3.44s\tremaining: 143ms\n",
      "192:\tlearn: 0.5910337\ttotal: 3.46s\tremaining: 125ms\n",
      "193:\tlearn: 0.5895248\ttotal: 3.47s\tremaining: 107ms\n",
      "194:\tlearn: 0.5888388\ttotal: 3.49s\tremaining: 89.4ms\n",
      "195:\tlearn: 0.5875518\ttotal: 3.5s\tremaining: 71.5ms\n",
      "196:\tlearn: 0.5864305\ttotal: 3.52s\tremaining: 53.7ms\n",
      "197:\tlearn: 0.5854327\ttotal: 3.55s\tremaining: 35.8ms\n",
      "198:\tlearn: 0.5842117\ttotal: 3.57s\tremaining: 17.9ms\n",
      "199:\tlearn: 0.5832822\ttotal: 3.58s\tremaining: 0us\n"
     ]
    },
    {
     "data": {
      "text/plain": [
       "<catboost.core.CatBoostClassifier at 0x10dad2bc950>"
      ]
     },
     "execution_count": 60,
     "metadata": {},
     "output_type": "execute_result"
    }
   ],
   "source": [
    "# Treinando o modelo\n",
    "model = CatBoostClassifier(iterations=200, learning_rate=0.1)\n",
    "model.fit(X_train, y_train)"
   ]
  },
  {
   "cell_type": "code",
   "execution_count": 61,
   "id": "c28f38c7",
   "metadata": {},
   "outputs": [
    {
     "name": "stdout",
     "output_type": "stream",
     "text": [
      "Acurácia: 0.61\n"
     ]
    }
   ],
   "source": [
    "# Avaliando o modelo no conjunto de teste\n",
    "accuracy = model.score(X_test, y_test)\n",
    "print(f'Acurácia: {accuracy:.2f}')"
   ]
  },
  {
   "cell_type": "code",
   "execution_count": 62,
   "id": "ca139527",
   "metadata": {},
   "outputs": [
    {
     "name": "stdout",
     "output_type": "stream",
     "text": [
      "Recall: 0.58\n"
     ]
    }
   ],
   "source": [
    "from sklearn.metrics import recall_score\n",
    "\n",
    "# Predizendo as classes no conjunto de teste\n",
    "y_pred = model.predict(X_test)\n",
    "\n",
    "# Calculando o recall usando a média macro\n",
    "recall = recall_score(y_test, y_pred, average='macro')\n",
    "\n",
    "print(f'Recall: {recall:.2f}')"
   ]
  },
  {
   "cell_type": "code",
   "execution_count": 63,
   "id": "14baa7c3",
   "metadata": {},
   "outputs": [
    {
     "name": "stdout",
     "output_type": "stream",
     "text": [
      "Precisão: 0.61\n"
     ]
    }
   ],
   "source": [
    "from sklearn.metrics import precision_score\n",
    "\n",
    "# Predizendo as classes no conjunto de teste\n",
    "y_pred = model.predict(X_test)\n",
    "\n",
    "# Calculando a precisão usando a média macro\n",
    "precision = precision_score(y_test, y_pred, average='macro')\n",
    "\n",
    "print(f'Precisão: {precision:.2f}')"
   ]
  },
  {
   "cell_type": "code",
   "execution_count": 64,
   "id": "b4ae1dd0",
   "metadata": {},
   "outputs": [
    {
     "data": {
      "image/png": "[encoded data removed]",
      "text/plain": [
       "<Figure size 800x600 with 1 Axes>"
      ]
     },
     "metadata": {},
     "output_type": "display_data"
    }
   ],
   "source": [
    "import numpy as np\n",
    "import seaborn as sns\n",
    "import matplotlib.pyplot as plt\n",
    "from sklearn.metrics import confusion_matrix\n",
    "\n",
    "# Predizendo as classes no conjunto de teste\n",
    "y_pred = model.predict(X_test)\n",
    "\n",
    "# Calculando a matriz de confusão\n",
    "confusion_matrix = confusion_matrix(y_test, y_pred)\n",
    "\n",
    "# Plotando a matriz de confusão\n",
    "plt.figure(figsize=(8, 6))\n",
    "sns.heatmap(confusion_matrix, annot=True, cmap=\"Blues\", fmt=\"d\", cbar=False)\n",
    "plt.xlabel('Predicted')\n",
    "plt.ylabel('Actual')\n",
    "plt.title('Confusion Matrix')\n",
    "plt.show()\n"
   ]
  }
 ],
 "metadata": {
  "kernelspec": {
   "display_name": "Python 3 (ipykernel)",
   "language": "python",
   "name": "python3"
  },
  "language_info": {
   "codemirror_mode": {
    "name": "ipython",
    "version": 3
   },
   "file_extension": ".py",
   "mimetype": "text/x-python",
   "name": "python",
   "nbconvert_exporter": "python",
   "pygments_lexer": "ipython3",
   "version": "3.11.3"
  }
 },
 "nbformat": 4,
 "nbformat_minor": 5
}
