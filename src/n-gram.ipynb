{
 "cells": [
  {
   "cell_type": "code",
   "execution_count": 15,
   "id": "c54f8bbe",
   "metadata": {},
   "outputs": [
    {
     "name": "stdout",
     "output_type": "stream",
     "text": [
      "Requirement already satisfied: nltk in c:\\users\\eduar\\appdata\\local\\programs\\python\\python311\\lib\\site-packages (3.8.1)\n",
      "Requirement already satisfied: click in c:\\users\\eduar\\appdata\\local\\programs\\python\\python311\\lib\\site-packages (from nltk) (8.1.3)\n",
      "Requirement already satisfied: joblib in c:\\users\\eduar\\appdata\\local\\programs\\python\\python311\\lib\\site-packages (from nltk) (1.2.0)\n",
      "Requirement already satisfied: regex>=2021.8.3 in c:\\users\\eduar\\appdata\\local\\programs\\python\\python311\\lib\\site-packages (from nltk) (2023.3.23)\n",
      "Requirement already satisfied: tqdm in c:\\users\\eduar\\appdata\\local\\programs\\python\\python311\\lib\\site-packages (from nltk) (4.65.0)\n",
      "Requirement already satisfied: colorama in c:\\users\\eduar\\appdata\\roaming\\python\\python311\\site-packages (from click->nltk) (0.4.6)\n",
      "Note: you may need to restart the kernel to use updated packages.\n"
     ]
    },
    {
     "name": "stderr",
     "output_type": "stream",
     "text": [
      "\n",
      "[notice] A new release of pip is available: 23.1.1 -> 23.1.2\n",
      "[notice] To update, run: python.exe -m pip install --upgrade pip\n"
     ]
    }
   ],
   "source": [
    "pip install nltk"
   ]
  },
  {
   "cell_type": "code",
   "execution_count": 60,
   "id": "a1de249a",
   "metadata": {},
   "outputs": [],
   "source": [
    "import pandas as pd\n",
    "import nltk\n",
    "import matplotlib.pyplot as plt\n",
    "from collections import Counter\n"
   ]
  },
  {
   "cell_type": "code",
   "execution_count": 64,
   "id": "b03601c8",
   "metadata": {
    "scrolled": true
   },
   "outputs": [
    {
     "data": {
      "text/plain": [
       "Index(['dataPublicada', 'autor', 'texto', 'sentimento', 'tipoInteracao',\n",
       "       'anomalia', 'probabilidadeAnomalia', 'linkPost', 'processado',\n",
       "       'contemHyperlink', 'Frases_sem_stop_words'],\n",
       "      dtype='object')"
      ]
     },
     "execution_count": 64,
     "metadata": {},
     "output_type": "execute_result"
    }
   ],
   "source": [
    "df = pd.read_csv('../output/ResultadoProcessamento.csv')\n",
    "df.columns"
   ]
  },
  {
   "cell_type": "code",
   "execution_count": 65,
   "id": "8478f321",
   "metadata": {},
   "outputs": [],
   "source": [
    "df_tokenized = df['Frases_sem_stop_words'] "
   ]
  },
  {
   "cell_type": "code",
   "execution_count": 66,
   "id": "acd7e675",
   "metadata": {},
   "outputs": [],
   "source": [
    "df_not_tokenized = df['texto']"
   ]
  },
  {
   "cell_type": "markdown",
   "id": "899486e5",
   "metadata": {},
   "source": [
    "#### Testing without cleaning the text"
   ]
  },
  {
   "cell_type": "code",
   "execution_count": 77,
   "id": "a3cd6d51",
   "metadata": {},
   "outputs": [],
   "source": [
    "\n",
    "def find_most_recurrent_ngrams(df, column, n, top_n):\n",
    "    # Combina todo a coluna em uma string\n",
    "    combined_text = ' '.join(df['Frases_sem_stop_words'].tolist())\n",
    "\n",
    "    # Gera os n-grams a partir do texto\n",
    "    words = combined_text.split()\n",
    "    ngrams_list = list(ngrams(words, n))\n",
    "\n",
    "    # Conta quantas vezes o n-grama aparece\n",
    "    ngrams_counts = Counter(ngrams_list)\n",
    "\n",
    "    # Pega o nº \n",
    "    top_ngrams = ngrams_counts.most_common(top_n)\n",
    "\n",
    "    return top_ngrams\n"
   ]
  },
  {
   "cell_type": "code",
   "execution_count": 82,
   "id": "b2900f57",
   "metadata": {},
   "outputs": [],
   "source": [
    "\n",
    "most_recurrent_ngrams = find_most_recurrent_ngrams(df, df_tokenized, 3, 30)\n"
   ]
  },
  {
   "cell_type": "code",
   "execution_count": 83,
   "id": "074e6fb1",
   "metadata": {},
   "outputs": [
    {
     "name": "stdout",
     "output_type": "stream",
     "text": [
      "N-gram: [] [] [], Count: 266\n",
      "N-gram: [] ['FLU'] [], Count: 12\n",
      "N-gram: 'explicar', 'faz', 'sentir',, Count: 11\n",
      "N-gram: 'faz', 'sentir', 'alegria',, Count: 11\n",
      "N-gram: 'sentir', 'alegria', 'mim',, Count: 11\n",
      "N-gram: ['FLU'] [] [], Count: 11\n",
      "N-gram: 'liberou', 'mil', 'limite',, Count: 11\n",
      "N-gram: 'mil', 'limite', 'ótimo',, Count: 11\n",
      "N-gram: 'limite', 'ótimo', 'cartão',, Count: 11\n",
      "N-gram: 'ótimo', 'cartão', 'crédito',, Count: 11\n",
      "N-gram: 'cartão', 'crédito', 'aprovando',, Count: 11\n",
      "N-gram: 'crédito', 'aprovando', 'quer',, Count: 11\n",
      "N-gram: 'aprovando', 'quer', 'link',, Count: 11\n",
      "N-gram: 'quer', 'link', 'indicação',, Count: 11\n",
      "N-gram: 'link', 'indicação', 'p',, Count: 11\n",
      "N-gram: 'indicação', 'p', 'aprovação',, Count: 11\n",
      "N-gram: 'p', 'aprovação', 'Comente',, Count: 11\n",
      "N-gram: 'aprovação', 'Comente', 'algo',, Count: 11\n",
      "N-gram: 'Comente', 'algo', 'mande',, Count: 11\n",
      "N-gram: 'algo', 'mande', 'msg',, Count: 11\n",
      "N-gram: 'mande', 'msg', 'boa',, Count: 11\n",
      "N-gram: 'msg', 'boa', 'sorte'], Count: 11\n",
      "N-gram: 'recebi', 'retorno', 'diligência',, Count: 10\n",
      "N-gram: 'retorno', 'diligência', 'honestidade',, Count: 10\n",
      "N-gram: 'diligência', 'honestidade', 'inegáveis'], Count: 10\n",
      "N-gram: 'abri', 'carteira', 'vi',, Count: 10\n",
      "N-gram: [] [] ['FLU'], Count: 10\n",
      "N-gram: 'maior', 'banco', 'investimentos',, Count: 9\n",
      "N-gram: 'dias', 'recebi', 'retorno',, Count: 9\n",
      "N-gram: ['posso', 'explicar', 'faz',, Count: 9\n"
     ]
    }
   ],
   "source": [
    "for ngram, count in most_recurrent_ngrams:\n",
    "    print(f\"N-gram: {' '.join(ngram)}, Count: {count}\")\n"
   ]
  },
  {
   "cell_type": "code",
   "execution_count": null,
   "id": "7927c78b",
   "metadata": {},
   "outputs": [],
   "source": []
  }
 ],
 "metadata": {
  "kernelspec": {
   "display_name": "Python 3 (ipykernel)",
   "language": "python",
   "name": "python3"
  },
  "language_info": {
   "codemirror_mode": {
    "name": "ipython",
    "version": 3
   },
   "file_extension": ".py",
   "mimetype": "text/x-python",
   "name": "python",
   "nbconvert_exporter": "python",
   "pygments_lexer": "ipython3",
   "version": "3.11.3"
  }
 },
 "nbformat": 4,
 "nbformat_minor": 5
}
