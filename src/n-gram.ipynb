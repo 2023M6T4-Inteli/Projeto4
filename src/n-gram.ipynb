{
 "cells": [
  {
   "cell_type": "code",
   "execution_count": 15,
   "id": "9c9b649e",
   "metadata": {},
   "outputs": [
    {
     "name": "stdout",
     "output_type": "stream",
     "text": [
      "Requirement already satisfied: nltk in c:\\users\\eduar\\appdata\\local\\programs\\python\\python311\\lib\\site-packages (3.8.1)\n",
      "Requirement already satisfied: click in c:\\users\\eduar\\appdata\\local\\programs\\python\\python311\\lib\\site-packages (from nltk) (8.1.3)\n",
      "Requirement already satisfied: joblib in c:\\users\\eduar\\appdata\\local\\programs\\python\\python311\\lib\\site-packages (from nltk) (1.2.0)\n",
      "Requirement already satisfied: regex>=2021.8.3 in c:\\users\\eduar\\appdata\\local\\programs\\python\\python311\\lib\\site-packages (from nltk) (2023.3.23)\n",
      "Requirement already satisfied: tqdm in c:\\users\\eduar\\appdata\\local\\programs\\python\\python311\\lib\\site-packages (from nltk) (4.65.0)\n",
      "Requirement already satisfied: colorama in c:\\users\\eduar\\appdata\\roaming\\python\\python311\\site-packages (from click->nltk) (0.4.6)\n",
      "Note: you may need to restart the kernel to use updated packages.\n"
     ]
    },
    {
     "name": "stderr",
     "output_type": "stream",
     "text": [
      "\n",
      "[notice] A new release of pip is available: 23.1.1 -> 23.1.2\n",
      "[notice] To update, run: python.exe -m pip install --upgrade pip\n"
     ]
    }
   ],
   "source": [
    "pip install nltk"
   ]
  },
  {
   "cell_type": "code",
   "execution_count": 60,
   "id": "fdd623ff",
   "metadata": {},
   "outputs": [],
   "source": [
    "import pandas as pd\n",
    "import nltk\n",
    "import matplotlib.pyplot as plt\n",
    "from collections import Counter\n"
   ]
  },
  {
   "cell_type": "code",
   "execution_count": 64,
   "id": "2401b963",
   "metadata": {
    "scrolled": true
   },
   "outputs": [
    {
     "data": {
      "text/plain": [
       "Index(['dataPublicada', 'autor', 'texto', 'sentimento', 'tipoInteracao',\n",
       "       'anomalia', 'probabilidadeAnomalia', 'linkPost', 'processado',\n",
       "       'contemHyperlink', 'Frases_sem_stop_words'],\n",
       "      dtype='object')"
      ]
     },
     "execution_count": 64,
     "metadata": {},
     "output_type": "execute_result"
    }
   ],
   "source": [
    "df = pd.read_csv('../output/ResultadoProcessamento.csv')\n",
    "df.columns"
   ]
  },
  {
   "cell_type": "code",
   "execution_count": 94,
   "id": "9e1cdd13",
   "metadata": {},
   "outputs": [],
   "source": [
    "df_tokenized = df['Frases_sem_stop_words'] "
   ]
  },
  {
   "cell_type": "code",
   "execution_count": 95,
   "id": "d52248d4",
   "metadata": {},
   "outputs": [],
   "source": [
    "df_not_tokenized = df['texto']"
   ]
  },
  {
   "cell_type": "markdown",
   "id": "e6723256",
   "metadata": {},
   "source": [
    "#### Testing without cleaning the text"
   ]
  },
  {
   "cell_type": "code",
   "execution_count": 96,
   "id": "c632c324",
   "metadata": {},
   "outputs": [],
   "source": [
    "\n",
    "def find_most_recurrent_ngrams(df, column, n, top_n):\n",
    "    # Combina todo a coluna em uma string\n",
    "    combined_text = ' '.join(df['Frases_sem_stop_words'].tolist())\n",
    "\n",
    "    # Gera os n-grams a partir do texto\n",
    "    words = combined_text.split()\n",
    "    ngrams_list = list(ngrams(words, n))\n",
    "\n",
    "    # Conta quantas vezes o n-grama aparece\n",
    "    ngrams_counts = Counter(ngrams_list)\n",
    "\n",
    "    # Pega o nº de n-grams para mostrar a lista dos principais\n",
    "    top_ngrams = ngrams_counts.most_common(top_n)\n",
    "\n",
    "    return top_ngrams\n"
   ]
  },
  {
   "cell_type": "code",
   "execution_count": 97,
   "id": "37c9c698",
   "metadata": {},
   "outputs": [],
   "source": [
    "\n",
    "most_recurrent_ngrams = find_most_recurrent_ngrams(df, df_tokenized, 2, 200)\n"
   ]
  },
  {
   "cell_type": "code",
   "execution_count": 98,
   "id": "fc7bbd22",
   "metadata": {},
   "outputs": [
    {
     "name": "stdout",
     "output_type": "stream",
     "text": [
      "N-gram: [] [], Count: 594\n",
      "N-gram: 'cartão', 'crédito',, Count: 58\n",
      "N-gram: 'abrir', 'conta',, Count: 40\n",
      "N-gram: 'limite', 'cartão',, Count: 31\n",
      "N-gram: ['FLU'] [], Count: 27\n",
      "N-gram: [] ['FLU'], Count: 24\n",
      "N-gram: [] ['Flu'], Count: 20\n",
      "N-gram: 'fazer', 'parte',, Count: 19\n",
      "N-gram: ['Flu'] [], Count: 19\n",
      "N-gram: 'obtive', 'retorno',, Count: 18\n",
      "N-gram: 'entrar', 'contato',, Count: 17\n",
      "N-gram: 'retorno', 'diligência',, Count: 16\n",
      "N-gram: 'informações', 'sobre',, Count: 15\n",
      "N-gram: 'banco', 'investimentos',, Count: 14\n",
      "N-gram: 'dias', 'recebi',, Count: 14\n",
      "N-gram: 'ter', 'cartão',, Count: 14\n",
      "N-gram: 'recebi', 'retorno',, Count: 14\n",
      "N-gram: [] ['Melhor',, Count: 13\n",
      "N-gram: 'taxa', 'Selic',, Count: 13\n",
      "N-gram: 'reduziram', 'limite',, Count: 13\n",
      "N-gram: 'mil', 'limite',, Count: 13\n",
      "N-gram: 'alegria', 'mim',, Count: 12\n",
      "N-gram: 'todo', 'mês',, Count: 12\n",
      "N-gram: 'pequeno', 'investimento',, Count: 12\n",
      "N-gram: 'recebi', 'pagamento',, Count: 12\n",
      "N-gram: 'papeis', 'CDB',, Count: 12\n",
      "N-gram: 'investi', 'maior',, Count: 11\n",
      "N-gram: 'explicar', 'faz',, Count: 11\n",
      "N-gram: 'faz', 'sentir',, Count: 11\n",
      "N-gram: 'sentir', 'alegria',, Count: 11\n",
      "N-gram: 'taxa', 'corretagem',, Count: 11\n",
      "N-gram: 'abri', 'carteira',, Count: 11\n",
      "N-gram: 'todos', 'esforços',, Count: 11\n",
      "N-gram: 'nunca', 'atrasei',, Count: 11\n",
      "N-gram: ['Flu'] ['FLU'], Count: 11\n",
      "N-gram: 'liberou', 'mil',, Count: 11\n",
      "N-gram: 'limite', 'ótimo',, Count: 11\n",
      "N-gram: 'ótimo', 'cartão',, Count: 11\n",
      "N-gram: 'crédito', 'aprovando',, Count: 11\n",
      "N-gram: 'aprovando', 'quer',, Count: 11\n",
      "N-gram: 'quer', 'link',, Count: 11\n",
      "N-gram: 'link', 'indicação',, Count: 11\n",
      "N-gram: 'indicação', 'p',, Count: 11\n",
      "N-gram: 'p', 'aprovação',, Count: 11\n",
      "N-gram: 'aprovação', 'Comente',, Count: 11\n",
      "N-gram: 'Comente', 'algo',, Count: 11\n",
      "N-gram: 'algo', 'mande',, Count: 11\n",
      "N-gram: 'mande', 'msg',, Count: 11\n",
      "N-gram: 'msg', 'boa',, Count: 11\n",
      "N-gram: 'boa', 'sorte'], Count: 11\n",
      "N-gram: 'BTG', 'Pactual',, Count: 10\n",
      "N-gram: 'confiabilidade', 'pode',, Count: 10\n",
      "N-gram: 'banco'] [], Count: 10\n",
      "N-gram: 'testar', 'dias',, Count: 10\n",
      "N-gram: 'mil', 'reais',, Count: 10\n",
      "N-gram: 'limite', 'todo',, Count: 10\n",
      "N-gram: 'pra'] [], Count: 10\n",
      "N-gram: 'conta', 'investimento',, Count: 10\n",
      "N-gram: 'bom', 'trabalho',, Count: 10\n",
      "N-gram: 'diligência', 'honestidade',, Count: 10\n",
      "N-gram: 'honestidade', 'inegáveis'], Count: 10\n",
      "N-gram: 'carteira', 'vi',, Count: 10\n",
      "N-gram: ['realmente', 'aprecio',, Count: 10\n",
      "N-gram: ['Chegou', 'hora',, Count: 10\n",
      "N-gram: 'maior', 'banco',, Count: 9\n",
      "N-gram: 'outro', 'banco',, Count: 9\n",
      "N-gram: ['Vem', 'pro',, Count: 9\n",
      "N-gram: 'assessor', 'investimentos',, Count: 9\n",
      "N-gram: 'semana', 'passada',, Count: 9\n",
      "N-gram: ['posso', 'explicar',, Count: 9\n",
      "N-gram: 'limite', 'pra',, Count: 9\n",
      "N-gram: 'cartão', 'Black',, Count: 9\n",
      "N-gram: 'sempre', 'paguei',, Count: 9\n",
      "N-gram: 'todas', 'contas',, Count: 9\n",
      "N-gram: 'bancos', 'digitais',, Count: 8\n",
      "N-gram: 'liquidez', 'diária',, Count: 8\n",
      "N-gram: [] ['banco',, Count: 8\n",
      "N-gram: 'conta'] [], Count: 8\n",
      "N-gram: 'diminuíram', 'limite',, Count: 8\n",
      "N-gram: [] ['melhor',, Count: 8\n",
      "N-gram: 'cada', 'vez',, Count: 8\n",
      "N-gram: 'limite', 'crédito',, Count: 8\n",
      "N-gram: 'conta', 'BTG',, Count: 8\n",
      "N-gram: 'colocar', 'sorriso',, Count: 8\n",
      "N-gram: ['Pior', 'banco',, Count: 8\n",
      "N-gram: 'Paulo', 'Guedes',, Count: 8\n",
      "N-gram: [] ['Boa',, Count: 8\n",
      "N-gram: 'mandei', 'mensagem',, Count: 8\n",
      "N-gram: 'pode', 'entrar',, Count: 8\n",
      "N-gram: 'hora', 'ter',, Count: 8\n",
      "N-gram: 'cartão', 'Aprovando',, Count: 8\n",
      "N-gram: 'Aprovando', 'liberou',, Count: 8\n",
      "N-gram: 'investimentos', 'América'], Count: 7\n",
      "N-gram: 'pra', 'ter',, Count: 7\n",
      "N-gram: 'sala', 'vip',, Count: 7\n",
      "N-gram: ['Abri', 'conta',, Count: 7\n",
      "N-gram: [] ['Banco',, Count: 7\n",
      "N-gram: 'conta', 'corrente',, Count: 7\n",
      "N-gram: 'entrei', 'contato',, Count: 7\n",
      "N-gram: 'renda', 'variável',, Count: 7\n",
      "N-gram: 'melhor'] [], Count: 7\n",
      "N-gram: 'poucos', 'dias',, Count: 7\n",
      "N-gram: 'qualquer', 'decisão',, Count: 7\n",
      "N-gram: ['Obrigado', 'restaurar',, Count: 7\n",
      "N-gram: 'dias', 'durante',, Count: 7\n",
      "N-gram: 'período', 'investi',, Count: 7\n",
      "N-gram: 'maior', 'surpresa',, Count: 7\n",
      "N-gram: 'retorno', 'apenas',, Count: 7\n",
      "N-gram: 'pra', 'ver',, Count: 7\n",
      "N-gram: 'investir', 'nunca',, Count: 7\n",
      "N-gram: 'usar', 'cartão',, Count: 7\n",
      "N-gram: 'BTG'] [], Count: 7\n",
      "N-gram: 'ter', 'sido',, Count: 7\n",
      "N-gram: 'duas', 'semanas',, Count: 7\n",
      "N-gram: 'semanas', 'ajuda'], Count: 7\n",
      "N-gram: 'todo', 'mundo',, Count: 7\n",
      "N-gram: 'todos', 'investimentos',, Count: 7\n",
      "N-gram: 'melhor', 'decisão',, Count: 7\n",
      "N-gram: 'dando', 'erro',, Count: 7\n",
      "N-gram: 'desse', 'banco',, Count: 7\n",
      "N-gram: 'DINHEIRO', 'CONTA',, Count: 7\n",
      "N-gram: 'Banco', 'Central',, Count: 7\n",
      "N-gram: 'dizer', 'quanto',, Count: 7\n",
      "N-gram: ['depositei', 'testar',, Count: 7\n",
      "N-gram: 'aprecio', 'todos',, Count: 7\n",
      "N-gram: 'esforços', 'pequeno',, Count: 7\n",
      "N-gram: 'vi', 'pagamento',, Count: 7\n",
      "N-gram: 'obrigado', 'pagamento'], Count: 7\n",
      "N-gram: 'cartão', 'crédito'], Count: 7\n",
      "N-gram: 'empresa', 'investimentos',, Count: 7\n",
      "N-gram: 'tão', 'bem',, Count: 7\n",
      "N-gram: 'dias', 'investi',, Count: 7\n",
      "N-gram: 'trabalho', 'maravilhoso',, Count: 7\n",
      "N-gram: 'maravilhoso', 'bem',, Count: 7\n",
      "N-gram: ['Flu'] ['Flu'], Count: 7\n",
      "N-gram: 'redução', 'limite',, Count: 7\n",
      "N-gram: 'agora', 'posso',, Count: 7\n",
      "N-gram: ['Obrigado', 'dá',, Count: 7\n",
      "N-gram: 'dá', 'informações',, Count: 7\n",
      "N-gram: 'sobre', 'incrível',, Count: 7\n",
      "N-gram: 'incrível', 'assim',, Count: 7\n",
      "N-gram: 'assim', 'comentarista',, Count: 7\n",
      "N-gram: 'comentarista', 'afirmou',, Count: 7\n",
      "N-gram: 'afirmou', 'nesta',, Count: 7\n",
      "N-gram: 'nesta', 'negociei',, Count: 7\n",
      "N-gram: 'negociei', 'recebo',, Count: 7\n",
      "N-gram: 'recebo', 'obrigado',, Count: 7\n",
      "N-gram: 'obrigado', 'pessoal'], Count: 7\n",
      "N-gram: 'investimento', 'alegria',, Count: 7\n",
      "N-gram: 'alegria', 'cima',, Count: 7\n",
      "N-gram: 'cima', 'mim',, Count: 7\n",
      "N-gram: [] ['I',, Count: 7\n",
      "N-gram: 'cartão', 'black',, Count: 7\n",
      "N-gram: 'pegar', 'empréstimo',, Count: 7\n",
      "N-gram: 'empurrando', 'produtos',, Count: 7\n",
      "N-gram: 'mudou', 'vida',, Count: 6\n",
      "N-gram: [] ['pode',, Count: 6\n",
      "N-gram: ['Melhor', 'banco'], Count: 6\n",
      "N-gram: 'diminuir', 'limite',, Count: 6\n",
      "N-gram: 'dá', 'pra',, Count: 6\n",
      "N-gram: 'entrar', 'contato'], Count: 6\n",
      "N-gram: 'cliente', 'banco',, Count: 6\n",
      "N-gram: 'dor', 'cabeça',, Count: 6\n",
      "N-gram: 'torna', 'dinheiro',, Count: 6\n",
      "N-gram: 'decisão', 'econômica',, Count: 6\n",
      "N-gram: 'restaurar', 'felicidade',, Count: 6\n",
      "N-gram: 'felicidade', 'dias',, Count: 6\n",
      "N-gram: 'durante', 'período',, Count: 6\n",
      "N-gram: 'banco', 'principal',, Count: 6\n",
      "N-gram: 'pra', 'fazer',, Count: 6\n",
      "N-gram: 'outra', 'corretora',, Count: 6\n",
      "N-gram: 'obrigado', 'colocar',, Count: 6\n",
      "N-gram: 'pra', 'mim',, Count: 6\n",
      "N-gram: [] ['Parabéns'], Count: 6\n",
      "N-gram: 'vou', 'cancelar',, Count: 6\n",
      "N-gram: 'ver', 'vai',, Count: 6\n",
      "N-gram: 'vai', 'ter',, Count: 6\n",
      "N-gram: [] ['Parabéns',, Count: 6\n",
      "N-gram: 'últimas', 'duas',, Count: 6\n",
      "N-gram: 'dias', 'obtive',, Count: 6\n",
      "N-gram: 'desde', 'dia',, Count: 6\n",
      "N-gram: 'Brasil'] [], Count: 6\n",
      "N-gram: 'limite', 'alto',, Count: 6\n",
      "N-gram: 'day', 'trade',, Count: 6\n",
      "N-gram: [] ['Pior',, Count: 6\n",
      "N-gram: 'tão', 'feliz',, Count: 6\n",
      "N-gram: 'cartão', 'limite',, Count: 6\n",
      "N-gram: 'cada', 'dia',, Count: 6\n",
      "N-gram: 'morning', 'call',, Count: 6\n",
      "N-gram: 'segunda', 'vez',, Count: 6\n",
      "N-gram: 'salvou', 'vida',, Count: 6\n",
      "N-gram: 'quanto', 'significa',, Count: 6\n",
      "N-gram: 'recebi', 'acredito',, Count: 6\n",
      "N-gram: 'acredito', 'melhor'], Count: 6\n",
      "N-gram: 'falando', 'sobre',, Count: 6\n",
      "N-gram: 'investimento', 'US',, Count: 6\n",
      "N-gram: 'US', 'alegria',, Count: 6\n",
      "N-gram: 'alegria', 'sobre',, Count: 6\n",
      "N-gram: 'sobre', 'mim',, Count: 6\n",
      "N-gram: 'através', 'ajuda'], Count: 6\n"
     ]
    }
   ],
   "source": [
    "for ngram, count in most_recurrent_ngrams:\n",
    "    print(f\"N-gram: {' '.join(ngram)}, Count: {count}\")\n"
   ]
  },
  {
   "cell_type": "code",
   "execution_count": null,
   "id": "4801c523",
   "metadata": {},
   "outputs": [],
   "source": []
  }
 ],
 "metadata": {
  "kernelspec": {
   "display_name": "Python 3 (ipykernel)",
   "language": "python",
   "name": "python3"
  },
  "language_info": {
   "codemirror_mode": {
    "name": "ipython",
    "version": 3
   },
   "file_extension": ".py",
   "mimetype": "text/x-python",
   "name": "python",
   "nbconvert_exporter": "python",
   "pygments_lexer": "ipython3",
   "version": "3.11.3"
  }
 },
 "nbformat": 4,
 "nbformat_minor": 5
}
