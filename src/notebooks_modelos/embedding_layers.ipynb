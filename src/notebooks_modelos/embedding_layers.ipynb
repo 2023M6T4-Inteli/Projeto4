{
 "cells": [
  {
   "cell_type": "markdown",
   "id": "2428df36",
   "metadata": {},
   "source": [
    "### Rede neural \n",
    "Neste notebook será testado uma rede neural LSTM. O que isso significa é que há uma célula de mémoria que mantém a informação por mais tempo. \n",
    "O intuito disso é que o modelo consiga captar depêndencias e melhorar a classificação. "
   ]
  },
  {
   "cell_type": "markdown",
   "id": "642ea49b",
   "metadata": {},
   "source": [
    "### Importando as bibliotecas"
   ]
  },
  {
   "cell_type": "code",
   "execution_count": 47,
   "id": "33c05c6c",
   "metadata": {},
   "outputs": [],
   "source": [
    "import pandas as pd\n",
    "import numpy as np\n",
    "from keras.preprocessing import sequence\n",
    "from keras.layers import Embedding, Dense, Flatten\n",
    "from keras.models import Sequential\n",
    "from sklearn import preprocessing\n",
    "from sklearn.preprocessing import LabelEncoder\n",
    "from sklearn.model_selection import train_test_split\n",
    "from keras.preprocessing.text import Tokenizer\n",
    "from tensorflow.keras.preprocessing.sequence import pad_sequences\n",
    "from matplotlib import pyplot as plt\n",
    "import nltk\n",
    "import re\n",
    "from nltk.tokenize import word_tokenize\n",
    "from nltk.stem.porter import PorterStemmer\n",
    "from keras.layers import Dense, Dropout, Embedding, LSTM, GlobalMaxPooling1D, SpatialDropout1D"
   ]
  },
  {
   "cell_type": "markdown",
   "id": "848bde77",
   "metadata": {},
   "source": [
    "### Abrindo o dataset "
   ]
  },
  {
   "cell_type": "code",
   "execution_count": 48,
   "id": "43996a47",
   "metadata": {},
   "outputs": [
    {
     "data": {
      "text/html": [
       "<div>\n",
       "<style scoped>\n",
       "    .dataframe tbody tr th:only-of-type {\n",
       "        vertical-align: middle;\n",
       "    }\n",
       "\n",
       "    .dataframe tbody tr th {\n",
       "        vertical-align: top;\n",
       "    }\n",
       "\n",
       "    .dataframe thead th {\n",
       "        text-align: right;\n",
       "    }\n",
       "</style>\n",
       "<table border=\"1\" class=\"dataframe\">\n",
       "  <thead>\n",
       "    <tr style=\"text-align: right;\">\n",
       "      <th></th>\n",
       "      <th>Frase</th>\n",
       "      <th>Vetor1</th>\n",
       "      <th>Vetor2</th>\n",
       "      <th>Vetor3</th>\n",
       "      <th>Vetor4</th>\n",
       "      <th>Vetor5</th>\n",
       "      <th>Vetor6</th>\n",
       "      <th>Vetor7</th>\n",
       "      <th>Vetor8</th>\n",
       "      <th>Vetor9</th>\n",
       "      <th>...</th>\n",
       "      <th>Vetor42</th>\n",
       "      <th>Vetor43</th>\n",
       "      <th>Vetor44</th>\n",
       "      <th>Vetor45</th>\n",
       "      <th>Vetor46</th>\n",
       "      <th>Vetor47</th>\n",
       "      <th>Vetor48</th>\n",
       "      <th>Vetor49</th>\n",
       "      <th>Vetor50</th>\n",
       "      <th>sentimento</th>\n",
       "    </tr>\n",
       "  </thead>\n",
       "  <tbody>\n",
       "    <tr>\n",
       "      <th>0</th>\n",
       "      <td>['minuto', 'touro', 'ouro']</td>\n",
       "      <td>0.078066</td>\n",
       "      <td>-0.681861</td>\n",
       "      <td>-0.242816</td>\n",
       "      <td>-0.287935</td>\n",
       "      <td>-0.052421</td>\n",
       "      <td>0.331101</td>\n",
       "      <td>-0.139809</td>\n",
       "      <td>-0.379450</td>\n",
       "      <td>0.267952</td>\n",
       "      <td>...</td>\n",
       "      <td>-0.211810</td>\n",
       "      <td>0.132065</td>\n",
       "      <td>-0.106570</td>\n",
       "      <td>0.100519</td>\n",
       "      <td>0.056235</td>\n",
       "      <td>0.211425</td>\n",
       "      <td>0.015619</td>\n",
       "      <td>-0.055449</td>\n",
       "      <td>-0.076335</td>\n",
       "      <td>1</td>\n",
       "    </tr>\n",
       "    <tr>\n",
       "      <th>1</th>\n",
       "      <td>['sim']</td>\n",
       "      <td>0.219127</td>\n",
       "      <td>-0.408984</td>\n",
       "      <td>-0.176726</td>\n",
       "      <td>-0.270843</td>\n",
       "      <td>0.154609</td>\n",
       "      <td>0.169897</td>\n",
       "      <td>-0.016856</td>\n",
       "      <td>-0.248304</td>\n",
       "      <td>0.197370</td>\n",
       "      <td>...</td>\n",
       "      <td>-0.338304</td>\n",
       "      <td>0.263537</td>\n",
       "      <td>0.065959</td>\n",
       "      <td>0.021564</td>\n",
       "      <td>0.175807</td>\n",
       "      <td>0.181400</td>\n",
       "      <td>-0.136190</td>\n",
       "      <td>-0.056663</td>\n",
       "      <td>-0.056629</td>\n",
       "      <td>0</td>\n",
       "    </tr>\n",
       "    <tr>\n",
       "      <th>2</th>\n",
       "      <td>['queria', 'saber', 'banking', 'própria']</td>\n",
       "      <td>0.139843</td>\n",
       "      <td>-0.536218</td>\n",
       "      <td>-0.217435</td>\n",
       "      <td>-0.219593</td>\n",
       "      <td>-0.017553</td>\n",
       "      <td>0.193954</td>\n",
       "      <td>-0.051410</td>\n",
       "      <td>-0.258538</td>\n",
       "      <td>0.166662</td>\n",
       "      <td>...</td>\n",
       "      <td>-0.251460</td>\n",
       "      <td>0.155440</td>\n",
       "      <td>-0.043917</td>\n",
       "      <td>0.123936</td>\n",
       "      <td>0.185161</td>\n",
       "      <td>0.097498</td>\n",
       "      <td>-0.046922</td>\n",
       "      <td>-0.040375</td>\n",
       "      <td>-0.083413</td>\n",
       "      <td>1</td>\n",
       "    </tr>\n",
       "    <tr>\n",
       "      <th>3</th>\n",
       "      <td>['palmas', 'palmas', 'palmas', 'palmas']</td>\n",
       "      <td>0.146434</td>\n",
       "      <td>-0.234622</td>\n",
       "      <td>-0.173836</td>\n",
       "      <td>-0.255587</td>\n",
       "      <td>0.160331</td>\n",
       "      <td>0.161181</td>\n",
       "      <td>-0.023813</td>\n",
       "      <td>-0.191149</td>\n",
       "      <td>0.076497</td>\n",
       "      <td>...</td>\n",
       "      <td>-0.356565</td>\n",
       "      <td>0.168509</td>\n",
       "      <td>0.098124</td>\n",
       "      <td>0.088115</td>\n",
       "      <td>0.154685</td>\n",
       "      <td>0.217300</td>\n",
       "      <td>-0.187343</td>\n",
       "      <td>-0.033554</td>\n",
       "      <td>-0.157490</td>\n",
       "      <td>1</td>\n",
       "    </tr>\n",
       "    <tr>\n",
       "      <th>4</th>\n",
       "      <td>['vamos', 'ajudar', 'brasil', 'principal', 'ca...</td>\n",
       "      <td>0.151519</td>\n",
       "      <td>-0.500928</td>\n",
       "      <td>-0.217571</td>\n",
       "      <td>-0.271197</td>\n",
       "      <td>-0.014306</td>\n",
       "      <td>0.233144</td>\n",
       "      <td>-0.057781</td>\n",
       "      <td>-0.306150</td>\n",
       "      <td>0.215858</td>\n",
       "      <td>...</td>\n",
       "      <td>-0.231650</td>\n",
       "      <td>0.143755</td>\n",
       "      <td>-0.044758</td>\n",
       "      <td>0.106567</td>\n",
       "      <td>0.123410</td>\n",
       "      <td>0.163982</td>\n",
       "      <td>-0.049926</td>\n",
       "      <td>-0.079451</td>\n",
       "      <td>-0.083599</td>\n",
       "      <td>1</td>\n",
       "    </tr>\n",
       "  </tbody>\n",
       "</table>\n",
       "<p>5 rows × 52 columns</p>\n",
       "</div>"
      ],
      "text/plain": [
       "                                               Frase    Vetor1    Vetor2   \n",
       "0                        ['minuto', 'touro', 'ouro']  0.078066 -0.681861  \\\n",
       "1                                            ['sim']  0.219127 -0.408984   \n",
       "2          ['queria', 'saber', 'banking', 'própria']  0.139843 -0.536218   \n",
       "3           ['palmas', 'palmas', 'palmas', 'palmas']  0.146434 -0.234622   \n",
       "4  ['vamos', 'ajudar', 'brasil', 'principal', 'ca...  0.151519 -0.500928   \n",
       "\n",
       "     Vetor3    Vetor4    Vetor5    Vetor6    Vetor7    Vetor8    Vetor9  ...   \n",
       "0 -0.242816 -0.287935 -0.052421  0.331101 -0.139809 -0.379450  0.267952  ...  \\\n",
       "1 -0.176726 -0.270843  0.154609  0.169897 -0.016856 -0.248304  0.197370  ...   \n",
       "2 -0.217435 -0.219593 -0.017553  0.193954 -0.051410 -0.258538  0.166662  ...   \n",
       "3 -0.173836 -0.255587  0.160331  0.161181 -0.023813 -0.191149  0.076497  ...   \n",
       "4 -0.217571 -0.271197 -0.014306  0.233144 -0.057781 -0.306150  0.215858  ...   \n",
       "\n",
       "    Vetor42   Vetor43   Vetor44   Vetor45   Vetor46   Vetor47   Vetor48   \n",
       "0 -0.211810  0.132065 -0.106570  0.100519  0.056235  0.211425  0.015619  \\\n",
       "1 -0.338304  0.263537  0.065959  0.021564  0.175807  0.181400 -0.136190   \n",
       "2 -0.251460  0.155440 -0.043917  0.123936  0.185161  0.097498 -0.046922   \n",
       "3 -0.356565  0.168509  0.098124  0.088115  0.154685  0.217300 -0.187343   \n",
       "4 -0.231650  0.143755 -0.044758  0.106567  0.123410  0.163982 -0.049926   \n",
       "\n",
       "    Vetor49   Vetor50  sentimento  \n",
       "0 -0.055449 -0.076335           1  \n",
       "1 -0.056663 -0.056629           0  \n",
       "2 -0.040375 -0.083413           1  \n",
       "3 -0.033554 -0.157490           1  \n",
       "4 -0.079451 -0.083599           1  \n",
       "\n",
       "[5 rows x 52 columns]"
      ]
     },
     "execution_count": 48,
     "metadata": {},
     "output_type": "execute_result"
    }
   ],
   "source": [
    "df_corpus = pd.read_csv('../output/word2vec_corpus.csv')\n",
    "df_corpus.head(5)"
   ]
  },
  {
   "cell_type": "markdown",
   "id": "14abdf60",
   "metadata": {},
   "source": [
    "### Aplicando o pré processamento do texto"
   ]
  },
  {
   "cell_type": "code",
   "execution_count": 49,
   "id": "aefdc6fb",
   "metadata": {},
   "outputs": [],
   "source": [
    "# Definindo a váriavel alvo\n",
    "target_var = df_corpus['sentimento']"
   ]
  },
  {
   "cell_type": "code",
   "execution_count": 50,
   "id": "9888c061",
   "metadata": {},
   "outputs": [
    {
     "data": {
      "text/plain": [
       "array([2, 1, 2, ..., 0, 0, 0], dtype=int64)"
      ]
     },
     "execution_count": 50,
     "metadata": {},
     "output_type": "execute_result"
    }
   ],
   "source": [
    "# label encoding na coluna alvo\n",
    "label_encoder = LabelEncoder()\n",
    "encoded_labels = label_encoder.fit_transform(target_var)\n",
    "encoded_labels"
   ]
  },
  {
   "cell_type": "code",
   "execution_count": 51,
   "id": "8957c931",
   "metadata": {},
   "outputs": [],
   "source": [
    "# Definindo o input \n",
    "input_var = df_corpus['Frase']"
   ]
  },
  {
   "cell_type": "markdown",
   "id": "7482ec9f",
   "metadata": {},
   "source": [
    "Nessa parte será feito o fit da entrada para que o modelo consiga aceitar esses dados."
   ]
  },
  {
   "cell_type": "code",
   "execution_count": 52,
   "id": "861d4680",
   "metadata": {},
   "outputs": [],
   "source": [
    "max_words = 5000\n",
    "\n",
    "# Tokenizando a coluna de entrada \n",
    "tokenizer = Tokenizer(\n",
    "    num_words = max_words,\n",
    "    filters = '\"#$%&()*+-/:;<=>@[\\]^_`{|}~'\n",
    ")\n",
    "tokenizer.fit_on_texts(input_var)\n",
    "\n",
    "x = tokenizer.texts_to_sequences(input_var)\n",
    "x = pad_sequences(x, maxlen = 300)\n",
    "y = encoded_labels"
   ]
  },
  {
   "cell_type": "code",
   "execution_count": 53,
   "id": "d0a28f94",
   "metadata": {},
   "outputs": [],
   "source": [
    "# Definindo as entradas de teste com 30% do dataset para treino\n",
    "x_train, x_test, y_train, y_test = train_test_split(x, y, train_size = 0.3)"
   ]
  },
  {
   "cell_type": "markdown",
   "id": "6414414d",
   "metadata": {},
   "source": [
    "### Modelo \n",
    "Nesta etapa é feito o modelo de rede neural, assim são definidos os parâmetros e o modelo é criado"
   ]
  },
  {
   "cell_type": "code",
   "execution_count": 58,
   "id": "f33bf243",
   "metadata": {},
   "outputs": [],
   "source": [
    "model_lstm = Sequential()\n",
    "model_lstm.add(Embedding(input_dim = max_words, output_dim = 128, input_length = 300))\n",
    "model_lstm.add(SpatialDropout1D(0.2))\n",
    "model_lstm.add(LSTM(128, dropout = 0.2, recurrent_dropout = 0.2))\n",
    "model_lstm.add(Dense(128, activation = 'relu'))\n",
    "model_lstm.add(Dropout(0.3))\n",
    "model_lstm.add(Dense(5, activation = 'softmax'))\n",
    "model_lstm.compile(\n",
    "    loss='sparse_categorical_crossentropy',\n",
    "    optimizer='Adam',\n",
    "    metrics=['accuracy']\n",
    ")"
   ]
  },
  {
   "cell_type": "code",
   "execution_count": 59,
   "id": "dc9a4a48",
   "metadata": {
    "scrolled": true
   },
   "outputs": [
    {
     "name": "stdout",
     "output_type": "stream",
     "text": [
      "Epoch 1/10\n",
      "4/4 [==============================] - 175s 49s/step - loss: 1.5943 - accuracy: 0.3353 - val_loss: 1.5330 - val_accuracy: 0.4616\n",
      "Epoch 2/10\n",
      "4/4 [==============================] - 228s 59s/step - loss: 1.4694 - accuracy: 0.4512 - val_loss: 1.1929 - val_accuracy: 0.4616\n",
      "Epoch 3/10\n",
      "4/4 [==============================] - 215s 54s/step - loss: 1.1969 - accuracy: 0.4294 - val_loss: 1.0762 - val_accuracy: 0.5054\n",
      "Epoch 4/10\n",
      "4/4 [==============================] - 208s 54s/step - loss: 1.1222 - accuracy: 0.4053 - val_loss: 1.0515 - val_accuracy: 0.4616\n",
      "Epoch 5/10\n",
      "4/4 [==============================] - 322s 91s/step - loss: 1.0854 - accuracy: 0.4376 - val_loss: 1.0293 - val_accuracy: 0.4719\n",
      "Epoch 6/10\n",
      "4/4 [==============================] - 351s 89s/step - loss: 1.0391 - accuracy: 0.4924 - val_loss: 1.0223 - val_accuracy: 0.5044\n",
      "Epoch 7/10\n",
      "4/4 [==============================] - 362s 92s/step - loss: 1.0163 - accuracy: 0.5294 - val_loss: 0.9834 - val_accuracy: 0.5032\n",
      "Epoch 8/10\n",
      "4/4 [==============================] - 385s 96s/step - loss: 0.9549 - accuracy: 0.5706 - val_loss: 0.9504 - val_accuracy: 0.5223\n",
      "Epoch 9/10\n",
      "4/4 [==============================] - 374s 94s/step - loss: 0.8870 - accuracy: 0.6024 - val_loss: 0.9077 - val_accuracy: 0.5561\n",
      "Epoch 10/10\n",
      "4/4 [==============================] - 366s 92s/step - loss: 0.8223 - accuracy: 0.6459 - val_loss: 0.8802 - val_accuracy: 0.5647\n"
     ]
    }
   ],
   "source": [
    "# Treinando o modelo com os dados de treino pré definidos e validando\n",
    "history = model_lstm.fit(\n",
    "    x_train,\n",
    "    y_train,\n",
    "    validation_data=(x_test,y_test) , \n",
    "    epochs = 10,\n",
    "    batch_size = 512\n",
    ")\n"
   ]
  },
  {
   "cell_type": "markdown",
   "id": "9afddc16",
   "metadata": {},
   "source": [
    "### Métricas do modelo\n",
    "Aqui temos acesso as métricas do modelo e como o mesmo se comportou com o treinamento"
   ]
  },
  {
   "cell_type": "code",
   "execution_count": 60,
   "id": "44c0c22a",
   "metadata": {},
   "outputs": [
    {
     "name": "stdout",
     "output_type": "stream",
     "text": [
      "Model: \"sequential_3\"\n",
      "_________________________________________________________________\n",
      " Layer (type)                Output Shape              Param #   \n",
      "=================================================================\n",
      " embedding_3 (Embedding)     (None, 300, 128)          640000    \n",
      "                                                                 \n",
      " spatial_dropout1d_3 (Spatia  (None, 300, 128)         0         \n",
      " lDropout1D)                                                     \n",
      "                                                                 \n",
      " lstm_3 (LSTM)               (None, 128)               131584    \n",
      "                                                                 \n",
      " dense_6 (Dense)             (None, 128)               16512     \n",
      "                                                                 \n",
      " dropout_3 (Dropout)         (None, 128)               0         \n",
      "                                                                 \n",
      " dense_7 (Dense)             (None, 5)                 645       \n",
      "                                                                 \n",
      "=================================================================\n",
      "Total params: 788,741\n",
      "Trainable params: 788,741\n",
      "Non-trainable params: 0\n",
      "_________________________________________________________________\n"
     ]
    }
   ],
   "source": [
    "# Resumo do modelo\n",
    "model_lstm.summary()\n"
   ]
  },
  {
   "cell_type": "code",
   "execution_count": 61,
   "id": "b3518640",
   "metadata": {},
   "outputs": [
    {
     "name": "stdout",
     "output_type": "stream",
     "text": [
      "124/124 [==============================] - 11s 90ms/step - loss: 0.8802 - accuracy: 0.5647\n"
     ]
    },
    {
     "data": {
      "text/plain": [
       "[0.8801738023757935, 0.5646584033966064]"
      ]
     },
     "execution_count": 61,
     "metadata": {},
     "output_type": "execute_result"
    }
   ],
   "source": [
    "# Avaliando o modelo\n",
    "model_lstm.evaluate(x_test, y_test)\n"
   ]
  },
  {
   "cell_type": "code",
   "execution_count": 62,
   "id": "b1c99482",
   "metadata": {},
   "outputs": [
    {
     "name": "stdout",
     "output_type": "stream",
     "text": [
      "124/124 [==============================] - 12s 90ms/step\n"
     ]
    }
   ],
   "source": [
    "# Criando as predições para testar a matriz \n",
    "y_pred = np.argmax(model_lstm.predict(x_test), axis=1)"
   ]
  },
  {
   "cell_type": "code",
   "execution_count": 63,
   "id": "63c6276a",
   "metadata": {
    "scrolled": true
   },
   "outputs": [
    {
     "name": "stdout",
     "output_type": "stream",
     "text": [
      "Acurácia do modelo  0.5646584320645324\n"
     ]
    }
   ],
   "source": [
    "acc = sklearn.metrics.accuracy_score(y_test, y_pred)\n",
    "print(\"Acurácia do modelo \", acc)"
   ]
  },
  {
   "cell_type": "code",
   "execution_count": 64,
   "id": "3961f9f5",
   "metadata": {},
   "outputs": [
    {
     "name": "stdout",
     "output_type": "stream",
     "text": [
      "Recall do modelo  1.0\n"
     ]
    }
   ],
   "source": [
    "recall = sklearn.metrics.recall_score(y_pred, y_pred, average='weighted')\n",
    "print(\"Recall do modelo \", recall)"
   ]
  },
  {
   "cell_type": "code",
   "execution_count": 65,
   "id": "b4a9e8f6",
   "metadata": {
    "scrolled": true
   },
   "outputs": [
    {
     "data": {
      "image/png": "[encoded data removed]",
      "text/plain": [
       "<Figure size 640x480 with 2 Axes>"
      ]
     },
     "metadata": {},
     "output_type": "display_data"
    }
   ],
   "source": [
    "from sklearn.metrics import confusion_matrix\n",
    "confusion_matrix_corpus = metrics.confusion_matrix(y_test, y_pred)\n",
    "cm_corpus = ConfusionMatrixDisplay(confusion_matrix_corpus, display_labels=['Negativo', 'Neutro', 'Positivo'])\n",
    "cm_corpus.plot()\n",
    "cm_corpus.ax_.set(\n",
    "                title='Matriz de confusão Rede Neural', \n",
    "                xlabel='Sentimentos previstos', \n",
    "                ylabel='Sentimentos reais')\n",
    "plt.show()"
   ]
  },
  {
   "cell_type": "code",
   "execution_count": null,
   "id": "a9a5348b",
   "metadata": {},
   "outputs": [],
   "source": []
  }
 ],
 "metadata": {
  "kernelspec": {
   "display_name": "Python 3 (ipykernel)",
   "language": "python",
   "name": "python3"
  },
  "language_info": {
   "codemirror_mode": {
    "name": "ipython",
    "version": 3
   },
   "file_extension": ".py",
   "mimetype": "text/x-python",
   "name": "python",
   "nbconvert_exporter": "python",
   "pygments_lexer": "ipython3",
   "version": "3.11.3"
  }
 },
 "nbformat": 4,
 "nbformat_minor": 5
}
