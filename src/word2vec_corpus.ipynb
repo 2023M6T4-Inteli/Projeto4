{
 "cells": [
  {
   "cell_type": "markdown",
   "id": "a17d0be9",
   "metadata": {},
   "source": [
    "# Análise do corpus, pipeline e Bag of Words"
   ]
  },
  {
   "cell_type": "markdown",
   "id": "2bf9bc40",
   "metadata": {},
   "source": [
    "Neste notebook sera a análise de todo o corpus e também serão feitas as transformações básicas no dataset. \n",
    "O objetivo com este notebook é analisar todos os dados e gerar um csv que já contém todo o texto tokenizado e sem stop words. Além disso, sera gerado o resultado do modelo Bag of Words.\n",
    "Na imagem abaixo, contém um diagrama de como essas etapas funcionam e no decorrer do notebook será entrado em mais detalhes sobre cada etapa específica."
   ]
  },
  {
   "cell_type": "markdown",
   "id": "dd76e0fb",
   "metadata": {},
   "source": [
    "## Análise do corpus"
   ]
  },
  {
   "cell_type": "markdown",
   "id": "75866cab",
   "metadata": {},
   "source": [
    "### Importando bibliotecas"
   ]
  },
  {
   "cell_type": "code",
   "execution_count": 1,
   "id": "f6b5a284",
   "metadata": {},
   "outputs": [
    {
     "name": "stdout",
     "output_type": "stream",
     "text": [
      "Requirement already satisfied: matplotlib in c:\\users\\inteli\\appdata\\local\\packages\\pythonsoftwarefoundation.python.3.10_qbz5n2kfra8p0\\localcache\\local-packages\\python310\\site-packages (3.7.1)\n",
      "Requirement already satisfied: contourpy>=1.0.1 in c:\\users\\inteli\\appdata\\local\\packages\\pythonsoftwarefoundation.python.3.10_qbz5n2kfra8p0\\localcache\\local-packages\\python310\\site-packages (from matplotlib) (1.0.7)\n",
      "Requirement already satisfied: cycler>=0.10 in c:\\users\\inteli\\appdata\\local\\packages\\pythonsoftwarefoundation.python.3.10_qbz5n2kfra8p0\\localcache\\local-packages\\python310\\site-packages (from matplotlib) (0.11.0)\n",
      "Requirement already satisfied: fonttools>=4.22.0 in c:\\users\\inteli\\appdata\\local\\packages\\pythonsoftwarefoundation.python.3.10_qbz5n2kfra8p0\\localcache\\local-packages\\python310\\site-packages (from matplotlib) (4.39.4)\n",
      "Requirement already satisfied: kiwisolver>=1.0.1 in c:\\users\\inteli\\appdata\\local\\packages\\pythonsoftwarefoundation.python.3.10_qbz5n2kfra8p0\\localcache\\local-packages\\python310\\site-packages (from matplotlib) (1.4.4)\n",
      "Requirement already satisfied: numpy>=1.20 in c:\\users\\inteli\\appdata\\local\\packages\\pythonsoftwarefoundation.python.3.10_qbz5n2kfra8p0\\localcache\\local-packages\\python310\\site-packages (from matplotlib) (1.23.3)\n",
      "Requirement already satisfied: packaging>=20.0 in c:\\users\\inteli\\appdata\\local\\packages\\pythonsoftwarefoundation.python.3.10_qbz5n2kfra8p0\\localcache\\local-packages\\python310\\site-packages (from matplotlib) (23.1)\n",
      "Requirement already satisfied: pillow>=6.2.0 in c:\\users\\inteli\\appdata\\local\\packages\\pythonsoftwarefoundation.python.3.10_qbz5n2kfra8p0\\localcache\\local-packages\\python310\\site-packages (from matplotlib) (9.5.0)\n",
      "Requirement already satisfied: pyparsing>=2.3.1 in c:\\users\\inteli\\appdata\\local\\packages\\pythonsoftwarefoundation.python.3.10_qbz5n2kfra8p0\\localcache\\local-packages\\python310\\site-packages (from matplotlib) (3.0.9)\n",
      "Requirement already satisfied: python-dateutil>=2.7 in c:\\users\\inteli\\appdata\\local\\packages\\pythonsoftwarefoundation.python.3.10_qbz5n2kfra8p0\\localcache\\local-packages\\python310\\site-packages (from matplotlib) (2.8.2)\n",
      "Requirement already satisfied: six>=1.5 in c:\\users\\inteli\\appdata\\local\\packages\\pythonsoftwarefoundation.python.3.10_qbz5n2kfra8p0\\localcache\\local-packages\\python310\\site-packages (from python-dateutil>=2.7->matplotlib) (1.16.0)\n",
      "Note: you may need to restart the kernel to use updated packages.\n"
     ]
    }
   ],
   "source": [
    "pip install matplotlib"
   ]
  },
  {
   "cell_type": "code",
   "execution_count": 2,
   "id": "7eceef82",
   "metadata": {},
   "outputs": [
    {
     "name": "stdout",
     "output_type": "stream",
     "text": [
      "Requirement already satisfied: gensim in c:\\users\\inteli\\appdata\\local\\packages\\pythonsoftwarefoundation.python.3.10_qbz5n2kfra8p0\\localcache\\local-packages\\python310\\site-packages (4.3.1)\n",
      "Requirement already satisfied: numpy>=1.18.5 in c:\\users\\inteli\\appdata\\local\\packages\\pythonsoftwarefoundation.python.3.10_qbz5n2kfra8p0\\localcache\\local-packages\\python310\\site-packages (from gensim) (1.23.3)\n",
      "Requirement already satisfied: scipy>=1.7.0 in c:\\users\\inteli\\appdata\\local\\packages\\pythonsoftwarefoundation.python.3.10_qbz5n2kfra8p0\\localcache\\local-packages\\python310\\site-packages (from gensim) (1.9.1)\n",
      "Requirement already satisfied: smart-open>=1.8.1 in c:\\users\\inteli\\appdata\\local\\packages\\pythonsoftwarefoundation.python.3.10_qbz5n2kfra8p0\\localcache\\local-packages\\python310\\site-packages (from gensim) (6.3.0)\n",
      "Note: you may need to restart the kernel to use updated packages.\n"
     ]
    }
   ],
   "source": [
    "   pip install gensim"
   ]
  },
  {
   "cell_type": "code",
   "execution_count": 3,
   "id": "918fe8d7",
   "metadata": {
    "scrolled": true
   },
   "outputs": [
    {
     "name": "stderr",
     "output_type": "stream",
     "text": [
      "[nltk_data] Downloading package punkt to\n",
      "[nltk_data]     C:\\Users\\Inteli\\AppData\\Roaming\\nltk_data...\n",
      "[nltk_data]   Package punkt is already up-to-date!\n",
      "[nltk_data] Downloading package stopwords to\n",
      "[nltk_data]     C:\\Users\\Inteli\\AppData\\Roaming\\nltk_data...\n",
      "[nltk_data]   Package stopwords is already up-to-date!\n",
      "[nltk_data] Downloading package wordnet to\n",
      "[nltk_data]     C:\\Users\\Inteli\\AppData\\Roaming\\nltk_data...\n",
      "[nltk_data]   Package wordnet is already up-to-date!\n"
     ]
    }
   ],
   "source": [
    "import pandas as pd\n",
    "import nltk\n",
    "import string  \n",
    "import matplotlib.pyplot as plt\n",
    "from nltk.tokenize import word_tokenize\n",
    "from nltk.corpus import stopwords\n",
    "from nltk.stem import WordNetLemmatizer\n",
    "nltk.download('punkt')\n",
    "nltk.download('stopwords')\n",
    "nltk.download('wordnet')\n",
    "stop_words = set(stopwords.words('portuguese'))"
   ]
  },
  {
   "cell_type": "code",
   "execution_count": 4,
   "id": "adf0d0fe",
   "metadata": {},
   "outputs": [
    {
     "ename": "FileNotFoundError",
     "evalue": "[Errno 2] No such file or directory: '../output/ResultadoProcessamento.csv'",
     "output_type": "error",
     "traceback": [
      "\u001b[1;31m---------------------------------------------------------------------------\u001b[0m",
      "\u001b[1;31mFileNotFoundError\u001b[0m                         Traceback (most recent call last)",
      "Cell \u001b[1;32mIn[4], line 4\u001b[0m\n\u001b[0;32m      2\u001b[0m df \u001b[38;5;241m=\u001b[39m pd\u001b[38;5;241m.\u001b[39mread_excel(\u001b[38;5;124m'\u001b[39m\u001b[38;5;124m../base/base.xlsx\u001b[39m\u001b[38;5;124m'\u001b[39m, index_col\u001b[38;5;241m=\u001b[39m\u001b[38;5;241m0\u001b[39m)\n\u001b[0;32m      3\u001b[0m df_initialprocessing \u001b[38;5;241m=\u001b[39m pd\u001b[38;5;241m.\u001b[39mread_csv(\u001b[38;5;124m'\u001b[39m\u001b[38;5;124m../output/TratamentoInicial.csv\u001b[39m\u001b[38;5;124m'\u001b[39m)\n\u001b[1;32m----> 4\u001b[0m df_tokenizationStopWords \u001b[38;5;241m=\u001b[39m \u001b[43mpd\u001b[49m\u001b[38;5;241;43m.\u001b[39;49m\u001b[43mread_csv\u001b[49m\u001b[43m(\u001b[49m\u001b[38;5;124;43m'\u001b[39;49m\u001b[38;5;124;43m../output/ResultadoProcessamento.csv\u001b[39;49m\u001b[38;5;124;43m'\u001b[39;49m\u001b[43m)\u001b[49m\n\u001b[0;32m      5\u001b[0m df_bagOfWords \u001b[38;5;241m=\u001b[39m pd\u001b[38;5;241m.\u001b[39mread_csv(\u001b[38;5;124m'\u001b[39m\u001b[38;5;124m../output/ResultadoBow.csv\u001b[39m\u001b[38;5;124m'\u001b[39m)\n\u001b[0;32m      6\u001b[0m df_processada \u001b[38;5;241m=\u001b[39m pd\u001b[38;5;241m.\u001b[39mread_csv(\u001b[38;5;124m'\u001b[39m\u001b[38;5;124m../output/cleaning_output.csv\u001b[39m\u001b[38;5;124m'\u001b[39m)\n",
      "File \u001b[1;32m~\\AppData\\Local\\Packages\\PythonSoftwareFoundation.Python.3.10_qbz5n2kfra8p0\\LocalCache\\local-packages\\Python310\\site-packages\\pandas\\util\\_decorators.py:211\u001b[0m, in \u001b[0;36mdeprecate_kwarg.<locals>._deprecate_kwarg.<locals>.wrapper\u001b[1;34m(*args, **kwargs)\u001b[0m\n\u001b[0;32m    209\u001b[0m     \u001b[38;5;28;01melse\u001b[39;00m:\n\u001b[0;32m    210\u001b[0m         kwargs[new_arg_name] \u001b[38;5;241m=\u001b[39m new_arg_value\n\u001b[1;32m--> 211\u001b[0m \u001b[38;5;28;01mreturn\u001b[39;00m func(\u001b[38;5;241m*\u001b[39margs, \u001b[38;5;241m*\u001b[39m\u001b[38;5;241m*\u001b[39mkwargs)\n",
      "File \u001b[1;32m~\\AppData\\Local\\Packages\\PythonSoftwareFoundation.Python.3.10_qbz5n2kfra8p0\\LocalCache\\local-packages\\Python310\\site-packages\\pandas\\util\\_decorators.py:317\u001b[0m, in \u001b[0;36mdeprecate_nonkeyword_arguments.<locals>.decorate.<locals>.wrapper\u001b[1;34m(*args, **kwargs)\u001b[0m\n\u001b[0;32m    311\u001b[0m \u001b[38;5;28;01mif\u001b[39;00m \u001b[38;5;28mlen\u001b[39m(args) \u001b[38;5;241m>\u001b[39m num_allow_args:\n\u001b[0;32m    312\u001b[0m     warnings\u001b[38;5;241m.\u001b[39mwarn(\n\u001b[0;32m    313\u001b[0m         msg\u001b[38;5;241m.\u001b[39mformat(arguments\u001b[38;5;241m=\u001b[39marguments),\n\u001b[0;32m    314\u001b[0m         \u001b[38;5;167;01mFutureWarning\u001b[39;00m,\n\u001b[0;32m    315\u001b[0m         stacklevel\u001b[38;5;241m=\u001b[39mfind_stack_level(inspect\u001b[38;5;241m.\u001b[39mcurrentframe()),\n\u001b[0;32m    316\u001b[0m     )\n\u001b[1;32m--> 317\u001b[0m \u001b[38;5;28;01mreturn\u001b[39;00m func(\u001b[38;5;241m*\u001b[39margs, \u001b[38;5;241m*\u001b[39m\u001b[38;5;241m*\u001b[39mkwargs)\n",
      "File \u001b[1;32m~\\AppData\\Local\\Packages\\PythonSoftwareFoundation.Python.3.10_qbz5n2kfra8p0\\LocalCache\\local-packages\\Python310\\site-packages\\pandas\\io\\parsers\\readers.py:950\u001b[0m, in \u001b[0;36mread_csv\u001b[1;34m(filepath_or_buffer, sep, delimiter, header, names, index_col, usecols, squeeze, prefix, mangle_dupe_cols, dtype, engine, converters, true_values, false_values, skipinitialspace, skiprows, skipfooter, nrows, na_values, keep_default_na, na_filter, verbose, skip_blank_lines, parse_dates, infer_datetime_format, keep_date_col, date_parser, dayfirst, cache_dates, iterator, chunksize, compression, thousands, decimal, lineterminator, quotechar, quoting, doublequote, escapechar, comment, encoding, encoding_errors, dialect, error_bad_lines, warn_bad_lines, on_bad_lines, delim_whitespace, low_memory, memory_map, float_precision, storage_options)\u001b[0m\n\u001b[0;32m    935\u001b[0m kwds_defaults \u001b[38;5;241m=\u001b[39m _refine_defaults_read(\n\u001b[0;32m    936\u001b[0m     dialect,\n\u001b[0;32m    937\u001b[0m     delimiter,\n\u001b[1;32m   (...)\u001b[0m\n\u001b[0;32m    946\u001b[0m     defaults\u001b[38;5;241m=\u001b[39m{\u001b[38;5;124m\"\u001b[39m\u001b[38;5;124mdelimiter\u001b[39m\u001b[38;5;124m\"\u001b[39m: \u001b[38;5;124m\"\u001b[39m\u001b[38;5;124m,\u001b[39m\u001b[38;5;124m\"\u001b[39m},\n\u001b[0;32m    947\u001b[0m )\n\u001b[0;32m    948\u001b[0m kwds\u001b[38;5;241m.\u001b[39mupdate(kwds_defaults)\n\u001b[1;32m--> 950\u001b[0m \u001b[38;5;28;01mreturn\u001b[39;00m \u001b[43m_read\u001b[49m\u001b[43m(\u001b[49m\u001b[43mfilepath_or_buffer\u001b[49m\u001b[43m,\u001b[49m\u001b[43m \u001b[49m\u001b[43mkwds\u001b[49m\u001b[43m)\u001b[49m\n",
      "File \u001b[1;32m~\\AppData\\Local\\Packages\\PythonSoftwareFoundation.Python.3.10_qbz5n2kfra8p0\\LocalCache\\local-packages\\Python310\\site-packages\\pandas\\io\\parsers\\readers.py:605\u001b[0m, in \u001b[0;36m_read\u001b[1;34m(filepath_or_buffer, kwds)\u001b[0m\n\u001b[0;32m    602\u001b[0m _validate_names(kwds\u001b[38;5;241m.\u001b[39mget(\u001b[38;5;124m\"\u001b[39m\u001b[38;5;124mnames\u001b[39m\u001b[38;5;124m\"\u001b[39m, \u001b[38;5;28;01mNone\u001b[39;00m))\n\u001b[0;32m    604\u001b[0m \u001b[38;5;66;03m# Create the parser.\u001b[39;00m\n\u001b[1;32m--> 605\u001b[0m parser \u001b[38;5;241m=\u001b[39m TextFileReader(filepath_or_buffer, \u001b[38;5;241m*\u001b[39m\u001b[38;5;241m*\u001b[39mkwds)\n\u001b[0;32m    607\u001b[0m \u001b[38;5;28;01mif\u001b[39;00m chunksize \u001b[38;5;129;01mor\u001b[39;00m iterator:\n\u001b[0;32m    608\u001b[0m     \u001b[38;5;28;01mreturn\u001b[39;00m parser\n",
      "File \u001b[1;32m~\\AppData\\Local\\Packages\\PythonSoftwareFoundation.Python.3.10_qbz5n2kfra8p0\\LocalCache\\local-packages\\Python310\\site-packages\\pandas\\io\\parsers\\readers.py:1442\u001b[0m, in \u001b[0;36mTextFileReader.__init__\u001b[1;34m(self, f, engine, **kwds)\u001b[0m\n\u001b[0;32m   1439\u001b[0m     \u001b[38;5;28mself\u001b[39m\u001b[38;5;241m.\u001b[39moptions[\u001b[38;5;124m\"\u001b[39m\u001b[38;5;124mhas_index_names\u001b[39m\u001b[38;5;124m\"\u001b[39m] \u001b[38;5;241m=\u001b[39m kwds[\u001b[38;5;124m\"\u001b[39m\u001b[38;5;124mhas_index_names\u001b[39m\u001b[38;5;124m\"\u001b[39m]\n\u001b[0;32m   1441\u001b[0m \u001b[38;5;28mself\u001b[39m\u001b[38;5;241m.\u001b[39mhandles: IOHandles \u001b[38;5;241m|\u001b[39m \u001b[38;5;28;01mNone\u001b[39;00m \u001b[38;5;241m=\u001b[39m \u001b[38;5;28;01mNone\u001b[39;00m\n\u001b[1;32m-> 1442\u001b[0m \u001b[38;5;28mself\u001b[39m\u001b[38;5;241m.\u001b[39m_engine \u001b[38;5;241m=\u001b[39m \u001b[38;5;28;43mself\u001b[39;49m\u001b[38;5;241;43m.\u001b[39;49m\u001b[43m_make_engine\u001b[49m\u001b[43m(\u001b[49m\u001b[43mf\u001b[49m\u001b[43m,\u001b[49m\u001b[43m \u001b[49m\u001b[38;5;28;43mself\u001b[39;49m\u001b[38;5;241;43m.\u001b[39;49m\u001b[43mengine\u001b[49m\u001b[43m)\u001b[49m\n",
      "File \u001b[1;32m~\\AppData\\Local\\Packages\\PythonSoftwareFoundation.Python.3.10_qbz5n2kfra8p0\\LocalCache\\local-packages\\Python310\\site-packages\\pandas\\io\\parsers\\readers.py:1729\u001b[0m, in \u001b[0;36mTextFileReader._make_engine\u001b[1;34m(self, f, engine)\u001b[0m\n\u001b[0;32m   1727\u001b[0m     is_text \u001b[38;5;241m=\u001b[39m \u001b[38;5;28;01mFalse\u001b[39;00m\n\u001b[0;32m   1728\u001b[0m     mode \u001b[38;5;241m=\u001b[39m \u001b[38;5;124m\"\u001b[39m\u001b[38;5;124mrb\u001b[39m\u001b[38;5;124m\"\u001b[39m\n\u001b[1;32m-> 1729\u001b[0m \u001b[38;5;28mself\u001b[39m\u001b[38;5;241m.\u001b[39mhandles \u001b[38;5;241m=\u001b[39m \u001b[43mget_handle\u001b[49m\u001b[43m(\u001b[49m\n\u001b[0;32m   1730\u001b[0m \u001b[43m    \u001b[49m\u001b[43mf\u001b[49m\u001b[43m,\u001b[49m\n\u001b[0;32m   1731\u001b[0m \u001b[43m    \u001b[49m\u001b[43mmode\u001b[49m\u001b[43m,\u001b[49m\n\u001b[0;32m   1732\u001b[0m \u001b[43m    \u001b[49m\u001b[43mencoding\u001b[49m\u001b[38;5;241;43m=\u001b[39;49m\u001b[38;5;28;43mself\u001b[39;49m\u001b[38;5;241;43m.\u001b[39;49m\u001b[43moptions\u001b[49m\u001b[38;5;241;43m.\u001b[39;49m\u001b[43mget\u001b[49m\u001b[43m(\u001b[49m\u001b[38;5;124;43m\"\u001b[39;49m\u001b[38;5;124;43mencoding\u001b[39;49m\u001b[38;5;124;43m\"\u001b[39;49m\u001b[43m,\u001b[49m\u001b[43m \u001b[49m\u001b[38;5;28;43;01mNone\u001b[39;49;00m\u001b[43m)\u001b[49m\u001b[43m,\u001b[49m\n\u001b[0;32m   1733\u001b[0m \u001b[43m    \u001b[49m\u001b[43mcompression\u001b[49m\u001b[38;5;241;43m=\u001b[39;49m\u001b[38;5;28;43mself\u001b[39;49m\u001b[38;5;241;43m.\u001b[39;49m\u001b[43moptions\u001b[49m\u001b[38;5;241;43m.\u001b[39;49m\u001b[43mget\u001b[49m\u001b[43m(\u001b[49m\u001b[38;5;124;43m\"\u001b[39;49m\u001b[38;5;124;43mcompression\u001b[39;49m\u001b[38;5;124;43m\"\u001b[39;49m\u001b[43m,\u001b[49m\u001b[43m \u001b[49m\u001b[38;5;28;43;01mNone\u001b[39;49;00m\u001b[43m)\u001b[49m\u001b[43m,\u001b[49m\n\u001b[0;32m   1734\u001b[0m \u001b[43m    \u001b[49m\u001b[43mmemory_map\u001b[49m\u001b[38;5;241;43m=\u001b[39;49m\u001b[38;5;28;43mself\u001b[39;49m\u001b[38;5;241;43m.\u001b[39;49m\u001b[43moptions\u001b[49m\u001b[38;5;241;43m.\u001b[39;49m\u001b[43mget\u001b[49m\u001b[43m(\u001b[49m\u001b[38;5;124;43m\"\u001b[39;49m\u001b[38;5;124;43mmemory_map\u001b[39;49m\u001b[38;5;124;43m\"\u001b[39;49m\u001b[43m,\u001b[49m\u001b[43m \u001b[49m\u001b[38;5;28;43;01mFalse\u001b[39;49;00m\u001b[43m)\u001b[49m\u001b[43m,\u001b[49m\n\u001b[0;32m   1735\u001b[0m \u001b[43m    \u001b[49m\u001b[43mis_text\u001b[49m\u001b[38;5;241;43m=\u001b[39;49m\u001b[43mis_text\u001b[49m\u001b[43m,\u001b[49m\n\u001b[0;32m   1736\u001b[0m \u001b[43m    \u001b[49m\u001b[43merrors\u001b[49m\u001b[38;5;241;43m=\u001b[39;49m\u001b[38;5;28;43mself\u001b[39;49m\u001b[38;5;241;43m.\u001b[39;49m\u001b[43moptions\u001b[49m\u001b[38;5;241;43m.\u001b[39;49m\u001b[43mget\u001b[49m\u001b[43m(\u001b[49m\u001b[38;5;124;43m\"\u001b[39;49m\u001b[38;5;124;43mencoding_errors\u001b[39;49m\u001b[38;5;124;43m\"\u001b[39;49m\u001b[43m,\u001b[49m\u001b[43m \u001b[49m\u001b[38;5;124;43m\"\u001b[39;49m\u001b[38;5;124;43mstrict\u001b[39;49m\u001b[38;5;124;43m\"\u001b[39;49m\u001b[43m)\u001b[49m\u001b[43m,\u001b[49m\n\u001b[0;32m   1737\u001b[0m \u001b[43m    \u001b[49m\u001b[43mstorage_options\u001b[49m\u001b[38;5;241;43m=\u001b[39;49m\u001b[38;5;28;43mself\u001b[39;49m\u001b[38;5;241;43m.\u001b[39;49m\u001b[43moptions\u001b[49m\u001b[38;5;241;43m.\u001b[39;49m\u001b[43mget\u001b[49m\u001b[43m(\u001b[49m\u001b[38;5;124;43m\"\u001b[39;49m\u001b[38;5;124;43mstorage_options\u001b[39;49m\u001b[38;5;124;43m\"\u001b[39;49m\u001b[43m,\u001b[49m\u001b[43m \u001b[49m\u001b[38;5;28;43;01mNone\u001b[39;49;00m\u001b[43m)\u001b[49m\u001b[43m,\u001b[49m\n\u001b[0;32m   1738\u001b[0m \u001b[43m\u001b[49m\u001b[43m)\u001b[49m\n\u001b[0;32m   1739\u001b[0m \u001b[38;5;28;01massert\u001b[39;00m \u001b[38;5;28mself\u001b[39m\u001b[38;5;241m.\u001b[39mhandles \u001b[38;5;129;01mis\u001b[39;00m \u001b[38;5;129;01mnot\u001b[39;00m \u001b[38;5;28;01mNone\u001b[39;00m\n\u001b[0;32m   1740\u001b[0m f \u001b[38;5;241m=\u001b[39m \u001b[38;5;28mself\u001b[39m\u001b[38;5;241m.\u001b[39mhandles\u001b[38;5;241m.\u001b[39mhandle\n",
      "File \u001b[1;32m~\\AppData\\Local\\Packages\\PythonSoftwareFoundation.Python.3.10_qbz5n2kfra8p0\\LocalCache\\local-packages\\Python310\\site-packages\\pandas\\io\\common.py:857\u001b[0m, in \u001b[0;36mget_handle\u001b[1;34m(path_or_buf, mode, encoding, compression, memory_map, is_text, errors, storage_options)\u001b[0m\n\u001b[0;32m    852\u001b[0m \u001b[38;5;28;01melif\u001b[39;00m \u001b[38;5;28misinstance\u001b[39m(handle, \u001b[38;5;28mstr\u001b[39m):\n\u001b[0;32m    853\u001b[0m     \u001b[38;5;66;03m# Check whether the filename is to be opened in binary mode.\u001b[39;00m\n\u001b[0;32m    854\u001b[0m     \u001b[38;5;66;03m# Binary mode does not support 'encoding' and 'newline'.\u001b[39;00m\n\u001b[0;32m    855\u001b[0m     \u001b[38;5;28;01mif\u001b[39;00m ioargs\u001b[38;5;241m.\u001b[39mencoding \u001b[38;5;129;01mand\u001b[39;00m \u001b[38;5;124m\"\u001b[39m\u001b[38;5;124mb\u001b[39m\u001b[38;5;124m\"\u001b[39m \u001b[38;5;129;01mnot\u001b[39;00m \u001b[38;5;129;01min\u001b[39;00m ioargs\u001b[38;5;241m.\u001b[39mmode:\n\u001b[0;32m    856\u001b[0m         \u001b[38;5;66;03m# Encoding\u001b[39;00m\n\u001b[1;32m--> 857\u001b[0m         handle \u001b[38;5;241m=\u001b[39m \u001b[38;5;28;43mopen\u001b[39;49m\u001b[43m(\u001b[49m\n\u001b[0;32m    858\u001b[0m \u001b[43m            \u001b[49m\u001b[43mhandle\u001b[49m\u001b[43m,\u001b[49m\n\u001b[0;32m    859\u001b[0m \u001b[43m            \u001b[49m\u001b[43mioargs\u001b[49m\u001b[38;5;241;43m.\u001b[39;49m\u001b[43mmode\u001b[49m\u001b[43m,\u001b[49m\n\u001b[0;32m    860\u001b[0m \u001b[43m            \u001b[49m\u001b[43mencoding\u001b[49m\u001b[38;5;241;43m=\u001b[39;49m\u001b[43mioargs\u001b[49m\u001b[38;5;241;43m.\u001b[39;49m\u001b[43mencoding\u001b[49m\u001b[43m,\u001b[49m\n\u001b[0;32m    861\u001b[0m \u001b[43m            \u001b[49m\u001b[43merrors\u001b[49m\u001b[38;5;241;43m=\u001b[39;49m\u001b[43merrors\u001b[49m\u001b[43m,\u001b[49m\n\u001b[0;32m    862\u001b[0m \u001b[43m            \u001b[49m\u001b[43mnewline\u001b[49m\u001b[38;5;241;43m=\u001b[39;49m\u001b[38;5;124;43m\"\u001b[39;49m\u001b[38;5;124;43m\"\u001b[39;49m\u001b[43m,\u001b[49m\n\u001b[0;32m    863\u001b[0m \u001b[43m        \u001b[49m\u001b[43m)\u001b[49m\n\u001b[0;32m    864\u001b[0m     \u001b[38;5;28;01melse\u001b[39;00m:\n\u001b[0;32m    865\u001b[0m         \u001b[38;5;66;03m# Binary mode\u001b[39;00m\n\u001b[0;32m    866\u001b[0m         handle \u001b[38;5;241m=\u001b[39m \u001b[38;5;28mopen\u001b[39m(handle, ioargs\u001b[38;5;241m.\u001b[39mmode)\n",
      "\u001b[1;31mFileNotFoundError\u001b[0m: [Errno 2] No such file or directory: '../output/ResultadoProcessamento.csv'"
     ]
    }
   ],
   "source": [
    "# Abrindo a base de dados \n",
    "df = pd.read_excel('../base/base.xlsx', index_col=0)\n",
    "df_initialprocessing = pd.read_csv('../output/TratamentoInicial.csv')\n",
    "df_tokenizationStopWords = pd.read_csv('../output/ResultadoProcessamento.csv')\n",
    "df_bagOfWords = pd.read_csv('../output/ResultadoBow.csv')\n",
    "df_processada = pd.read_csv('../output/cleaning_output.csv')"
   ]
  },
  {
   "attachments": {
    "pipeline.png": {
     "image/png": "[encoded data removed]"
    }
   },
   "cell_type": "markdown",
   "id": "78087c49",
   "metadata": {},
   "source": [
    "![pipeline.png](attachment:pipeline.png)"
   ]
  },
  {
   "cell_type": "markdown",
   "id": "fe44a12d",
   "metadata": {},
   "source": [
    "Análise da porcentagem dos comentários do BTG Pactual em relação aos outros comentários dos usuários no Instagram."
   ]
  },
  {
   "cell_type": "code",
   "execution_count": null,
   "id": "9ecc078e",
   "metadata": {},
   "outputs": [],
   "source": [
    "# Contagem de comentários feitos pelo BTG Pactual\n",
    "num_comments_btg = len(df[df['\"autor\"'] == 'btgpactual'])\n",
    "\n",
    "# Contagem de comentários feitos por outros usuários\n",
    "num_comments_others = len(df[df['\"autor\"'] != 'btgpactual'])\n",
    "\n",
    "# Cálculo das porcentagens\n",
    "total_comments = num_comments_btg + num_comments_others\n",
    "btg_percentage = (num_comments_btg / total_comments) * 100\n",
    "others_percentage = (num_comments_others / total_comments) * 100\n",
    "\n",
    "\n",
    "# Definindo as cores\n",
    "colors = ['#195AB4', '#CFCFCF']\n",
    "\n",
    "# Criação do gráfico de pizza\n",
    "labels = ['BTG Pactual', 'Outros']\n",
    "sizes = [btg_percentage, others_percentage]\n",
    "fig1, ax1 = plt.subplots()\n",
    "ax1.pie(sizes, labels=labels, autopct='%1.1f%%',\n",
    "        shadow=True, startangle=100, colors=colors)\n",
    "ax1.axis('equal')\n",
    "ax1.set_title('Porcentagem da distribuição de comentários do BTG Pactual (@btgpactual) \\n vs outros usuários do Instagram')\n",
    "ax1.legend(title='Categorias', loc='center right', bbox_to_anchor=(1.3, 0.1))\n",
    "plt.show()"
   ]
  },
  {
   "cell_type": "markdown",
   "id": "abf4767e",
   "metadata": {},
   "source": [
    "Análise da quantidade de palavras após cada etapa do pré-processamento:\n",
    "\n"
   ]
  },
  {
   "cell_type": "code",
   "execution_count": null,
   "id": "286b00b0",
   "metadata": {},
   "outputs": [],
   "source": [
    "\n"
   ]
  },
  {
   "cell_type": "code",
   "execution_count": null,
   "id": "a3b6336b",
   "metadata": {},
   "outputs": [],
   "source": [
    "# Base original fornecida pelo BTG Pactual (df)\n",
    "df['Num Words'] = df['\"texto\"'].apply(lambda x: len(nltk.word_tokenize(x)))\n",
    "print(\"Quantidade de palavras na coluna 'texto' da base original: \", df['\"texto\"'].str.split().str.len().sum())\n",
    "\n",
    "# Base após remoção dos comentários do BTG Pactual (df_tratamentoInicial)\n",
    "df_initialprocessing['Num Words'] = df_initialprocessing['texto'].apply(lambda x: len(nltk.word_tokenize(x)))\n",
    "print(\"Quantidade de palavras na coluna 'texto' - dfClean: \", df_initialprocessing['texto'].str.split().str.len().sum())\n",
    "\n",
    "# Base após tokenização e remoção de stopwords (df_tokenizaçãoStopWords)\n",
    "df_tokenizationStopWords['Num Words'] = df_tokenizationStopWords['Frases_sem_stop_words'].apply(lambda x: len(nltk.word_tokenize(x)))\n",
    "print(\"Quantidade de palavras na coluna 'texto' - df_semstopwords: \", df_tokenizationStopWords['Frases_sem_stop_words'].str.split().str.len().sum())\n",
    "\n",
    "# Base após bag of words (df_bagOfWords)\n",
    "df_bagOfWords['Num Words'] = df_bagOfWords['Palavra'].apply(lambda x: len(nltk.word_tokenize(x)))\n",
    "print(\"Quantidade de palavras na coluna 'Palavra' - df_final: \", df_bagOfWords['Palavra'].str.split().str.len().sum())\n"
   ]
  },
  {
   "cell_type": "markdown",
   "id": "2125bfae",
   "metadata": {},
   "source": [
    "### Gráfico dos resultados das palavras após cada etapa do pré-processamento.\n"
   ]
  },
  {
   "cell_type": "code",
   "execution_count": null,
   "id": "89206239",
   "metadata": {},
   "outputs": [],
   "source": [
    "\n",
    "df_initialprocessing\n",
    "df_tokenizationStopWords\n",
    "df_bagOfWords"
   ]
  },
  {
   "cell_type": "code",
   "execution_count": null,
   "id": "60061d85",
   "metadata": {},
   "outputs": [],
   "source": [
    "# Definindo a quantidade de palavras em cada base\n",
    "word_count = [df['\"texto\"'].str.split().apply(len).sum(),\n",
    "              df_initialprocessing['texto'].str.split().apply(len).sum(),\n",
    "              df_tokenizationStopWords['Frases_sem_stop_words'].str.split().apply(len).sum(),\n",
    "              df_bagOfWords['Palavra'].str.split().apply(len).sum()]\n",
    "\n",
    "# Definindo os rótulos para cada pré-processamento\n",
    "labels = ['Base Original', 'Limpeza Inicial', 'Tokenização e Remoção Stop Words', 'Bag of Words']\n",
    "\n",
    "# Criando um gráfico de barras\n",
    "fig, ax = plt.subplots(figsize=(12, 8))\n",
    "ax.bar(labels, word_count)\n",
    "\n",
    "# Adicionando rótulos aos eixos e título ao gráfico\n",
    "ax.set_xlabel('ETAPAS DO PRÉ-PROCESSAMENTO')\n",
    "ax.set_ylabel('QUANTIDADE DE PALAVRAS')\n",
    "ax.set_title('Quantidade de palavras na coluna referente aos comentários \\n dos clientes após cada etapa de pré-processamento')\n",
    "\n",
    "# Adicionando os números de palavras acima de cada barra\n",
    "for i, v in enumerate(word_count):\n",
    "    ax.text(i, v + 10000, str(v), ha='center')\n",
    "\n",
    "colors = ['#001E62', '#0A1E8C', '#195AB4', '#418FDE']\n",
    "ax.bar(labels, word_count, color=colors)\n",
    "\n",
    "# Mostrando o gráfico\n",
    "plt.show()\n"
   ]
  },
  {
   "cell_type": "markdown",
   "id": "d2f8e552",
   "metadata": {},
   "source": [
    "### Análise do número de linhas e colunas da primeira e da última base.\n",
    "\n"
   ]
  },
  {
   "cell_type": "code",
   "execution_count": null,
   "id": "881fc302",
   "metadata": {
    "scrolled": false
   },
   "outputs": [],
   "source": [
    "# quantidade de linhas e colunas em df\n",
    "num_rows_df = df.shape[0]\n",
    "num_columns_df = df.shape[1]\n",
    "\n",
    "# quantidade de linhas e colunas em df_bagOfWords\n",
    "num_rows_df_final = df_bagOfWords.shape[0]\n",
    "num_columns_df_final = df_bagOfWords.shape[1]\n",
    "\n",
    "# Gráfico de barras para as linhas\n",
    "fig, ax = plt.subplots()\n",
    "fig.set_size_inches(6, 4) # define o tamanho da figura\n",
    "rects1 = ax.bar(['Base Inicial', 'Base Final'], [num_rows_df, num_rows_df_final], color=['#001E62', '#bcbab8'])\n",
    "ax.set_title('Comparação do número de linhas')\n",
    "ax.set_ylabel('Número de linhas')\n",
    "\n",
    "# Adiciona o número respectivo em cima de cada barra\n",
    "def autolabel(rects):\n",
    "    for rect in rects:\n",
    "        height = rect.get_height()\n",
    "        ax.annotate('{}'.format(height),\n",
    "                    xy=(rect.get_x() + rect.get_width() / 2, height),\n",
    "                    xytext=(0, 0.1),  # desloca o texto 0.1 pontos acima\n",
    "                    textcoords=\"offset points\",\n",
    "                    ha='center', va='bottom')\n",
    "\n",
    "autolabel(rects1)\n",
    "plt.show()\n",
    "\n",
    "# Gráfico de barras para as colunas\n",
    "fig, ax = plt.subplots()\n",
    "fig.set_size_inches(6, 4) # define o tamanho da figura\n",
    "rects2 = ax.bar(['Base Inicial', 'Base Final'], [num_columns_df, num_columns_df_final], color=['#001E62', '#bcbab8'])\n",
    "ax.set_title('Comparação do número de colunas')\n",
    "ax.set_ylabel('Número de colunas')\n",
    "\n",
    "# Adiciona o número respectivo em cima de cada barra\n",
    "autolabel(rects2)\n",
    "plt.show()\n"
   ]
  },
  {
   "cell_type": "code",
   "execution_count": null,
   "id": "fddfa9a4",
   "metadata": {
    "scrolled": true
   },
   "outputs": [],
   "source": [
    "# quantidade de linhas e colunas em df\n",
    "num_rows_df = df.shape[0]\n",
    "num_columns_df = df.shape[1]\n",
    "\n",
    "# quantidade de linhas e colunas em df_bagOfWords\n",
    "num_rows_df_final = df_bagOfWords.shape[0]\n",
    "num_columns_df_final = df_bagOfWords.shape[1]\n",
    "\n",
    "# Gráfico de barras para as linhas\n",
    "fig, ax = plt.subplots()\n",
    "rects1 = ax.bar(['Base Inicial', 'Base Final'], [num_rows_df, num_rows_df_final], color=['#001E62', '#bcbab8'])\n",
    "ax.set_title('Comparação do número de linhas')\n",
    "ax.set_ylabel('Número de linhas')\n",
    "\n",
    "# Adiciona o número respectivo em cima de cada barra\n",
    "def autolabel(rects):\n",
    "    for rect in rects:\n",
    "        height = rect.get_height()\n",
    "        ax.annotate('{}'.format(height),\n",
    "                    xy=(rect.get_x() + rect.get_width() / 2, height),\n",
    "                    xytext=(0, 3),  # desloca o texto 3 pontos acima\n",
    "                    textcoords=\"offset points\",\n",
    "                    ha='center', va='bottom')\n",
    "\n",
    "autolabel(rects1)\n",
    "plt.show()\n",
    "\n",
    "# Gráfico de barras para as colunas\n",
    "fig, ax = plt.subplots()\n",
    "rects2 = ax.bar(['Base Inicial', 'Base Final'], [num_columns_df, num_columns_df_final], color=['#001E62', '#bcbab8'])\n",
    "ax.set_title('Comparação do número de colunas')\n",
    "ax.set_ylabel('Número de colunas')\n",
    "\n",
    "# Adiciona o número respectivo em cima de cada barra\n",
    "autolabel(rects2)\n",
    "plt.show()\n"
   ]
  },
  {
   "cell_type": "markdown",
   "id": "c309efeb",
   "metadata": {},
   "source": [
    "## Hipóteses do grupo de colunas que afetem e não afetam a análise dos sentimentos dos cliente.\n",
    "\n"
   ]
  },
  {
   "cell_type": "markdown",
   "id": "d21ef7bc",
   "metadata": {},
   "source": [
    "### Colunas que não afetam na análise de sentimento:"
   ]
  },
  {
   "cell_type": "markdown",
   "id": "aecd1cf1",
   "metadata": {},
   "source": [
    "Colunas que não afetam na análise de sentimento:\n",
    "Segundo nossas hipóteses, as colunas que podem não estar relacionadas a verificação do sentimento dos clientes do BTG Pactual através dos comentários são:\n",
    "\n",
    "- **id :** esta informação não tem relação direta com o sentimento do cliente e não ajudará a entender sua opinião sobre seus produtos ou serviços.\n",
    "\n",
    "- **Autor :** informação não diretamente relacionada ao sentimento do cliente, a menos que haja uma hipótese específica sobre isso.\n",
    "\n",
    "- **Tipo de Interação :** informação não diretamente relacionada ao sentimento do cliente e não ajudará a entender sua opinião sobre seus produtos ou serviços.\n",
    "\n",
    "- **Link do post :** informação não diretamente relacionada ao sentimento do cliente e não ajudará a entender sua opinião sobre seus produtos ou serviços.\n",
    "\n",
    "- **Processado :** Esta coluna pode ser relevante dependendo do seu objetivo de análise. Se a coluna indicar se um comentário foi processado por um software de análise de sentimento, por exemplo, ela pode ser útil para entender a precisão dos resultados da análise.\n",
    "\n",
    "- **Contém Hyperlink :** informação não diretamente relacionada ao sentimento do cliente e não ajudará a entender sua opinião sobre seus produtos ou serviços.\n",
    "\n",
    "- **Probabilidade de anomalia :** Esta coluna pode ser relevante dependendo do seu objetivo de análise. Se a coluna indicar a probabilidade de um comentário ser uma anomalia, ela pode ser útil para entender a qualidade geral dos dados."
   ]
  },
  {
   "cell_type": "markdown",
   "id": "86084f71",
   "metadata": {},
   "source": [
    "### Colunas que tem relação direta com o resultado da análise de sentimento dos clientes:\n"
   ]
  },
  {
   "cell_type": "markdown",
   "id": "12b0292a",
   "metadata": {},
   "source": [
    "Já as colunas que podem ter relação direta com\n",
    "\n",
    "- **Texto :** Esta é a coluna mais importante, pois contém o feedback direto dos clientes sobre seus produtos ou serviços.\n",
    "\n",
    "- **Data da Publicação :** A data pode ser útil para detectar tendências temporais e mudanças na percepção do cliente ao longo do tempo.\n",
    "\n",
    "- **Sentimento :** Esta coluna é importante, pois é onde está registrado o sentimento do cliente em relação ao produto ou serviço."
   ]
  },
  {
   "cell_type": "markdown",
   "id": "bc1f62df",
   "metadata": {},
   "source": [
    "### Gráfico das colunas relevantes e irrelevantes segundo hipóteses feitas pelo grupo.\n",
    "\n"
   ]
  },
  {
   "cell_type": "code",
   "execution_count": null,
   "id": "c056d1a5",
   "metadata": {},
   "outputs": [],
   "source": [
    "\n",
    "# Definir os dados do gráfico\n",
    "columns = ['Texto', 'Data da Publicação', 'Sentimento', 'id', 'Autor', 'Tipo de Interação', 'Link do post', 'Processado', 'Contém Hyperlink', 'Probabilidade de anomalia']\n",
    "relevant_quantity = [3, 1, 1, 0, 0, 0, 0, 0, 0, 0]\n",
    "irrelevant_quantity = [0, 0, 0, 1, 1, 1, 1, 1, 1, 1]\n",
    "\n",
    "# Plotar o gráfico\n",
    "fig, ax = plt.subplots(figsize=(8, 6))\n",
    "ax.bar(columns, relevant_quantity, color='green', label='Colunas relevantes')\n",
    "ax.bar(columns, irrelevant_quantity, bottom=relevant_quantity, color='red', label='Colunas irrelevantes')\n",
    "ax.set_xticklabels(columns, rotation=90)\n",
    "ax.set_ylabel('Quantidade de colunas')\n",
    "ax.legend()\n",
    "\n",
    "plt.show()"
   ]
  },
  {
   "cell_type": "code",
   "execution_count": null,
   "id": "59395007",
   "metadata": {},
   "outputs": [],
   "source": [
    "# Contagem de sentimentos\n",
    "fellings = df_tokenizationStopWords['sentimento'].value_counts()\n",
    "print(fellings)\n",
    "\n",
    "# Contagem de palavras na primeira base \"df\"\n",
    "words_df = df['\"texto\"'].str.split().apply(len).sum()\n",
    "print(\"Número total de palavras nos comentários da base inicial:\", words_df)\n",
    "\n",
    "# Contagem de palavras na última base\n",
    "words_df_tokenizaçãoStopWords = df_tokenizationStopWords['texto'].str.split().apply(len).sum()\n",
    "print(\"Número total de palavras nos comentários da base após tratamento:\", df_tokenizationStopWords)\n"
   ]
  },
  {
   "cell_type": "markdown",
   "id": "1d8e8a6f",
   "metadata": {},
   "source": [
    "### Porcentagem dos sentimentos dos cliente (na porcentagem de neutros há a consideração de emojis, o que torna o número impreciso).\n",
    "\n"
   ]
  },
  {
   "cell_type": "code",
   "execution_count": null,
   "id": "87060114",
   "metadata": {},
   "outputs": [],
   "source": [
    "# Lista de cores\n",
    "colors = ['#FFE1BE', '#8C0019', '#195AB4']\n",
    "\n",
    "# Contagem de sentimentos\n",
    "fellings = df_tokenizationStopWords['sentimento'].value_counts()\n",
    "\n",
    "# Cria um gráfico de pizza com as contagens de sentimentos\n",
    "fig, ax = plt.subplots()\n",
    "ax.pie(fellings.values, labels=fellings.index, autopct='%1.1f%%', startangle=90, colors=colors)\n",
    "ax.axis('equal')\n",
    "\n",
    "plt.title('Porcentagem relacionada aos sentimentos nos comentários \\n das postagens no Instagram feitos pelos clientes do BTG Pactual')\n",
    "\n",
    "# Mostra o gráfico\n",
    "plt.show()"
   ]
  },
  {
   "cell_type": "markdown",
   "id": "9b66ff5f",
   "metadata": {},
   "source": [
    "Função \"describe\" da base de dados inicial.\n",
    "\n"
   ]
  },
  {
   "cell_type": "code",
   "execution_count": null,
   "id": "197f4fed",
   "metadata": {},
   "outputs": [],
   "source": [
    "df.describe()\n"
   ]
  },
  {
   "cell_type": "code",
   "execution_count": null,
   "id": "b8c9d742",
   "metadata": {},
   "outputs": [],
   "source": [
    "# Ordena as palavras em ordem decrescente pela frequência e seleciona as 20 primeiras\n",
    "top_words = df_bagOfWords.sort_values(by='Frequência', ascending=False)['Palavra'].head(20).tolist()\n",
    "\n",
    "# Imprime as 20 palavras mais frequentes\n",
    "print('As 20 palavras mais frequentes são: ', top_words)"
   ]
  },
  {
   "cell_type": "markdown",
   "id": "18578362",
   "metadata": {},
   "source": [
    "## Importando as bibliotecas "
   ]
  },
  {
   "cell_type": "markdown",
   "id": "8ca54d5f",
   "metadata": {},
   "source": [
    "Nesta etapa são importadas e baixadas as bibliotecas e pacotes das mesmas, necessárias para as análises, gráficos, funções e para gerar o modelo Bag of Words."
   ]
  },
  {
   "cell_type": "code",
   "execution_count": null,
   "id": "073d92eb",
   "metadata": {
    "scrolled": false
   },
   "outputs": [],
   "source": [
    "pip install openpyxl\n"
   ]
  },
  {
   "cell_type": "code",
   "execution_count": null,
   "id": "90884182",
   "metadata": {},
   "outputs": [],
   "source": [
    "pip install scikit-learn"
   ]
  },
  {
   "cell_type": "code",
   "execution_count": null,
   "id": "792b6425",
   "metadata": {
    "scrolled": true
   },
   "outputs": [],
   "source": [
    "pip install keras"
   ]
  },
  {
   "cell_type": "code",
   "execution_count": null,
   "id": "6471d723",
   "metadata": {},
   "outputs": [],
   "source": [
    " pip install tensorflow"
   ]
  },
  {
   "cell_type": "code",
   "execution_count": null,
   "id": "fdfac20a",
   "metadata": {},
   "outputs": [],
   "source": [
    "import numpy as np\n",
    "from nltk.corpus import stopwords\n",
    "from nltk.tokenize import word_tokenize\n",
    "from sklearn.feature_extraction.text import CountVectorizer\n",
    "from keras.preprocessing.text import Tokenizer\n",
    "nltk.download('punkt') \n",
    "nltk.download('stopwords') "
   ]
  },
  {
   "cell_type": "markdown",
   "id": "89a0bd89",
   "metadata": {},
   "source": [
    "### Processamento dos dados "
   ]
  },
  {
   "cell_type": "markdown",
   "id": "5f955c59",
   "metadata": {},
   "source": [
    "### Importando a planilha "
   ]
  },
  {
   "cell_type": "markdown",
   "id": "7ecbc070",
   "metadata": {},
   "source": [
    "Nesta váriavel é feito a importação da planilha que sera utilizada para gerar o bag of words"
   ]
  },
  {
   "cell_type": "code",
   "execution_count": null,
   "id": "9dc835f9",
   "metadata": {},
   "outputs": [],
   "source": [
    "# Abrindo a base de dados \n",
    "df = pd.read_excel('../base/base.xlsx', index_col=0)"
   ]
  },
  {
   "cell_type": "markdown",
   "id": "df1d7025",
   "metadata": {},
   "source": [
    "### Pré processamento dos dados "
   ]
  },
  {
   "cell_type": "markdown",
   "id": "c1a40699",
   "metadata": {},
   "source": [
    "Nesta etapa o foco é limpar da base de dados os dados que não serão utilizados.\n",
    "Portanto, com essa função são removidos todos os comentários que tenham autoria do BTG Pactual e fotos de terceiros que marcavam a companhia.\n"
   ]
  },
  {
   "cell_type": "code",
   "execution_count": null,
   "id": "897d5093",
   "metadata": {},
   "outputs": [],
   "source": [
    "# Esta função remove os dados que não serão utilizados para a análise\n",
    "def clean_data(df):\n",
    "    # Remove as aspas dos nomes das colunas\n",
    "    df = df.rename(columns=lambda x: x.replace('\\\"', ''))\n",
    "    # Remove comentários feito pelo btg\n",
    "    dfWithoutAutor = df[df[\"autor\"] != \"btgpactual\"]\n",
    "    # Remove comentários nulos\n",
    "    dfWithoutNull = dfWithoutAutor[dfWithoutAutor[\"autor\"].notnull()]\n",
    "    # Deixando apenas as interações do tipo comentário e resposta\n",
    "    dfFinal = dfWithoutNull.loc[(dfWithoutNull['tipoInteracao'] == 'comentário') | (dfWithoutNull['tipoInteracao'] == 'resposta')]\n",
    "    return dfFinal"
   ]
  },
  {
   "cell_type": "markdown",
   "id": "3a2a5e8c",
   "metadata": {},
   "source": [
    "#### Caso de teste"
   ]
  },
  {
   "cell_type": "code",
   "execution_count": null,
   "id": "5836ba28",
   "metadata": {
    "scrolled": true
   },
   "outputs": [],
   "source": [
    "# Criando um data frame de teste para validar o pré processamento\n",
    "data_test = {'id': [1, 2, 3, 4, 5],\n",
    "             'dataPublicada': ['03/01/2022', '03/04/2022', '03/07/2022', '03/10/2022', '31/12/2022'],\n",
    "             'autor': ['btgpactual', 'robert87', 'grace46', 'william25', 'john23'],\n",
    "             'texto': [\"Obrigado, 🚀🚀💙\", \"Bom dia, gostaria de saber como faço pra conseguir falar com um atendente humanizado no chat do btg banking?\", \n",
    "                       \"Bom dia, preciso urgente do meu informe de rendimentos do BTLG11, para declaração do meu IR. Já enviei vários e-mails e até o momento sem resposta. Telefone ninguém atende. Como faço?\", \"Pessoal, sempre muito bom mas se eu puder solicitar uma coisa seria legendas 😅\", \"Sempre é aproveitoso parar o q tá fazendo para ouvi-lo\"],\n",
    "             'sentimento': ['NEUTRAL', 'NEUTRAL', 'NEGATIVE', 'POSITIVE', 'POSITIVE'],\n",
    "             'tipoInteracao': [\"comentário\", \"comentário\", \"comentário\", \"marcação\", \"comentário\"],\n",
    "             'anomalia': [1, 0, 0, 1, 1],\n",
    "             'probabilidadeAnomalia': [100, 20, 30, 100, 100],\n",
    "             'linkPost': ['https://www.instagram.com/p/CapXhB5Lvas/#17935401550894179', 'https://www.instagram.com/p/CaqBiRpsYLm/', 'https://www.instagram.com/p/CaqBiRpsYLm/', 'https://www.instagram.com/p/CapXhB5Lvas/#17926096268158628', 'https://www.instagram.com/p/CaR1j2TuPpD/#17914683365221503'],\n",
    "             'processado': [0,0,0,1,1],\n",
    "             'contemHyperlink': [0,0,0,1,1]}\n",
    "               \n",
    "df_testing = pd.DataFrame(data_test)\n"
   ]
  },
  {
   "cell_type": "code",
   "execution_count": null,
   "id": "11b95df0",
   "metadata": {},
   "outputs": [],
   "source": [
    "# Testando a função\n",
    "clean_data_test = df_testing\n",
    "cleaning_test = clean_data(clean_data_test)"
   ]
  },
  {
   "cell_type": "markdown",
   "id": "7e4852b7",
   "metadata": {},
   "source": [
    "Os resultados foram colocados em células separadas para facilitar a visualização."
   ]
  },
  {
   "cell_type": "code",
   "execution_count": null,
   "id": "85c6ed86",
   "metadata": {
    "scrolled": true
   },
   "outputs": [],
   "source": [
    "# Entrada do caso de teste\n",
    "clean_data_test"
   ]
  },
  {
   "cell_type": "code",
   "execution_count": null,
   "id": "4a6933fc",
   "metadata": {},
   "outputs": [],
   "source": [
    "# Resultado do caso de teste\n",
    "cleaning_test"
   ]
  },
  {
   "cell_type": "markdown",
   "id": "7b3e05c9",
   "metadata": {},
   "source": [
    "##### Demonstração da função "
   ]
  },
  {
   "cell_type": "markdown",
   "id": "1fcc8002",
   "metadata": {},
   "source": [
    "Nesta etapa será demonstrado o funcionamento da função na base de dados real "
   ]
  },
  {
   "cell_type": "code",
   "execution_count": null,
   "id": "7fc1f514",
   "metadata": {},
   "outputs": [],
   "source": [
    "cleaning_output = clean_data(df)\n",
    "cleaning_output"
   ]
  },
  {
   "cell_type": "markdown",
   "id": "fc42a085",
   "metadata": {},
   "source": [
    "### Processamento dos dados"
   ]
  },
  {
   "cell_type": "markdown",
   "id": "18e3f8cd",
   "metadata": {},
   "source": [
    "Nesta etapa as frases são tokenizadas (cada palavra da frase é dividida, sendo 1 palavra = 1 token) e removidas as stop words, palavras que não acrescentam significado semântico relevante (e.g: de, para, ou). Além disso, é gerado uma nova coluna que contém os tratamento citados acima aplicado aos comentários (coluna 'texto'). \n"
   ]
  },
  {
   "cell_type": "code",
   "execution_count": null,
   "id": "bf86924f",
   "metadata": {},
   "outputs": [],
   "source": [
    "def processing_comments(frase):\n",
    "    #divide as frases em palavras\n",
    "    palavras = frase.split() \n",
    "    #coloca todas as letras em minúsculas (lower) e remove as stop words\n",
    "    filtered_words = [word for word in palavras if word.lower() not in stop_words\n",
    "                        and not word.startswith('@') and word.isalpha()] \n",
    "    #tokeniza as palavras e organiza cada comentário em uma lista de palavras\n",
    "    tokens = word_tokenize(\" \".join(filtered_words)) \n",
    "    return tokens"
   ]
  },
  {
   "cell_type": "markdown",
   "id": "9493e481",
   "metadata": {},
   "source": [
    "#### Caso de teste"
   ]
  },
  {
   "cell_type": "code",
   "execution_count": null,
   "id": "5769e930",
   "metadata": {},
   "outputs": [],
   "source": [
    "# Testando a função \n",
    "processing_test = cleaning_test['texto']\n",
    "tokenize_test = processing_test.apply(processing_comments)"
   ]
  },
  {
   "cell_type": "code",
   "execution_count": null,
   "id": "5831c953",
   "metadata": {},
   "outputs": [],
   "source": [
    "# Input da função\n",
    "processing_test"
   ]
  },
  {
   "cell_type": "code",
   "execution_count": null,
   "id": "82c8b396",
   "metadata": {},
   "outputs": [],
   "source": [
    "# Resultado da função\n",
    "tokenize_test"
   ]
  },
  {
   "cell_type": "markdown",
   "id": "2b8044c2",
   "metadata": {},
   "source": [
    "##### Demonstração da função "
   ]
  },
  {
   "cell_type": "markdown",
   "id": "25839f92",
   "metadata": {},
   "source": [
    "Nesta etapa será demonstrado o funcionamento da função na base de dados real "
   ]
  },
  {
   "cell_type": "code",
   "execution_count": null,
   "id": "63f6e1e5",
   "metadata": {},
   "outputs": [],
   "source": [
    "processing_output = cleaning_output['texto'].apply(processing_comments)\n",
    "processing_output"
   ]
  },
  {
   "cell_type": "markdown",
   "id": "ef5ae8fb",
   "metadata": {},
   "source": [
    "### Aplicação do modelo "
   ]
  },
  {
   "cell_type": "markdown",
   "id": "91974dc7",
   "metadata": {},
   "source": [
    "Durante esta etapa é feita a implementação do modelo Bag of Words, que vetoriza as palavras e faz a contagem de vezes que cada uma aparece na coluna a ser utilizada. Assim, tendo como resultado um dataframe com as palavras que mais aparecem no texto e sua respectiva frequência."
   ]
  },
  {
   "cell_type": "code",
   "execution_count": null,
   "id": "b30c6f82",
   "metadata": {},
   "outputs": [],
   "source": [
    "def bow_dataframe(inputUser):\n",
    "    tokenizer = Tokenizer()\n",
    "    tokenizer.fit_on_texts(inputUser)\n",
    "    # Com essa variavel é possível ver as palavras e contar sua frequência\n",
    "    wordCount = tokenizer.word_counts    \n",
    "    dfCountBoW = pd.DataFrame(list(wordCount.items()))\n",
    "    dfCountBoW.rename(columns={0: \"Palavra\", 1:\"Frequência\"}, inplace=True)\n",
    "    final_df = dfCountBoW.sort_values(by=['Frequência'], ascending=False)\n",
    "    return final_df"
   ]
  },
  {
   "cell_type": "markdown",
   "id": "4ed0b8c7",
   "metadata": {},
   "source": [
    "#### Caso de teste"
   ]
  },
  {
   "cell_type": "code",
   "execution_count": null,
   "id": "f89ed061",
   "metadata": {},
   "outputs": [],
   "source": [
    "# Testando a função \n",
    "bow_test = tokenize_test\n",
    "bow_test_result = bow_dataframe(tokenize_test)"
   ]
  },
  {
   "cell_type": "code",
   "execution_count": null,
   "id": "24831188",
   "metadata": {},
   "outputs": [],
   "source": [
    "# Input da função\n",
    "tokenize_test"
   ]
  },
  {
   "cell_type": "code",
   "execution_count": null,
   "id": "ac1ec8da",
   "metadata": {},
   "outputs": [],
   "source": [
    "# Output da função\n",
    "bow_test_result.head(5)"
   ]
  },
  {
   "cell_type": "markdown",
   "id": "d5189bf5",
   "metadata": {},
   "source": [
    "##### Demonstração da função "
   ]
  },
  {
   "cell_type": "markdown",
   "id": "22f7f6dd",
   "metadata": {},
   "source": [
    "Nesta etapa será demonstrado o funcionamento da função na base de dados real "
   ]
  },
  {
   "cell_type": "code",
   "execution_count": null,
   "id": "4e24f229",
   "metadata": {
    "scrolled": true
   },
   "outputs": [],
   "source": [
    "result_output = bow_dataframe(processing_output)\n",
    "result_output.head(10)"
   ]
  },
  {
   "cell_type": "markdown",
   "id": "8c3cb010",
   "metadata": {},
   "source": [
    "### Pipeline de processamento completo"
   ]
  },
  {
   "cell_type": "markdown",
   "id": "d173a9f8",
   "metadata": {},
   "source": [
    "Nesta etapa há todo o processamento da planilha em apenas uma função que retorna um csv completo das palavras já tokenizadas."
   ]
  },
  {
   "cell_type": "code",
   "execution_count": null,
   "id": "46c2cce2",
   "metadata": {},
   "outputs": [],
   "source": [
    "#Função para rodar nosso modelo de bag of words, essa função recebe um dataframe\n",
    "def pipeline(base):\n",
    "    #limpeza da base de dados\n",
    "    base1 = clean_data(base)\n",
    "    #tokenização da coluna de textos\n",
    "    base1['Frases_sem_stop_words'] = base1['texto'].apply(processing_comments)\n",
    "    return base1\n",
    "    "
   ]
  },
  {
   "cell_type": "markdown",
   "id": "57e2f2c6",
   "metadata": {},
   "source": [
    "#### Caso de teste"
   ]
  },
  {
   "cell_type": "code",
   "execution_count": null,
   "id": "057970a2",
   "metadata": {},
   "outputs": [],
   "source": [
    "#Entrada\n",
    "df_testing"
   ]
  },
  {
   "cell_type": "code",
   "execution_count": null,
   "id": "564c34a3",
   "metadata": {},
   "outputs": [],
   "source": [
    "# Resultado da função Pipeline\n",
    "pipeline_output_test = pipeline(df_testing)\n",
    "pipeline_output_test"
   ]
  },
  {
   "cell_type": "markdown",
   "id": "5f8d644f",
   "metadata": {},
   "source": [
    "#### Baixar o resultado do modelo "
   ]
  },
  {
   "cell_type": "markdown",
   "id": "150cd758",
   "metadata": {},
   "source": [
    "##### Demonstração da função "
   ]
  },
  {
   "cell_type": "markdown",
   "id": "cef3e060",
   "metadata": {},
   "source": [
    "Nesta etapa sera gerado o resultado da função e retornando todo o tratamento da base"
   ]
  },
  {
   "cell_type": "code",
   "execution_count": null,
   "id": "07d5bd5a",
   "metadata": {},
   "outputs": [],
   "source": [
    "result_pipeline = pipeline(df)\n",
    "result_pipeline"
   ]
  },
  {
   "cell_type": "code",
   "execution_count": null,
   "id": "bb98af2b",
   "metadata": {},
   "outputs": [],
   "source": [
    "# Para salvar o resultado final basta apenas descomentar a linha a seguir\n",
    "#result_pipeline.to_csv('..\\\\output\\\\Resultado-Processamento.csv',encoding='utf-8', index=False, header=True, )"
   ]
  },
  {
   "cell_type": "markdown",
   "id": "71f0d119",
   "metadata": {},
   "source": [
    "### Resultado completo"
   ]
  },
  {
   "cell_type": "markdown",
   "id": "48a9192d",
   "metadata": {},
   "source": [
    "Com todas etapas já feitas previamente, agora é a hora de rodar a limpeza dos dados e ter o resultado do bag of words."
   ]
  },
  {
   "cell_type": "code",
   "execution_count": null,
   "id": "6d151f7a",
   "metadata": {},
   "outputs": [],
   "source": [
    "# Limpando os dados originais\n",
    "cleaned_df = pipeline(df)"
   ]
  },
  {
   "cell_type": "code",
   "execution_count": null,
   "id": "6789323b",
   "metadata": {},
   "outputs": [],
   "source": [
    "# Resultado Bag of Words\n",
    "result_final = bow_dataframe(cleaned_df['Frases_sem_stop_words'])\n",
    "result_final.head(10)"
   ]
  },
  {
   "cell_type": "code",
   "execution_count": null,
   "id": "9d0fc3fa",
   "metadata": {},
   "outputs": [],
   "source": [
    "cleaned_df['Frases_sem_stop_words'] = cleaned_df['Frases_sem_stop_words'].apply(lambda x: [word.lower() for word in x])\n",
    "cleaned_df"
   ]
  },
  {
   "cell_type": "code",
   "execution_count": null,
   "id": "b050f67d",
   "metadata": {
    "scrolled": false
   },
   "outputs": [],
   "source": [
    "# df_processada['tokens_processados']\n",
    "# df_processada['tokens_processados'] = df_processada['tokens_processados'].apply(lambda x: x.replace(\"'\", \"\"))\n",
    "\n",
    "# df_processada"
   ]
  },
  {
   "cell_type": "code",
   "execution_count": null,
   "id": "99ead3d2",
   "metadata": {
    "scrolled": false
   },
   "outputs": [],
   "source": [
    "\n",
    "def train_word2vec_model(cleaned_df):\n",
    "    # Treinar o modelo Word2Vec\n",
    "    model = Word2Vec(cleaned_df['Frases_sem_stop_words'], min_count=1)\n",
    "\n",
    "    # Criar um DataFrame com as palavras e seus vetores\n",
    "    word_vectors = pd.DataFrame(model.wv.index_to_key, columns=['word'])\n",
    "    word_vectors['vector'] = word_vectors['word'].apply(lambda x: model.wv[x])\n",
    "\n",
    "    return word_vectors"
   ]
  },
  {
   "cell_type": "code",
   "execution_count": null,
   "id": "273c7d67",
   "metadata": {},
   "outputs": [],
   "source": [
    "def create_sentence_vector(model, cleaned_df):\n",
    "    sentence_table = []\n",
    "    for sentence in cleaned_df['Frases_sem_stop_words']:\n",
    "        word_vectors = [model.wv[word] for word in sentence if word in model.wv]\n",
    "        if len(word_vectors) > 0:\n",
    "            sentence_vector = sum(word_vectors) / len(word_vectors)\n",
    "        else:\n",
    "            sentence_vector = [None] * 100  # Cria uma lista de 100 elementos None\n",
    "        sentence_table.append((sentence, *sentence_vector[:50]))  # Adiciona apenas os primeiros 50 elementos do vetor\n",
    "\n",
    "    column_labels = ['Frase']\n",
    "    for i in range(50):\n",
    "        column_labels.append(f'Vetor{i+1}')\n",
    "    df_vec = pd.DataFrame(sentence_table, columns=column_labels)\n",
    "\n",
    "    cleaned_df[\"sentimentoNumerico\"] = cleaned_df[\"sentimento\"].replace({'NEGATIVE': -1, 'POSITIVE': 1, 'NEUTRAL': 0})\n",
    "\n",
    "    # Definir o índice do DataFrame df_vec como o mesmo índice de df_processada['sentimentoNumerico']\n",
    "    df_vec.set_index(cleaned_df[\"sentimentoNumerico\"].index, inplace=True)\n",
    "\n",
    "    df_vec['sentimento'] = cleaned_df[\"sentimentoNumerico\"]\n",
    "    df_vec = df_vec.dropna()\n",
    "\n",
    "    return df_vec"
   ]
  },
  {
   "cell_type": "code",
   "execution_count": null,
   "id": "604ca56d",
   "metadata": {},
   "outputs": [],
   "source": [
    "df_vec = create_sentence_vector(model, cleaned_df)\n",
    "df_vec"
   ]
  },
  {
   "cell_type": "code",
   "execution_count": null,
   "id": "f210f534",
   "metadata": {},
   "outputs": [],
   "source": []
  },
  {
   "cell_type": "code",
   "execution_count": null,
   "id": "3ef635c0",
   "metadata": {},
   "outputs": [],
   "source": [
    "\n",
    "df_vec.to_csv('..\\\\output\\\\word2veec.csv',encoding='utf-8', index=False, header=True, )"
   ]
  }
 ],
 "metadata": {
  "kernelspec": {
   "display_name": "Python 3 (ipykernel)",
   "language": "python",
   "name": "python3"
  },
  "language_info": {
   "codemirror_mode": {
    "name": "ipython",
    "version": 3
   },
   "file_extension": ".py",
   "mimetype": "text/x-python",
   "name": "python",
   "nbconvert_exporter": "python",
   "pygments_lexer": "ipython3",
   "version": "3.10.11"
  }
 },
 "nbformat": 4,
 "nbformat_minor": 5
}
